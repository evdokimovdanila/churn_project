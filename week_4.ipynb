{
 "cells": [
  {
   "cell_type": "code",
   "execution_count": 1,
   "metadata": {
    "id": "FP4yRfK2qoFK"
   },
   "outputs": [],
   "source": [
    "import pandas as pd\n",
    "import numpy as np\n",
    "import scipy as sc\n",
    "import sklearn\n",
    "from sklearn.model_selection import train_test_split, cross_val_score, ShuffleSplit\n",
    "from sklearn.linear_model import LogisticRegression, RidgeClassifier\n",
    "from sklearn.preprocessing import OneHotEncoder, LabelEncoder\n",
    "from sklearn.ensemble import RandomForestClassifier, GradientBoostingClassifier\n",
    "from sklearn.svm import SVC\n",
    "from sklearn.metrics import f1_score, accuracy_score, roc_auc_score\n",
    "import warnings\n",
    "warnings.filterwarnings('ignore')"
   ]
  },
  {
   "cell_type": "markdown",
   "metadata": {
    "id": "HxBvlucKeMix"
   },
   "source": [
    "Выгрузка данных"
   ]
  },
  {
   "cell_type": "code",
   "execution_count": 3,
   "metadata": {
    "id": "IVKtFZ7uqyFS"
   },
   "outputs": [],
   "source": [
    "data = pd.read_csv('data/orange_small_churn_data.txt')\n",
    "label = pd.read_csv('data/orange_small_churn_labels.txt', header=None,names=['label'])"
   ]
  },
  {
   "cell_type": "markdown",
   "metadata": {
    "id": "bz8VMTTteYuX"
   },
   "source": [
    "Выделение вешественных и категориальных признаков"
   ]
  },
  {
   "cell_type": "code",
   "execution_count": 4,
   "metadata": {
    "id": "GX0SdqlivcQb"
   },
   "outputs": [],
   "source": [
    "numeric_label = data.columns[:190]\n",
    "categorical_label = data.columns[190:]"
   ]
  },
  {
   "cell_type": "code",
   "execution_count": 5,
   "metadata": {
    "colab": {
     "base_uri": "https://localhost:8080/"
    },
    "id": "NRLnkJ03ZDxC",
    "outputId": "1c5081ae-6cbb-4ecf-ed44-47b082e77c98"
   },
   "outputs": [
    {
     "name": "stdout",
     "output_type": "stream",
     "text": [
      "<class 'pandas.core.frame.DataFrame'>\n",
      "RangeIndex: 40000 entries, 0 to 39999\n",
      "Columns: 190 entries, Var1 to Var190\n",
      "dtypes: float64(189), int64(1)\n",
      "memory usage: 58.0 MB\n"
     ]
    }
   ],
   "source": [
    "data[numeric_label].info()"
   ]
  },
  {
   "cell_type": "code",
   "execution_count": 6,
   "metadata": {
    "id": "rzmSHQy6ZMbf"
   },
   "outputs": [],
   "source": [
    "numeric_data = data[numeric_label]\n",
    "cat_data = data[categorical_label]"
   ]
  },
  {
   "cell_type": "markdown",
   "metadata": {
    "id": "6GJr1-mafJwW"
   },
   "source": [
    "Отбор признаков у которых ненулевых значений больше половины "
   ]
  },
  {
   "cell_type": "code",
   "execution_count": 7,
   "metadata": {
    "colab": {
     "base_uri": "https://localhost:8080/"
    },
    "id": "xyPkUEYGwqx3",
    "outputId": "0cfccc67-8550-4dbd-9b7c-bb612847406c"
   },
   "outputs": [
    {
     "data": {
      "text/plain": [
       "39"
      ]
     },
     "execution_count": 7,
     "metadata": {},
     "output_type": "execute_result"
    }
   ],
   "source": [
    "correct_name = []\n",
    "for name in numeric_data.columns:\n",
    "    if np.sum(~numeric_data[name].isnull()) >= 25000:\n",
    "        correct_name.append(name)\n",
    "len(correct_name)"
   ]
  },
  {
   "cell_type": "code",
   "execution_count": 8,
   "metadata": {
    "colab": {
     "base_uri": "https://localhost:8080/"
    },
    "id": "-THdmnt7kL28",
    "outputId": "f6c7db84-4817-4b38-f55b-9a136dd4869d"
   },
   "outputs": [
    {
     "data": {
      "text/plain": [
       "28"
      ]
     },
     "execution_count": 8,
     "metadata": {},
     "output_type": "execute_result"
    }
   ],
   "source": [
    "cat_name = []\n",
    "for name in cat_data.columns:\n",
    "    if np.sum(~cat_data[name].isnull()) >= 25000:\n",
    "        cat_name.append(name)\n",
    "len(cat_name)"
   ]
  },
  {
   "cell_type": "markdown",
   "metadata": {
    "id": "alKxzqDPfZgg"
   },
   "source": [
    "Замена пропусков на среднее значенние у вещественных признаков "
   ]
  },
  {
   "cell_type": "code",
   "execution_count": 9,
   "metadata": {
    "id": "g2ujUMP3XcoA"
   },
   "outputs": [],
   "source": [
    "correct_data = data[correct_name]\n",
    "mean_data = correct_data.mean(axis='index')\n",
    "\n",
    "for i, name in enumerate(correct_name):\n",
    "    correct_data[name].fillna(mean_data[i], inplace=True)"
   ]
  },
  {
   "cell_type": "markdown",
   "metadata": {
    "id": "0XJny1tyfiO4"
   },
   "source": [
    "LabelEncoding для категориальных признаков\n",
    "\n"
   ]
  },
  {
   "cell_type": "code",
   "execution_count": 10,
   "metadata": {
    "id": "cGAQecGJahAV"
   },
   "outputs": [],
   "source": [
    "cat_data = data[cat_name]\n",
    "transform_cat_data = cat_data.copy()\n",
    "for name in cat_data.columns:\n",
    "    transform_cat_data[name] = LabelEncoder().fit_transform(cat_data[name])\n"
   ]
  },
  {
   "cell_type": "markdown",
   "metadata": {
    "id": "KKesa6M6fwGG"
   },
   "source": [
    "Балансиврока данных"
   ]
  },
  {
   "cell_type": "code",
   "execution_count": 11,
   "metadata": {
    "colab": {
     "base_uri": "https://localhost:8080/"
    },
    "id": "W7C0ns77fyQl",
    "outputId": "905b8a21-597a-4583-8554-059ca36f2977"
   },
   "outputs": [
    {
     "data": {
      "text/plain": [
       "label\n",
       "-1       37024\n",
       " 1        2976\n",
       "dtype: int64"
      ]
     },
     "execution_count": 11,
     "metadata": {},
     "output_type": "execute_result"
    }
   ],
   "source": [
    "label.value_counts()"
   ]
  },
  {
   "cell_type": "code",
   "execution_count": 12,
   "metadata": {
    "id": "d6iyC5XNIEXG"
   },
   "outputs": [],
   "source": [
    "index_b = label[label['label'] == 1].index"
   ]
  },
  {
   "cell_type": "code",
   "execution_count": 13,
   "metadata": {
    "colab": {
     "base_uri": "https://localhost:8080/"
    },
    "id": "pvIS9G90Ju4L",
    "outputId": "e0c6b4db-98d1-4f89-c128-2614d5ce49df"
   },
   "outputs": [
    {
     "data": {
      "text/plain": [
       "34048"
      ]
     },
     "execution_count": 13,
     "metadata": {},
     "output_type": "execute_result"
    }
   ],
   "source": [
    "k = len(label[label['label'] == -1]) - len(label[label['label'] == 1])\n",
    "k"
   ]
  },
  {
   "cell_type": "code",
   "execution_count": 14,
   "metadata": {
    "id": "7QUq8BcIIQnS"
   },
   "outputs": [],
   "source": [
    "np.random.seed(42)\n",
    "indices_to_add = np.random.choice(index_b, k)"
   ]
  },
  {
   "cell_type": "code",
   "execution_count": 15,
   "metadata": {
    "colab": {
     "base_uri": "https://localhost:8080/"
    },
    "id": "W1QHhA2xJf8r",
    "outputId": "9e16f1af-9560-4e89-d917-01941d0594ba"
   },
   "outputs": [
    {
     "data": {
      "text/plain": [
       "array([11241, 17017, 14879, ..., 37101, 20973, 25393], dtype=int64)"
      ]
     },
     "execution_count": 15,
     "metadata": {},
     "output_type": "execute_result"
    }
   ],
   "source": [
    "indices_to_add"
   ]
  },
  {
   "cell_type": "code",
   "execution_count": 16,
   "metadata": {
    "id": "vFo66ysb7KLV"
   },
   "outputs": [],
   "source": [
    "total_data = correct_data.merge(transform_cat_data, left_index=True, right_index=True)"
   ]
  },
  {
   "cell_type": "markdown",
   "metadata": {
    "id": "hWQAmX0RgCeY"
   },
   "source": [
    "Создание фрейма, который надо добавить по методике oversampling"
   ]
  },
  {
   "cell_type": "code",
   "execution_count": 17,
   "metadata": {
    "id": "exDEJSEfKdHa"
   },
   "outputs": [],
   "source": [
    "data_add = total_data.iloc[indices_to_add, :]\n",
    "label_add = label.iloc[indices_to_add, :]"
   ]
  },
  {
   "cell_type": "code",
   "execution_count": 18,
   "metadata": {
    "id": "GUCiy9T586FW"
   },
   "outputs": [],
   "source": [
    "total_data = pd.concat([total_data, data_add])\n",
    "total_label = pd.concat([label, label_add])"
   ]
  },
  {
   "cell_type": "code",
   "execution_count": 19,
   "metadata": {
    "colab": {
     "base_uri": "https://localhost:8080/"
    },
    "id": "buV7lK1_L3J4",
    "outputId": "3389aee0-57d9-41b2-8bc4-565e80fa7b0f"
   },
   "outputs": [
    {
     "data": {
      "text/plain": [
       "(74048, 67)"
      ]
     },
     "execution_count": 19,
     "metadata": {},
     "output_type": "execute_result"
    }
   ],
   "source": [
    "total_data.shape"
   ]
  },
  {
   "cell_type": "markdown",
   "metadata": {
    "id": "ixaIKX2qgMfG"
   },
   "source": [
    "Разделение на обучение и тест"
   ]
  },
  {
   "cell_type": "code",
   "execution_count": 20,
   "metadata": {
    "id": "gcghut0PYFoW"
   },
   "outputs": [],
   "source": [
    "train_data, test_data, train_target, test_target = train_test_split(total_data, total_label, random_state=42, test_size=0.3) "
   ]
  },
  {
   "cell_type": "code",
   "execution_count": 21,
   "metadata": {
    "id": "coyWOKGrakbp"
   },
   "outputs": [],
   "source": [
    "cv_spliter = ShuffleSplit(n_splits=5, test_size=0.3)"
   ]
  },
  {
   "cell_type": "code",
   "execution_count": 22,
   "metadata": {
    "id": "obl-sz9Za3R9"
   },
   "outputs": [],
   "source": [
    "cv_res = cross_val_score(LogisticRegression(), train_data, train_target, cv=cv_spliter, scoring='f1')"
   ]
  },
  {
   "cell_type": "code",
   "execution_count": 23,
   "metadata": {
    "colab": {
     "base_uri": "https://localhost:8080/"
    },
    "id": "7A7UOFS-bovQ",
    "outputId": "dc703359-b17b-4b64-a6a6-318e7a7c5d47"
   },
   "outputs": [
    {
     "data": {
      "text/plain": [
       "array([0.5334575 , 0.60050598, 0.57474601, 0.56309078, 0.56746182])"
      ]
     },
     "execution_count": 23,
     "metadata": {},
     "output_type": "execute_result"
    }
   ],
   "source": [
    "cv_res"
   ]
  },
  {
   "cell_type": "markdown",
   "metadata": {
    "id": "c0B8b3sWgf6k"
   },
   "source": [
    "Обучение на всех данных и проверка на отложенной выборке"
   ]
  },
  {
   "cell_type": "code",
   "execution_count": 24,
   "metadata": {
    "id": "ify4PJHGbucU"
   },
   "outputs": [],
   "source": [
    "model = LogisticRegression().fit(train_data, train_target)"
   ]
  },
  {
   "cell_type": "markdown",
   "metadata": {
    "id": "WXyHPzF6g-6F"
   },
   "source": [
    "Оценка качества"
   ]
  },
  {
   "cell_type": "code",
   "execution_count": 25,
   "metadata": {
    "id": "2HS1BYHmg9EE"
   },
   "outputs": [],
   "source": [
    "predict_train = model.predict(train_data)\n",
    "predict_test = model.predict(test_data)"
   ]
  },
  {
   "cell_type": "code",
   "execution_count": 26,
   "metadata": {
    "colab": {
     "base_uri": "https://localhost:8080/"
    },
    "id": "1KvLVjvAhUek",
    "outputId": "9be0c963-ce96-4bf1-9075-cc6d1b80b751"
   },
   "outputs": [
    {
     "name": "stdout",
     "output_type": "stream",
     "text": [
      "f1_score by train data: 0.5637819290888296\n",
      "f1_score by test data: 0.562474889513861\n",
      "\n",
      "accuracy_score by train data: 0.5585051993903498\n",
      "accuracy_score by test data: 0.5588116137744767\n",
      "\n",
      "roc_score by train data: 0.5585290849160585\n",
      "roc_score by test data: 0.5588468928980397\n",
      "\n"
     ]
    }
   ],
   "source": [
    "print(f\"f1_score by train data: {f1_score(predict_train, train_target)}\")\n",
    "print(f\"f1_score by test data: {f1_score(predict_test, test_target)}\")\n",
    "print()\n",
    "\n",
    "print(f\"accuracy_score by train data: {accuracy_score(predict_train, train_target)}\")\n",
    "print(f\"accuracy_score by test data: {accuracy_score(predict_test, test_target)}\")\n",
    "print()\n",
    "\n",
    "print(f\"roc_score by train data: {roc_auc_score(predict_train, train_target)}\")\n",
    "print(f\"roc_score by test data: {roc_auc_score(predict_test, test_target)}\")\n",
    "print()"
   ]
  },
  {
   "cell_type": "markdown",
   "metadata": {
    "id": "-pv1Q85LhwZ3"
   },
   "source": [
    "Base line  получен качество составило примерно 0.55\n",
    "\n",
    "Baseline:\n",
    "\n",
    "1.Отбор признаков по пропускам\n",
    "\n",
    "2.преобразование кат признаков labelencoder\n",
    "\n",
    "3.балансировка по oversampling\n",
    "\n",
    "4.logostocregression "
   ]
  },
  {
   "cell_type": "markdown",
   "metadata": {
    "id": "EyC62Zkihsc4"
   },
   "source": [
    "Upgrade model\n",
    "\n",
    "Преобразуем данные вещественные оставим также, а категориальные изменим.\n",
    "\n",
    "Выведим статистику по кол уникальных значений кат признаков"
   ]
  },
  {
   "cell_type": "code",
   "execution_count": 27,
   "metadata": {
    "colab": {
     "base_uri": "https://localhost:8080/"
    },
    "id": "mPPm3sypHDvh",
    "outputId": "12ffbc4f-7fe5-4161-8ceb-194f151ace59"
   },
   "outputs": [
    {
     "name": "stdout",
     "output_type": "stream",
     "text": [
      "Var192 355\n",
      "Var193 50\n",
      "Var195 23\n",
      "Var196 4\n",
      "Var197 221\n",
      "Var198 3891\n",
      "Var199 4401\n",
      "Var202 5543\n",
      "Var203 6\n",
      "Var204 100\n",
      "Var205 4\n",
      "Var206 22\n",
      "Var207 14\n",
      "Var208 3\n",
      "Var210 6\n",
      "Var211 2\n",
      "Var212 78\n",
      "Var216 1819\n",
      "Var217 12471\n",
      "Var218 3\n",
      "Var219 23\n",
      "Var220 3891\n",
      "Var221 7\n",
      "Var222 3891\n",
      "Var223 5\n",
      "Var226 23\n",
      "Var227 7\n",
      "Var228 30\n"
     ]
    }
   ],
   "source": [
    "cat_data = data[cat_name]\n",
    "for name in cat_data.columns:\n",
    "    print(name, len(cat_data[name].unique()))\n",
    "     "
   ]
  },
  {
   "cell_type": "markdown",
   "metadata": {
    "id": "qZL1taetHDvi"
   },
   "source": [
    "ПРизнаки с 2 значаниями закодируем как бинарные\n",
    "\n",
    "Признаки со значениями меньше 5 закодируем one_hot\n",
    "\n",
    "Признаки со значениями больше 5 закодируем hash-trick векторами размера 5"
   ]
  },
  {
   "cell_type": "code",
   "execution_count": 28,
   "metadata": {
    "colab": {
     "base_uri": "https://localhost:8080/"
    },
    "id": "4GdIdhgUPhQd",
    "outputId": "b4d0aee0-48eb-4309-e781-c9784ee9f129"
   },
   "outputs": [
    {
     "data": {
      "text/plain": [
       "array([  355,    50,    23,     4,   221,  3891,  4401,  5543,     6,\n",
       "         100,     4,    22,    14,     3,     6,     2,    78,  1819,\n",
       "       12471,     3,    23,  3891,     7,  3891,     5,    23,     7,\n",
       "          30])"
      ]
     },
     "execution_count": 28,
     "metadata": {},
     "output_type": "execute_result"
    }
   ],
   "source": [
    "counts_unique_value = np.array([len(cat_data[name].unique()) for name in cat_data.columns])\n",
    "counts_unique_value"
   ]
  },
  {
   "cell_type": "code",
   "execution_count": 29,
   "metadata": {
    "id": "oLdKxEiSPzFV"
   },
   "outputs": [],
   "source": [
    "binar_column = cat_data.columns[counts_unique_value <=2]\n",
    "ohe_column = cat_data.columns[(counts_unique_value > 2)&(counts_unique_value <= 5)]\n",
    "hash_column = cat_data.columns[counts_unique_value > 5]"
   ]
  },
  {
   "cell_type": "markdown",
   "metadata": {
    "id": "4qOFTZlz0E4w"
   },
   "source": [
    "Бинарные данные"
   ]
  },
  {
   "cell_type": "code",
   "execution_count": 30,
   "metadata": {
    "id": "AeyYdD52P7cy"
   },
   "outputs": [],
   "source": [
    "binar_data = cat_data[binar_column]\n",
    "\n",
    "for name in binar_data.columns:\n",
    "  binar_data[name] = LabelEncoder().fit_transform(binar_data[name])"
   ]
  },
  {
   "cell_type": "code",
   "execution_count": 31,
   "metadata": {
    "colab": {
     "base_uri": "https://localhost:8080/",
     "height": 391
    },
    "id": "BFq-yFybSFIw",
    "outputId": "052dbf19-70c6-454d-946d-111cea86d2bf"
   },
   "outputs": [
    {
     "data": {
      "text/html": [
       "<div>\n",
       "<style scoped>\n",
       "    .dataframe tbody tr th:only-of-type {\n",
       "        vertical-align: middle;\n",
       "    }\n",
       "\n",
       "    .dataframe tbody tr th {\n",
       "        vertical-align: top;\n",
       "    }\n",
       "\n",
       "    .dataframe thead th {\n",
       "        text-align: right;\n",
       "    }\n",
       "</style>\n",
       "<table border=\"1\" class=\"dataframe\">\n",
       "  <thead>\n",
       "    <tr style=\"text-align: right;\">\n",
       "      <th></th>\n",
       "      <th>Var211</th>\n",
       "    </tr>\n",
       "  </thead>\n",
       "  <tbody>\n",
       "    <tr>\n",
       "      <th>0</th>\n",
       "      <td>0</td>\n",
       "    </tr>\n",
       "    <tr>\n",
       "      <th>1</th>\n",
       "      <td>0</td>\n",
       "    </tr>\n",
       "    <tr>\n",
       "      <th>2</th>\n",
       "      <td>0</td>\n",
       "    </tr>\n",
       "    <tr>\n",
       "      <th>3</th>\n",
       "      <td>0</td>\n",
       "    </tr>\n",
       "    <tr>\n",
       "      <th>4</th>\n",
       "      <td>0</td>\n",
       "    </tr>\n",
       "    <tr>\n",
       "      <th>...</th>\n",
       "      <td>...</td>\n",
       "    </tr>\n",
       "    <tr>\n",
       "      <th>39995</th>\n",
       "      <td>0</td>\n",
       "    </tr>\n",
       "    <tr>\n",
       "      <th>39996</th>\n",
       "      <td>0</td>\n",
       "    </tr>\n",
       "    <tr>\n",
       "      <th>39997</th>\n",
       "      <td>0</td>\n",
       "    </tr>\n",
       "    <tr>\n",
       "      <th>39998</th>\n",
       "      <td>0</td>\n",
       "    </tr>\n",
       "    <tr>\n",
       "      <th>39999</th>\n",
       "      <td>1</td>\n",
       "    </tr>\n",
       "  </tbody>\n",
       "</table>\n",
       "<p>40000 rows × 1 columns</p>\n",
       "</div>"
      ],
      "text/plain": [
       "       Var211\n",
       "0           0\n",
       "1           0\n",
       "2           0\n",
       "3           0\n",
       "4           0\n",
       "...       ...\n",
       "39995       0\n",
       "39996       0\n",
       "39997       0\n",
       "39998       0\n",
       "39999       1\n",
       "\n",
       "[40000 rows x 1 columns]"
      ]
     },
     "execution_count": 31,
     "metadata": {},
     "output_type": "execute_result"
    }
   ],
   "source": [
    "binar_data"
   ]
  },
  {
   "cell_type": "markdown",
   "metadata": {
    "id": "S_syP_uf0Ikt"
   },
   "source": [
    "Горячее кодирование"
   ]
  },
  {
   "cell_type": "code",
   "execution_count": 32,
   "metadata": {
    "id": "_eZWShKbWB8t"
   },
   "outputs": [],
   "source": [
    "ohe_data = OneHotEncoder(sparse=False).fit_transform(cat_data[ohe_column])"
   ]
  },
  {
   "cell_type": "code",
   "execution_count": 33,
   "metadata": {
    "colab": {
     "base_uri": "https://localhost:8080/"
    },
    "id": "efwyNxGEW1sw",
    "outputId": "9e1ee586-9ab4-4cb4-8e92-63189010ac89"
   },
   "outputs": [
    {
     "data": {
      "text/plain": [
       "array([[1., 0., 0., ..., 0., 0., 0.],\n",
       "       [1., 0., 0., ..., 0., 0., 0.],\n",
       "       [1., 0., 0., ..., 0., 0., 0.],\n",
       "       ...,\n",
       "       [1., 0., 0., ..., 0., 0., 0.],\n",
       "       [1., 0., 0., ..., 0., 0., 0.],\n",
       "       [1., 0., 0., ..., 0., 0., 0.]])"
      ]
     },
     "execution_count": 33,
     "metadata": {},
     "output_type": "execute_result"
    }
   ],
   "source": [
    "ohe_data"
   ]
  },
  {
   "cell_type": "markdown",
   "metadata": {
    "id": "hMi8cfcL0MDS"
   },
   "source": [
    "Hash trick"
   ]
  },
  {
   "cell_type": "code",
   "execution_count": 34,
   "metadata": {
    "id": "ai_qL-n3XFT7"
   },
   "outputs": [],
   "source": [
    "hashes = np.array([hash(value) % 5 for value in cat_data[hash_column[0]].unique()])"
   ]
  },
  {
   "cell_type": "code",
   "execution_count": 35,
   "metadata": {
    "colab": {
     "base_uri": "https://localhost:8080/"
    },
    "id": "sNPcCXnzo1Fv",
    "outputId": "727e6be4-740a-48e1-e1b5-15f0598adc6d"
   },
   "outputs": [
    {
     "data": {
      "text/plain": [
       "array([2, 1, 3, 2, 1, 0, 1, 3, 3, 3, 4, 3, 1, 0, 4, 2, 0, 3, 0, 0, 3, 0,\n",
       "       1, 3, 3, 4, 0, 4, 3, 2, 3, 1, 2, 2, 1, 4, 1, 1, 2, 2, 2, 1, 1, 0,\n",
       "       3, 0, 0, 2, 4, 2, 4, 0, 1, 4, 4, 3, 1, 2, 3, 4, 3, 4, 2, 1, 0, 0,\n",
       "       2, 4, 4, 1, 2, 1, 2, 1, 3, 3, 1, 2, 3, 0, 1, 1, 0, 3, 0, 0, 4, 1,\n",
       "       2, 3, 3, 3, 1, 3, 4, 2, 0, 1, 3, 1, 0, 4, 4, 0, 2, 4, 2, 3, 4, 3,\n",
       "       4, 4, 2, 0, 3, 2, 1, 3, 3, 1, 2, 3, 4, 3, 1, 4, 1, 3, 4, 3, 1, 2,\n",
       "       0, 3, 0, 2, 2, 3, 4, 3, 3, 0, 3, 4, 1, 4, 1, 4, 3, 2, 1, 2, 0, 4,\n",
       "       4, 2, 0, 3, 3, 3, 0, 4, 1, 3, 4, 2, 2, 0, 0, 3, 4, 1, 3, 0, 1, 3,\n",
       "       3, 2, 2, 3, 0, 3, 1, 0, 1, 1, 3, 4, 3, 3, 2, 0, 2, 0, 4, 2, 3, 3,\n",
       "       3, 0, 4, 2, 1, 1, 0, 0, 3, 2, 2, 4, 4, 1, 4, 4, 3, 1, 4, 2, 3, 2,\n",
       "       1, 3, 0, 2, 2, 2, 4, 2, 2, 0, 2, 4, 4, 3, 3, 1, 1, 4, 0, 4, 4, 0,\n",
       "       2, 1, 3, 4, 4, 0, 2, 2, 1, 1, 3, 0, 0, 3, 1, 3, 2, 1, 3, 3, 3, 0,\n",
       "       2, 0, 0, 2, 0, 3, 0, 1, 2, 1, 2, 2, 2, 0, 0, 3, 1, 0, 1, 4, 2, 0,\n",
       "       1, 4, 3, 1, 3, 0, 3, 2, 4, 0, 0, 4, 4, 0, 4, 1, 4, 3, 4, 0, 0, 2,\n",
       "       1, 3, 3, 4, 4, 1, 3, 0, 3, 4, 3, 2, 4, 1, 2, 1, 1, 3, 1, 0, 1, 0,\n",
       "       0, 1, 1, 4, 2, 0, 0, 0, 2, 1, 2, 2, 3, 4, 4, 3, 4, 3, 2, 0, 3, 2,\n",
       "       1, 0, 4])"
      ]
     },
     "execution_count": 35,
     "metadata": {},
     "output_type": "execute_result"
    }
   ],
   "source": [
    "hashes"
   ]
  },
  {
   "cell_type": "code",
   "execution_count": 36,
   "metadata": {
    "id": "Cqc_xF9Cp18r"
   },
   "outputs": [],
   "source": [
    "def vector_hash(data, n_vector, name):\n",
    "  data_hash = []\n",
    "  for value in data:\n",
    "    vector = [0] * n_vector\n",
    "    change_value = name + value if type(value) != float else name\n",
    "    value_hash = hash(change_value) % n_vector\n",
    "    vector[value_hash] = 1\n",
    "    data_hash.append(vector)\n",
    "  return np.array(data_hash)"
   ]
  },
  {
   "cell_type": "code",
   "execution_count": 37,
   "metadata": {
    "colab": {
     "base_uri": "https://localhost:8080/"
    },
    "id": "qtHl6IYvvbzC",
    "outputId": "291e1b66-9830-4c21-b3cc-d22f5972f12a"
   },
   "outputs": [
    {
     "data": {
      "text/plain": [
       "array([[1, 0, 0, 0, 0],\n",
       "       [0, 1, 0, 0, 0],\n",
       "       [0, 1, 0, 0, 0],\n",
       "       ...,\n",
       "       [0, 0, 1, 0, 0],\n",
       "       [1, 0, 0, 0, 0],\n",
       "       [0, 0, 1, 0, 0]])"
      ]
     },
     "execution_count": 37,
     "metadata": {},
     "output_type": "execute_result"
    }
   ],
   "source": [
    "test = vector_hash(cat_data[hash_column[0]], 5, hash_column[0])\n",
    "test"
   ]
  },
  {
   "cell_type": "code",
   "execution_count": 38,
   "metadata": {
    "id": "ngOWi7jzsd_N"
   },
   "outputs": [],
   "source": [
    "hash_data = []\n",
    "for name in hash_column:\n",
    "  vector_feat = vector_hash(cat_data[name], 5, name)\n",
    "  hash_data.append(vector_feat)\n",
    "hash_data = np.hstack(hash_data)"
   ]
  },
  {
   "cell_type": "code",
   "execution_count": 39,
   "metadata": {
    "colab": {
     "base_uri": "https://localhost:8080/"
    },
    "id": "Y17oMb-YqiKN",
    "outputId": "13b4c9a9-92b1-467b-e2f8-5b3b2f782932"
   },
   "outputs": [
    {
     "data": {
      "text/plain": [
       "(40000, 110)"
      ]
     },
     "execution_count": 39,
     "metadata": {},
     "output_type": "execute_result"
    }
   ],
   "source": [
    "hash_data.shape"
   ]
  },
  {
   "cell_type": "markdown",
   "metadata": {
    "id": "1N4cAwB20QIv"
   },
   "source": [
    "Объеденение  ктаегориальных признаков"
   ]
  },
  {
   "cell_type": "code",
   "execution_count": 40,
   "metadata": {
    "id": "hSNzPsltzHRU"
   },
   "outputs": [],
   "source": [
    "cat_data_up = np.hstack((binar_data, ohe_data, hash_data))\n",
    "cat_data_up = pd.DataFrame(cat_data_up)\n"
   ]
  },
  {
   "cell_type": "markdown",
   "metadata": {
    "id": "1swiu1E_1KGm"
   },
   "source": [
    "Объеденение с вещественными признаками"
   ]
  },
  {
   "cell_type": "code",
   "execution_count": 41,
   "metadata": {
    "id": "1LWo81Ov0q3k"
   },
   "outputs": [],
   "source": [
    "total_data_up = correct_data.merge(cat_data_up, left_index=True, right_index=True)"
   ]
  },
  {
   "cell_type": "markdown",
   "metadata": {
    "id": "-9uD6rM-1rNs"
   },
   "source": [
    "Балансировка"
   ]
  },
  {
   "cell_type": "code",
   "execution_count": 42,
   "metadata": {
    "id": "EWNx92nW1p-y"
   },
   "outputs": [],
   "source": [
    "data_add_up = total_data_up.iloc[indices_to_add, :]\n",
    "label_add_up = label.iloc[indices_to_add, :]"
   ]
  },
  {
   "cell_type": "code",
   "execution_count": 43,
   "metadata": {
    "id": "E6NuLoH_12lx"
   },
   "outputs": [],
   "source": [
    "total_data_up = pd.concat([total_data_up, data_add_up])\n",
    "total_label_up = pd.concat([label, label_add_up])"
   ]
  },
  {
   "cell_type": "code",
   "execution_count": 44,
   "metadata": {
    "colab": {
     "base_uri": "https://localhost:8080/"
    },
    "id": "ayvZoxJB2Dd0",
    "outputId": "9b55a37c-0a13-4a20-a3f0-df6da8c145cf"
   },
   "outputs": [
    {
     "data": {
      "text/plain": [
       "(74048, 169)"
      ]
     },
     "execution_count": 44,
     "metadata": {},
     "output_type": "execute_result"
    }
   ],
   "source": [
    "total_data_up.shape"
   ]
  },
  {
   "cell_type": "markdown",
   "metadata": {
    "id": "eFD2oGZt2YLX"
   },
   "source": [
    "Обучение модели"
   ]
  },
  {
   "cell_type": "code",
   "execution_count": 45,
   "metadata": {
    "id": "oVt6bqiX2GIB"
   },
   "outputs": [],
   "source": [
    "train_data_up, test_data_up, train_target_up, test_target_up = train_test_split(total_data_up, total_label_up, random_state=42, test_size=0.3) "
   ]
  },
  {
   "cell_type": "code",
   "execution_count": 46,
   "metadata": {
    "id": "sK4P47R92Tlw"
   },
   "outputs": [],
   "source": [
    "cv_spliter = ShuffleSplit(n_splits=5, test_size=0.3)"
   ]
  },
  {
   "cell_type": "code",
   "execution_count": 47,
   "metadata": {
    "id": "VnHHhqrW2XsR"
   },
   "outputs": [],
   "source": [
    "cv_res = cross_val_score(LogisticRegression(), train_data_up, train_target_up, cv=cv_spliter, scoring='f1')"
   ]
  },
  {
   "cell_type": "code",
   "execution_count": 48,
   "metadata": {
    "colab": {
     "base_uri": "https://localhost:8080/"
    },
    "id": "C1srkePE2f5R",
    "outputId": "97df0f7c-f294-4e5d-c238-c6fec46128c2"
   },
   "outputs": [
    {
     "data": {
      "text/plain": [
       "array([0.56113635, 0.55036726, 0.52670756, 0.56043739, 0.54648481])"
      ]
     },
     "execution_count": 48,
     "metadata": {},
     "output_type": "execute_result"
    }
   ],
   "source": [
    "cv_res"
   ]
  },
  {
   "cell_type": "markdown",
   "metadata": {
    "id": "INL4VxgM4W_u"
   },
   "source": [
    "Логистическая регрессия отработала не лучше на новых признаках, попробуем xgboost c новыми признаками"
   ]
  },
  {
   "cell_type": "code",
   "execution_count": 49,
   "metadata": {
    "id": "iFdF5uKp2lqC"
   },
   "outputs": [],
   "source": [
    "import xgboost as xgb"
   ]
  },
  {
   "cell_type": "code",
   "execution_count": 56,
   "metadata": {
    "id": "yL73MqRm3bK1"
   },
   "outputs": [
    {
     "name": "stdout",
     "output_type": "stream",
     "text": [
      "[21:54:05] WARNING: ..\\src\\learner.cc:1115: Starting in XGBoost 1.3.0, the default evaluation metric used with the objective 'binary:logistic' was changed from 'error' to 'logloss'. Explicitly set eval_metric if you'd like to restore the old behavior.\n",
      "[21:54:11] WARNING: ..\\src\\learner.cc:1115: Starting in XGBoost 1.3.0, the default evaluation metric used with the objective 'binary:logistic' was changed from 'error' to 'logloss'. Explicitly set eval_metric if you'd like to restore the old behavior.\n",
      "[21:54:16] WARNING: ..\\src\\learner.cc:1115: Starting in XGBoost 1.3.0, the default evaluation metric used with the objective 'binary:logistic' was changed from 'error' to 'logloss'. Explicitly set eval_metric if you'd like to restore the old behavior.\n",
      "[21:54:22] WARNING: ..\\src\\learner.cc:1115: Starting in XGBoost 1.3.0, the default evaluation metric used with the objective 'binary:logistic' was changed from 'error' to 'logloss'. Explicitly set eval_metric if you'd like to restore the old behavior.\n",
      "[21:54:27] WARNING: ..\\src\\learner.cc:1115: Starting in XGBoost 1.3.0, the default evaluation metric used with the objective 'binary:logistic' was changed from 'error' to 'logloss'. Explicitly set eval_metric if you'd like to restore the old behavior.\n"
     ]
    }
   ],
   "source": [
    "cv_res = cross_val_score(xgb.XGBClassifier(n_estimators=100, max_depth=5), train_data_up, train_target_up, cv=cv_spliter, scoring='f1')"
   ]
  },
  {
   "cell_type": "code",
   "execution_count": 58,
   "metadata": {
    "colab": {
     "base_uri": "https://localhost:8080/"
    },
    "id": "0I8xMo1B3zzC",
    "outputId": "cb42f83a-c8d8-488b-edab-6f28744163b4"
   },
   "outputs": [
    {
     "name": "stdout",
     "output_type": "stream",
     "text": [
      "[0.84973966 0.86051633 0.85833384 0.86334189 0.8514115 ]\n",
      "0.8566686461163016\n"
     ]
    }
   ],
   "source": [
    "print(cv_res)\n",
    "print(cv_res.mean())"
   ]
  },
  {
   "cell_type": "markdown",
   "metadata": {},
   "source": [
    "Обучение на всех данных и предсказание на тесте"
   ]
  },
  {
   "cell_type": "code",
   "execution_count": 52,
   "metadata": {},
   "outputs": [
    {
     "name": "stdout",
     "output_type": "stream",
     "text": [
      "[21:51:42] WARNING: ..\\src\\learner.cc:1115: Starting in XGBoost 1.3.0, the default evaluation metric used with the objective 'binary:logistic' was changed from 'error' to 'logloss'. Explicitly set eval_metric if you'd like to restore the old behavior.\n"
     ]
    }
   ],
   "source": [
    "model_up = xgb.XGBClassifier(n_estimators=100, max_depth=5).fit(train_data_up, train_target_up)"
   ]
  },
  {
   "cell_type": "code",
   "execution_count": 54,
   "metadata": {},
   "outputs": [],
   "source": [
    "predict_train_up = model_up.predict(train_data_up)\n",
    "predict_test_up = model_up.predict(test_data_up)"
   ]
  },
  {
   "cell_type": "code",
   "execution_count": 55,
   "metadata": {},
   "outputs": [
    {
     "name": "stdout",
     "output_type": "stream",
     "text": [
      "f1_score by train data: 0.8895424593276499\n",
      "f1_score by test data: 0.8602307329416304\n",
      "\n",
      "accuracy_score by train data: 0.8855169486620492\n",
      "accuracy_score by test data: 0.8532973216295296\n",
      "\n",
      "roc_score by train data: 0.8875097658710969\n",
      "roc_score by test data: 0.8570144254262632\n",
      "\n"
     ]
    }
   ],
   "source": [
    "print(f\"f1_score by train data: {f1_score(predict_train_up, train_target_up)}\")\n",
    "print(f\"f1_score by test data: {f1_score(predict_test_up, test_target_up)}\")\n",
    "print()\n",
    "\n",
    "print(f\"accuracy_score by train data: {accuracy_score(predict_train_up, train_target_up)}\")\n",
    "print(f\"accuracy_score by test data: {accuracy_score(predict_test_up, test_target_up)}\")\n",
    "print()\n",
    "\n",
    "print(f\"roc_score by train data: {roc_auc_score(predict_train_up, train_target_up)}\")\n",
    "print(f\"roc_score by test data: {roc_auc_score(predict_test_up, test_target_up)}\")\n",
    "print()"
   ]
  },
  {
   "cell_type": "markdown",
   "metadata": {
    "id": "MxACN7nM4mdE"
   },
   "source": [
    "Попробуем xgboost на простом преобразование категориальных данных"
   ]
  },
  {
   "cell_type": "code",
   "execution_count": 59,
   "metadata": {
    "id": "tJL1Isla32BQ"
   },
   "outputs": [
    {
     "name": "stdout",
     "output_type": "stream",
     "text": [
      "[21:55:36] WARNING: ..\\src\\learner.cc:1115: Starting in XGBoost 1.3.0, the default evaluation metric used with the objective 'binary:logistic' was changed from 'error' to 'logloss'. Explicitly set eval_metric if you'd like to restore the old behavior.\n",
      "[21:55:39] WARNING: ..\\src\\learner.cc:1115: Starting in XGBoost 1.3.0, the default evaluation metric used with the objective 'binary:logistic' was changed from 'error' to 'logloss'. Explicitly set eval_metric if you'd like to restore the old behavior.\n",
      "[21:55:43] WARNING: ..\\src\\learner.cc:1115: Starting in XGBoost 1.3.0, the default evaluation metric used with the objective 'binary:logistic' was changed from 'error' to 'logloss'. Explicitly set eval_metric if you'd like to restore the old behavior.\n",
      "[21:55:47] WARNING: ..\\src\\learner.cc:1115: Starting in XGBoost 1.3.0, the default evaluation metric used with the objective 'binary:logistic' was changed from 'error' to 'logloss'. Explicitly set eval_metric if you'd like to restore the old behavior.\n",
      "[21:55:50] WARNING: ..\\src\\learner.cc:1115: Starting in XGBoost 1.3.0, the default evaluation metric used with the objective 'binary:logistic' was changed from 'error' to 'logloss'. Explicitly set eval_metric if you'd like to restore the old behavior.\n"
     ]
    }
   ],
   "source": [
    "cv_res_old = cross_val_score(xgb.XGBClassifier(n_estimators=100, max_depth=5), train_data, train_target, cv=cv_spliter, \n",
    "                             scoring='f1')"
   ]
  },
  {
   "cell_type": "code",
   "execution_count": 61,
   "metadata": {},
   "outputs": [
    {
     "name": "stdout",
     "output_type": "stream",
     "text": [
      "[0.86894708 0.86747281 0.86192875 0.86557377 0.86349749]\n",
      "0.8654839806023749\n"
     ]
    }
   ],
   "source": [
    "print(cv_res_old)\n",
    "print(cv_res_old.mean())"
   ]
  },
  {
   "cell_type": "markdown",
   "metadata": {},
   "source": [
    "Использование более сложной обработки категориальных признаков не дает дополнительного прироста качества, оставим простой labelencoding"
   ]
  },
  {
   "cell_type": "code",
   "execution_count": 62,
   "metadata": {},
   "outputs": [
    {
     "name": "stdout",
     "output_type": "stream",
     "text": [
      "[22:00:59] WARNING: ..\\src\\learner.cc:1115: Starting in XGBoost 1.3.0, the default evaluation metric used with the objective 'binary:logistic' was changed from 'error' to 'logloss'. Explicitly set eval_metric if you'd like to restore the old behavior.\n"
     ]
    }
   ],
   "source": [
    "model_old_up =  xgb.XGBClassifier(n_estimators=100, max_depth=5).fit(train_data, train_target)"
   ]
  },
  {
   "cell_type": "code",
   "execution_count": 69,
   "metadata": {},
   "outputs": [],
   "source": [
    "predict_train = model_old_up.predict(train_data)\n",
    "predict_test = model_old_up.predict(test_data)"
   ]
  },
  {
   "cell_type": "code",
   "execution_count": 66,
   "metadata": {},
   "outputs": [
    {
     "name": "stdout",
     "output_type": "stream",
     "text": [
      "f1_score by train data: 0.8958642158316039\n",
      "f1_score by test data: 0.8696697728346288\n",
      "\n",
      "accuracy_score by train data: 0.8915748654332182\n",
      "accuracy_score by test data: 0.8633805986945757\n",
      "\n",
      "roc_score by train data: 0.8941746079875249\n",
      "roc_score by test data: 0.8669997600242892\n",
      "\n"
     ]
    }
   ],
   "source": [
    "print(f\"f1_score by train data: {f1_score(predict_train, train_target)}\")\n",
    "print(f\"f1_score by test data: {f1_score(predict_test, test_target)}\")\n",
    "print()\n",
    "\n",
    "print(f\"accuracy_score by train data: {accuracy_score(predict_train, train_target)}\")\n",
    "print(f\"accuracy_score by test data: {accuracy_score(predict_test, test_target)}\")\n",
    "print()\n",
    "\n",
    "print(f\"roc_score by train data: {roc_auc_score(predict_train, train_target)}\")\n",
    "print(f\"roc_score by test data: {roc_auc_score(predict_test, test_target)}\")\n",
    "print()"
   ]
  },
  {
   "cell_type": "markdown",
   "metadata": {},
   "source": [
    "Прогноз вероятности"
   ]
  },
  {
   "cell_type": "code",
   "execution_count": 73,
   "metadata": {},
   "outputs": [
    {
     "data": {
      "text/plain": [
       "array([[0.66767305, 0.33232695],\n",
       "       [0.28389835, 0.71610165],\n",
       "       [0.8012305 , 0.19876952],\n",
       "       ...,\n",
       "       [0.14735246, 0.85264754],\n",
       "       [0.9307357 , 0.06926431],\n",
       "       [0.9680642 , 0.03193581]], dtype=float32)"
      ]
     },
     "execution_count": 73,
     "metadata": {},
     "output_type": "execute_result"
    }
   ],
   "source": [
    "predict_train_proba = model_old_up.predict_proba(train_data)\n",
    "predict_test_proba = model_old_up.predict_proba(test_data)\n",
    "predict_train_proba # 2 столбец"
   ]
  },
  {
   "cell_type": "markdown",
   "metadata": {},
   "source": [
    "Обучение и прогноз на даных из соревнования"
   ]
  },
  {
   "cell_type": "code",
   "execution_count": null,
   "metadata": {},
   "outputs": [],
   "source": []
  }
 ],
 "metadata": {
  "colab": {
   "collapsed_sections": [],
   "name": "week_4.ipynb",
   "provenance": []
  },
  "kernelspec": {
   "display_name": "Python 3",
   "language": "python",
   "name": "python3"
  },
  "language_info": {
   "codemirror_mode": {
    "name": "ipython",
    "version": 3
   },
   "file_extension": ".py",
   "mimetype": "text/x-python",
   "name": "python",
   "nbconvert_exporter": "python",
   "pygments_lexer": "ipython3",
   "version": "3.8.8"
  }
 },
 "nbformat": 4,
 "nbformat_minor": 1
}
