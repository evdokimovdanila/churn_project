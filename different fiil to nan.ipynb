{
 "cells": [
  {
   "cell_type": "code",
   "execution_count": 1,
   "id": "4fae4a58",
   "metadata": {},
   "outputs": [],
   "source": [
    "import xgboost as xgb\n",
    "from sklearn import preprocessing \n",
    "from sklearn.preprocessing import LabelEncoder, StandardScaler, OneHotEncoder\n",
    "from sklearn.linear_model import LogisticRegression, RidgeClassifier\n",
    "from sklearn.metrics import classification_report, roc_auc_score\n",
    "from sklearn.model_selection import cross_val_score, train_test_split, StratifiedShuffleSplit, GridSearchCV\n",
    "import numpy as np\n",
    "import pandas as pd\n",
    "import warnings\n",
    "warnings.filterwarnings('ignore')\n",
    "from sklearn.pipeline import Pipeline, FeatureUnion\n",
    "from sklearn.experimental import enable_iterative_imputer\n",
    "from sklearn.impute import SimpleImputer, IterativeImputer,KNNImputer"
   ]
  },
  {
   "cell_type": "markdown",
   "id": "14ed0359",
   "metadata": {},
   "source": [
    "# Download data"
   ]
  },
  {
   "cell_type": "code",
   "execution_count": 2,
   "id": "f4c42677",
   "metadata": {},
   "outputs": [],
   "source": [
    "data = pd.read_csv('./data/orange_small_churn_train_data.csv')"
   ]
  },
  {
   "cell_type": "code",
   "execution_count": 3,
   "id": "34b43761",
   "metadata": {},
   "outputs": [
    {
     "data": {
      "text/html": [
       "<div>\n",
       "<style scoped>\n",
       "    .dataframe tbody tr th:only-of-type {\n",
       "        vertical-align: middle;\n",
       "    }\n",
       "\n",
       "    .dataframe tbody tr th {\n",
       "        vertical-align: top;\n",
       "    }\n",
       "\n",
       "    .dataframe thead th {\n",
       "        text-align: right;\n",
       "    }\n",
       "</style>\n",
       "<table border=\"1\" class=\"dataframe\">\n",
       "  <thead>\n",
       "    <tr style=\"text-align: right;\">\n",
       "      <th></th>\n",
       "      <th>ID</th>\n",
       "      <th>Var1</th>\n",
       "      <th>Var2</th>\n",
       "      <th>Var3</th>\n",
       "      <th>Var4</th>\n",
       "      <th>Var5</th>\n",
       "      <th>Var6</th>\n",
       "      <th>Var7</th>\n",
       "      <th>Var8</th>\n",
       "      <th>Var9</th>\n",
       "      <th>...</th>\n",
       "      <th>Var222</th>\n",
       "      <th>Var223</th>\n",
       "      <th>Var224</th>\n",
       "      <th>Var225</th>\n",
       "      <th>Var226</th>\n",
       "      <th>Var227</th>\n",
       "      <th>Var228</th>\n",
       "      <th>Var229</th>\n",
       "      <th>Var230</th>\n",
       "      <th>labels</th>\n",
       "    </tr>\n",
       "  </thead>\n",
       "  <tbody>\n",
       "    <tr>\n",
       "      <th>0</th>\n",
       "      <td>0</td>\n",
       "      <td>NaN</td>\n",
       "      <td>NaN</td>\n",
       "      <td>NaN</td>\n",
       "      <td>NaN</td>\n",
       "      <td>NaN</td>\n",
       "      <td>3052.0</td>\n",
       "      <td>NaN</td>\n",
       "      <td>NaN</td>\n",
       "      <td>NaN</td>\n",
       "      <td>...</td>\n",
       "      <td>vr93T2a</td>\n",
       "      <td>LM8l689qOp</td>\n",
       "      <td>NaN</td>\n",
       "      <td>NaN</td>\n",
       "      <td>fKCe</td>\n",
       "      <td>02N6s8f</td>\n",
       "      <td>xwM2aC7IdeMC0</td>\n",
       "      <td>NaN</td>\n",
       "      <td>NaN</td>\n",
       "      <td>-1.0</td>\n",
       "    </tr>\n",
       "    <tr>\n",
       "      <th>1</th>\n",
       "      <td>1</td>\n",
       "      <td>NaN</td>\n",
       "      <td>NaN</td>\n",
       "      <td>NaN</td>\n",
       "      <td>NaN</td>\n",
       "      <td>NaN</td>\n",
       "      <td>1813.0</td>\n",
       "      <td>7.0</td>\n",
       "      <td>NaN</td>\n",
       "      <td>NaN</td>\n",
       "      <td>...</td>\n",
       "      <td>6hQ9lNX</td>\n",
       "      <td>LM8l689qOp</td>\n",
       "      <td>NaN</td>\n",
       "      <td>ELof</td>\n",
       "      <td>xb3V</td>\n",
       "      <td>RAYp</td>\n",
       "      <td>55YFVY9</td>\n",
       "      <td>mj86</td>\n",
       "      <td>NaN</td>\n",
       "      <td>-1.0</td>\n",
       "    </tr>\n",
       "    <tr>\n",
       "      <th>2</th>\n",
       "      <td>2</td>\n",
       "      <td>NaN</td>\n",
       "      <td>NaN</td>\n",
       "      <td>NaN</td>\n",
       "      <td>NaN</td>\n",
       "      <td>NaN</td>\n",
       "      <td>1953.0</td>\n",
       "      <td>7.0</td>\n",
       "      <td>NaN</td>\n",
       "      <td>NaN</td>\n",
       "      <td>...</td>\n",
       "      <td>catzS2D</td>\n",
       "      <td>LM8l689qOp</td>\n",
       "      <td>NaN</td>\n",
       "      <td>NaN</td>\n",
       "      <td>FSa2</td>\n",
       "      <td>ZI9m</td>\n",
       "      <td>ib5G6X1eUxUn6</td>\n",
       "      <td>mj86</td>\n",
       "      <td>NaN</td>\n",
       "      <td>-1.0</td>\n",
       "    </tr>\n",
       "    <tr>\n",
       "      <th>3</th>\n",
       "      <td>3</td>\n",
       "      <td>NaN</td>\n",
       "      <td>NaN</td>\n",
       "      <td>NaN</td>\n",
       "      <td>NaN</td>\n",
       "      <td>NaN</td>\n",
       "      <td>1533.0</td>\n",
       "      <td>7.0</td>\n",
       "      <td>NaN</td>\n",
       "      <td>NaN</td>\n",
       "      <td>...</td>\n",
       "      <td>e4lqvY0</td>\n",
       "      <td>LM8l689qOp</td>\n",
       "      <td>NaN</td>\n",
       "      <td>NaN</td>\n",
       "      <td>xb3V</td>\n",
       "      <td>RAYp</td>\n",
       "      <td>F2FyR07IdsN7I</td>\n",
       "      <td>NaN</td>\n",
       "      <td>NaN</td>\n",
       "      <td>1.0</td>\n",
       "    </tr>\n",
       "    <tr>\n",
       "      <th>4</th>\n",
       "      <td>4</td>\n",
       "      <td>NaN</td>\n",
       "      <td>NaN</td>\n",
       "      <td>NaN</td>\n",
       "      <td>NaN</td>\n",
       "      <td>NaN</td>\n",
       "      <td>686.0</td>\n",
       "      <td>7.0</td>\n",
       "      <td>NaN</td>\n",
       "      <td>NaN</td>\n",
       "      <td>...</td>\n",
       "      <td>MAz3HNj</td>\n",
       "      <td>LM8l689qOp</td>\n",
       "      <td>NaN</td>\n",
       "      <td>NaN</td>\n",
       "      <td>WqMG</td>\n",
       "      <td>RAYp</td>\n",
       "      <td>F2FyR07IdsN7I</td>\n",
       "      <td>NaN</td>\n",
       "      <td>NaN</td>\n",
       "      <td>-1.0</td>\n",
       "    </tr>\n",
       "  </tbody>\n",
       "</table>\n",
       "<p>5 rows × 232 columns</p>\n",
       "</div>"
      ],
      "text/plain": [
       "   ID  Var1  Var2  Var3  Var4  Var5    Var6  Var7  Var8  Var9  ...   Var222  \\\n",
       "0   0   NaN   NaN   NaN   NaN   NaN  3052.0   NaN   NaN   NaN  ...  vr93T2a   \n",
       "1   1   NaN   NaN   NaN   NaN   NaN  1813.0   7.0   NaN   NaN  ...  6hQ9lNX   \n",
       "2   2   NaN   NaN   NaN   NaN   NaN  1953.0   7.0   NaN   NaN  ...  catzS2D   \n",
       "3   3   NaN   NaN   NaN   NaN   NaN  1533.0   7.0   NaN   NaN  ...  e4lqvY0   \n",
       "4   4   NaN   NaN   NaN   NaN   NaN   686.0   7.0   NaN   NaN  ...  MAz3HNj   \n",
       "\n",
       "       Var223  Var224  Var225  Var226   Var227         Var228  Var229  Var230  \\\n",
       "0  LM8l689qOp     NaN     NaN    fKCe  02N6s8f  xwM2aC7IdeMC0     NaN     NaN   \n",
       "1  LM8l689qOp     NaN    ELof    xb3V     RAYp        55YFVY9    mj86     NaN   \n",
       "2  LM8l689qOp     NaN     NaN    FSa2     ZI9m  ib5G6X1eUxUn6    mj86     NaN   \n",
       "3  LM8l689qOp     NaN     NaN    xb3V     RAYp  F2FyR07IdsN7I     NaN     NaN   \n",
       "4  LM8l689qOp     NaN     NaN    WqMG     RAYp  F2FyR07IdsN7I     NaN     NaN   \n",
       "\n",
       "   labels  \n",
       "0    -1.0  \n",
       "1    -1.0  \n",
       "2    -1.0  \n",
       "3     1.0  \n",
       "4    -1.0  \n",
       "\n",
       "[5 rows x 232 columns]"
      ]
     },
     "execution_count": 3,
     "metadata": {},
     "output_type": "execute_result"
    }
   ],
   "source": [
    "data.head()"
   ]
  },
  {
   "cell_type": "code",
   "execution_count": 4,
   "id": "e92561aa",
   "metadata": {},
   "outputs": [
    {
     "name": "stdout",
     "output_type": "stream",
     "text": [
      "<class 'pandas.core.frame.DataFrame'>\n",
      "RangeIndex: 18299 entries, 0 to 18298\n",
      "Columns: 232 entries, ID to labels\n",
      "dtypes: float64(192), int64(2), object(38)\n",
      "memory usage: 32.4+ MB\n"
     ]
    }
   ],
   "source": [
    "data.info()"
   ]
  },
  {
   "cell_type": "code",
   "execution_count": 5,
   "id": "67d3da0a",
   "metadata": {},
   "outputs": [
    {
     "data": {
      "text/plain": [
       "{'ID': 0,\n",
       " 'Var1': 18038,\n",
       " 'Var2': 17831,\n",
       " 'Var3': 17832,\n",
       " 'Var4': 17736,\n",
       " 'Var5': 17799,\n",
       " 'Var6': 1991,\n",
       " 'Var7': 1976,\n",
       " 'Var8': 18299,\n",
       " 'Var9': 18038,\n",
       " 'Var10': 17799,\n",
       " 'Var11': 17832,\n",
       " 'Var12': 18085,\n",
       " 'Var13': 1976,\n",
       " 'Var14': 17832,\n",
       " 'Var15': 18299,\n",
       " 'Var16': 17799,\n",
       " 'Var17': 17736,\n",
       " 'Var18': 17736,\n",
       " 'Var19': 17736,\n",
       " 'Var20': 18299,\n",
       " 'Var21': 1991,\n",
       " 'Var22': 1792,\n",
       " 'Var23': 17799,\n",
       " 'Var24': 2616,\n",
       " 'Var25': 1792,\n",
       " 'Var26': 17799,\n",
       " 'Var27': 17799,\n",
       " 'Var28': 1793,\n",
       " 'Var29': 18038,\n",
       " 'Var30': 18038,\n",
       " 'Var31': 18299,\n",
       " 'Var32': 18299,\n",
       " 'Var33': 18010,\n",
       " 'Var34': 17831,\n",
       " 'Var35': 1792,\n",
       " 'Var36': 17831,\n",
       " 'Var37': 17736,\n",
       " 'Var38': 1792,\n",
       " 'Var39': 18299,\n",
       " 'Var40': 17831,\n",
       " 'Var41': 18038,\n",
       " 'Var42': 18299,\n",
       " 'Var43': 17831,\n",
       " 'Var44': 1792,\n",
       " 'Var45': 18171,\n",
       " 'Var46': 17831,\n",
       " 'Var47': 18038,\n",
       " 'Var48': 18299,\n",
       " 'Var49': 17831,\n",
       " 'Var50': 18038,\n",
       " 'Var51': 16888,\n",
       " 'Var52': 18299,\n",
       " 'Var53': 18038,\n",
       " 'Var54': 17831,\n",
       " 'Var55': 18299,\n",
       " 'Var56': 18055,\n",
       " 'Var57': 0,\n",
       " 'Var58': 18038,\n",
       " 'Var59': 17990,\n",
       " 'Var60': 17799,\n",
       " 'Var61': 18010,\n",
       " 'Var62': 18085,\n",
       " 'Var63': 18041,\n",
       " 'Var64': 18215,\n",
       " 'Var65': 1976,\n",
       " 'Var66': 18041,\n",
       " 'Var67': 17799,\n",
       " 'Var68': 17831,\n",
       " 'Var69': 17799,\n",
       " 'Var70': 17799,\n",
       " 'Var71': 17911,\n",
       " 'Var72': 8163,\n",
       " 'Var73': 0,\n",
       " 'Var74': 1976,\n",
       " 'Var75': 17831,\n",
       " 'Var76': 1792,\n",
       " 'Var77': 18038,\n",
       " 'Var78': 1792,\n",
       " 'Var79': 18299,\n",
       " 'Var80': 17799,\n",
       " 'Var81': 1991,\n",
       " 'Var82': 17736,\n",
       " 'Var83': 1792,\n",
       " 'Var84': 17832,\n",
       " 'Var85': 1792,\n",
       " 'Var86': 18038,\n",
       " 'Var87': 18038,\n",
       " 'Var88': 17922,\n",
       " 'Var89': 18055,\n",
       " 'Var90': 18038,\n",
       " 'Var91': 17911,\n",
       " 'Var92': 18247,\n",
       " 'Var93': 17799,\n",
       " 'Var94': 8163,\n",
       " 'Var95': 17831,\n",
       " 'Var96': 17831,\n",
       " 'Var97': 17799,\n",
       " 'Var98': 18085,\n",
       " 'Var99': 17736,\n",
       " 'Var100': 18038,\n",
       " 'Var101': 18009,\n",
       " 'Var102': 18157,\n",
       " 'Var103': 17799,\n",
       " 'Var104': 17990,\n",
       " 'Var105': 17990,\n",
       " 'Var106': 17736,\n",
       " 'Var107': 17799,\n",
       " 'Var108': 18038,\n",
       " 'Var109': 2616,\n",
       " 'Var110': 18038,\n",
       " 'Var111': 17911,\n",
       " 'Var112': 1792,\n",
       " 'Var113': 0,\n",
       " 'Var114': 17831,\n",
       " 'Var115': 17990,\n",
       " 'Var116': 18038,\n",
       " 'Var117': 17736,\n",
       " 'Var118': 18247,\n",
       " 'Var119': 1991,\n",
       " 'Var120': 17799,\n",
       " 'Var121': 18038,\n",
       " 'Var122': 17831,\n",
       " 'Var123': 1792,\n",
       " 'Var124': 17736,\n",
       " 'Var125': 1976,\n",
       " 'Var126': 5044,\n",
       " 'Var127': 17922,\n",
       " 'Var128': 17922,\n",
       " 'Var129': 18038,\n",
       " 'Var130': 17832,\n",
       " 'Var131': 18038,\n",
       " 'Var132': 1792,\n",
       " 'Var133': 1792,\n",
       " 'Var134': 1792,\n",
       " 'Var135': 17736,\n",
       " 'Var136': 18041,\n",
       " 'Var137': 18038,\n",
       " 'Var138': 17736,\n",
       " 'Var139': 17799,\n",
       " 'Var140': 1976,\n",
       " 'Var141': 18299,\n",
       " 'Var142': 18038,\n",
       " 'Var143': 1792,\n",
       " 'Var144': 1991,\n",
       " 'Var145': 17736,\n",
       " 'Var146': 17799,\n",
       " 'Var147': 17799,\n",
       " 'Var148': 17799,\n",
       " 'Var149': 2616,\n",
       " 'Var150': 17736,\n",
       " 'Var151': 18010,\n",
       " 'Var152': 17736,\n",
       " 'Var153': 1792,\n",
       " 'Var154': 18038,\n",
       " 'Var155': 17736,\n",
       " 'Var156': 18041,\n",
       " 'Var157': 17911,\n",
       " 'Var158': 18009,\n",
       " 'Var159': 17831,\n",
       " 'Var160': 1792,\n",
       " 'Var161': 17736,\n",
       " 'Var162': 17831,\n",
       " 'Var163': 1792,\n",
       " 'Var164': 17736,\n",
       " 'Var165': 18009,\n",
       " 'Var166': 17799,\n",
       " 'Var167': 18299,\n",
       " 'Var168': 18038,\n",
       " 'Var169': 18299,\n",
       " 'Var170': 17831,\n",
       " 'Var171': 17922,\n",
       " 'Var172': 17799,\n",
       " 'Var173': 1792,\n",
       " 'Var174': 17736,\n",
       " 'Var175': 18299,\n",
       " 'Var176': 17832,\n",
       " 'Var177': 17831,\n",
       " 'Var178': 18055,\n",
       " 'Var179': 17736,\n",
       " 'Var180': 18038,\n",
       " 'Var181': 1792,\n",
       " 'Var182': 17736,\n",
       " 'Var183': 17831,\n",
       " 'Var184': 17831,\n",
       " 'Var185': 18299,\n",
       " 'Var186': 18038,\n",
       " 'Var187': 18038,\n",
       " 'Var188': 17831,\n",
       " 'Var189': 10618,\n",
       " 'Var190': 18195,\n",
       " 'Var191': 17922,\n",
       " 'Var192': 124,\n",
       " 'Var193': 0,\n",
       " 'Var194': 13660,\n",
       " 'Var195': 0,\n",
       " 'Var196': 0,\n",
       " 'Var197': 55,\n",
       " 'Var198': 0,\n",
       " 'Var199': 2,\n",
       " 'Var200': 9305,\n",
       " 'Var201': 13660,\n",
       " 'Var202': 1,\n",
       " 'Var203': 55,\n",
       " 'Var204': 0,\n",
       " 'Var205': 714,\n",
       " 'Var206': 1991,\n",
       " 'Var207': 0,\n",
       " 'Var208': 55,\n",
       " 'Var209': 18299,\n",
       " 'Var210': 0,\n",
       " 'Var211': 0,\n",
       " 'Var212': 0,\n",
       " 'Var213': 17911,\n",
       " 'Var214': 9305,\n",
       " 'Var215': 18041,\n",
       " 'Var216': 1,\n",
       " 'Var217': 270,\n",
       " 'Var218': 270,\n",
       " 'Var219': 1883,\n",
       " 'Var220': 1,\n",
       " 'Var221': 1,\n",
       " 'Var222': 1,\n",
       " 'Var223': 1883,\n",
       " 'Var224': 17990,\n",
       " 'Var225': 9572,\n",
       " 'Var226': 1,\n",
       " 'Var227': 1,\n",
       " 'Var228': 1,\n",
       " 'Var229': 10366,\n",
       " 'Var230': 18299,\n",
       " 'labels': 1}"
      ]
     },
     "execution_count": 5,
     "metadata": {},
     "output_type": "execute_result"
    }
   ],
   "source": [
    "# check null in features\n",
    "dict_nan = {name: np.sum(data[name].isnull()) for name in data.columns}\n",
    "dict_nan"
   ]
  },
  {
   "cell_type": "code",
   "execution_count": 6,
   "id": "3bde9e6d",
   "metadata": {},
   "outputs": [
    {
     "name": "stdout",
     "output_type": "stream",
     "text": [
      "-1.0    16921\n",
      " 1.0     1377\n",
      "Name: labels, dtype: int64\n",
      "[-1.  1. nan]\n"
     ]
    }
   ],
   "source": [
    "# check disbalance in classes\n",
    "print(data['labels'].value_counts())\n",
    "print(data['labels'].unique())"
   ]
  },
  {
   "cell_type": "code",
   "execution_count": 7,
   "id": "8c1b740b",
   "metadata": {},
   "outputs": [],
   "source": [
    "data['labels'].replace(-1, 0, inplace=True)\n",
    "data.dropna(subset=['labels'], inplace=True)\n",
    "labels = data['labels']\n",
    "data = data.iloc[:,:-1]"
   ]
  },
  {
   "cell_type": "code",
   "execution_count": 8,
   "id": "482b848f",
   "metadata": {},
   "outputs": [
    {
     "data": {
      "text/plain": [
       "0.0    16921\n",
       "1.0     1377\n",
       "Name: labels, dtype: int64"
      ]
     },
     "execution_count": 8,
     "metadata": {},
     "output_type": "execute_result"
    }
   ],
   "source": [
    "labels.value_counts()"
   ]
  },
  {
   "cell_type": "markdown",
   "id": "5aab0b3e",
   "metadata": {},
   "source": [
    "# Simple preprocessing feature"
   ]
  },
  {
   "cell_type": "code",
   "execution_count": 9,
   "id": "54328f82",
   "metadata": {},
   "outputs": [],
   "source": [
    "# drop feture with null more half of dataset\n",
    "def check_feat_without(data, columns, threshold = 0):\n",
    "    flag_nan_col = [np.sum(data[name].isnull()) < threshold for name in columns]\n",
    "    return columns[flag_nan_col]\n",
    "    "
   ]
  },
  {
   "cell_type": "code",
   "execution_count": 10,
   "id": "89b02b17",
   "metadata": {},
   "outputs": [
    {
     "name": "stdout",
     "output_type": "stream",
     "text": [
      "189\n",
      "41\n"
     ]
    }
   ],
   "source": [
    "numeric_col = data.columns[1:190]\n",
    "cat_col = data.columns[190:]\n",
    "print(len(numeric_col))\n",
    "print(len(cat_col))"
   ]
  },
  {
   "cell_type": "code",
   "execution_count": 11,
   "id": "5f44086e",
   "metadata": {},
   "outputs": [
    {
     "name": "stdout",
     "output_type": "stream",
     "text": [
      "41\n",
      "28\n"
     ]
    }
   ],
   "source": [
    "right_numeric_column = check_feat_without(data, numeric_col, threshold = len(data)//2)\n",
    "right_cat_column = check_feat_without(data, cat_col, threshold = len(data)//2)\n",
    "print(len(right_numeric_column))\n",
    "print(len(right_cat_column))"
   ]
  },
  {
   "cell_type": "code",
   "execution_count": 12,
   "id": "dd15f9ff",
   "metadata": {},
   "outputs": [
    {
     "name": "stdout",
     "output_type": "stream",
     "text": [
      "Var192: 326\n",
      "Var193: 44\n",
      "Var195: 21\n",
      "Var196: 4\n",
      "Var197: 207\n",
      "Var198: 2721\n",
      "Var199: 2639\n",
      "Var202: 4673\n",
      "Var203: 4\n",
      "Var204: 100\n",
      "Var205: 4\n",
      "Var206: 22\n",
      "Var207: 12\n",
      "Var208: 3\n",
      "Var210: 6\n",
      "Var211: 2\n",
      "Var212: 71\n",
      "Var216: 1247\n",
      "Var217: 7944\n",
      "Var218: 3\n",
      "Var219: 20\n",
      "Var220: 2721\n",
      "Var221: 7\n",
      "Var222: 2721\n",
      "Var223: 5\n",
      "Var226: 23\n",
      "Var227: 7\n",
      "Var228: 29\n"
     ]
    }
   ],
   "source": [
    "# check unique in cat feat\n",
    "for cur_cat in right_cat_column:\n",
    "    count_uniq = len(data[cur_cat].unique())\n",
    "    print(f'{cur_cat}: {count_uniq}')"
   ]
  },
  {
   "cell_type": "code",
   "execution_count": 13,
   "id": "4f09f0d9",
   "metadata": {},
   "outputs": [
    {
     "name": "stdout",
     "output_type": "stream",
     "text": [
      "Var6: 1039\n",
      "Var7: 7\n",
      "Var13: 1877\n",
      "Var21: 498\n",
      "Var22: 498\n",
      "Var24: 63\n",
      "Var25: 190\n",
      "Var28: 2513\n",
      "Var35: 10\n",
      "Var38: 11908\n",
      "Var44: 6\n",
      "Var57: 14013\n",
      "Var65: 13\n",
      "Var72: 9\n",
      "Var73: 129\n",
      "Var74: 284\n",
      "Var76: 11377\n",
      "Var78: 13\n",
      "Var81: 15952\n",
      "Var83: 130\n",
      "Var85: 109\n",
      "Var94: 8571\n",
      "Var109: 149\n",
      "Var112: 158\n",
      "Var113: 17900\n",
      "Var119: 1003\n",
      "Var123: 191\n",
      "Var125: 6217\n",
      "Var126: 52\n",
      "Var132: 18\n",
      "Var133: 14165\n",
      "Var134: 12639\n",
      "Var140: 1859\n",
      "Var143: 5\n",
      "Var144: 11\n",
      "Var149: 7524\n",
      "Var153: 14567\n",
      "Var160: 273\n",
      "Var163: 9049\n",
      "Var173: 4\n",
      "Var181: 7\n"
     ]
    }
   ],
   "source": [
    "# check unique in num feat\n",
    "for cur_num in right_numeric_column:\n",
    "    count_uniq = len(data[cur_num].unique())\n",
    "    print(f'{cur_num}: {count_uniq}')"
   ]
  },
  {
   "cell_type": "code",
   "execution_count": 14,
   "id": "098c5e77",
   "metadata": {},
   "outputs": [
    {
     "data": {
      "text/plain": [
       "array([ 0., nan,  2.,  4.])"
      ]
     },
     "execution_count": 14,
     "metadata": {},
     "output_type": "execute_result"
    }
   ],
   "source": [
    "data['Var173'].unique()"
   ]
  },
  {
   "cell_type": "markdown",
   "id": "3fb2ffd1",
   "metadata": {},
   "source": [
    "# FILL NAN"
   ]
  },
  {
   "cell_type": "markdown",
   "id": "7adf67e4",
   "metadata": {},
   "source": [
    "We will use different method to fill on nan. The quality will be checked on validation roc auc xgboost "
   ]
  },
  {
   "cell_type": "code",
   "execution_count": 15,
   "id": "f2302a9f",
   "metadata": {},
   "outputs": [],
   "source": [
    "# статистика среднее* ...\n",
    "# ближайшие соседи*\n",
    "# матричное разложение\n",
    "# как прогноз по другим фичам*\n",
    "# метод в деревьях"
   ]
  },
  {
   "cell_type": "code",
   "execution_count": 50,
   "id": "acc47264",
   "metadata": {},
   "outputs": [],
   "source": [
    "model_classifier = xgb.XGBClassifier(eval_metric='mlogloss')"
   ]
  },
  {
   "cell_type": "markdown",
   "id": "311ff7bc",
   "metadata": {},
   "source": [
    "# simple statistic"
   ]
  },
  {
   "cell_type": "code",
   "execution_count": 18,
   "id": "53dee0b9",
   "metadata": {},
   "outputs": [],
   "source": [
    "# class encoder cat\n",
    "class LabelTransformer():\n",
    "#     def __init__(self):\n",
    "#         return self\n",
    "\n",
    "    def fit(self, X, y=None):\n",
    "        self.df = pd.DataFrame(X)\n",
    "        self.columns_trans = self.df.columns.to_numpy()\n",
    "        self.encoder_columns = dict()\n",
    "        self.unique_fitted_value = dict()\n",
    "        for cur_col in self.columns_trans:\n",
    "            unique_val = np.append(self.df[cur_col].unique(), 'unk_val')\n",
    "            self.unique_fitted_value[cur_col] = unique_val\n",
    "            self.encoder_columns[cur_col] = LabelEncoder().fit(unique_val)\n",
    "        return self\n",
    "\n",
    "    def transform(self, X, y=None):\n",
    "        self.df = pd.DataFrame(X)\n",
    "        self.columns_trans = self.df.columns.to_numpy()\n",
    "        for cur_col in self.columns_trans:\n",
    "            \n",
    "            unique_val_trans = self.df[cur_col].unique()\n",
    "            unique_val_trans = unique_val_trans[~pd.isna(unique_val_trans)]\n",
    "            \n",
    "            unique_val_train = self.unique_fitted_value[cur_col]\n",
    "            unique_val_train = unique_val_train[~pd.isna(unique_val_train)]\n",
    "            \n",
    "            dissapear_val = np.setdiff1d(unique_val_trans, unique_val_train)\n",
    "            self.df.loc[self.df[cur_col].isin(dissapear_val), cur_col] = 'unk_val'\n",
    "            self.df[cur_col] = self.encoder_columns[cur_col].transform(self.df[cur_col])\n",
    "            \n",
    "        return self.df\n"
   ]
  },
  {
   "cell_type": "code",
   "execution_count": 19,
   "id": "0f646495",
   "metadata": {},
   "outputs": [
    {
     "ename": "NameError",
     "evalue": "name 'model_classifier' is not defined",
     "output_type": "error",
     "traceback": [
      "\u001b[1;31m---------------------------------------------------------------------------\u001b[0m",
      "\u001b[1;31mNameError\u001b[0m                                 Traceback (most recent call last)",
      "\u001b[1;32m<ipython-input-19-37e244ec24a5>\u001b[0m in \u001b[0;36m<module>\u001b[1;34m\u001b[0m\n\u001b[0;32m     17\u001b[0m         \u001b[1;33m(\u001b[0m\u001b[1;34m'category_variables_processing'\u001b[0m\u001b[1;33m,\u001b[0m \u001b[0mpipeline_cat\u001b[0m\u001b[1;33m)\u001b[0m\u001b[1;33m\u001b[0m\u001b[1;33m\u001b[0m\u001b[0m\n\u001b[0;32m     18\u001b[0m     ])),\n\u001b[1;32m---> 19\u001b[1;33m     \u001b[1;33m(\u001b[0m\u001b[1;34m'model'\u001b[0m\u001b[1;33m,\u001b[0m\u001b[0mmodel_classifier\u001b[0m\u001b[1;33m)\u001b[0m\u001b[1;33m\u001b[0m\u001b[1;33m\u001b[0m\u001b[0m\n\u001b[0m\u001b[0;32m     20\u001b[0m ])\n",
      "\u001b[1;31mNameError\u001b[0m: name 'model_classifier' is not defined"
     ]
    }
   ],
   "source": [
    "pipeline_numeric = Pipeline(steps =[\n",
    "    ('selecting_num', preprocessing.FunctionTransformer(lambda data: data.loc[:, right_numeric_column])),\n",
    "    ('fill_nan_num', SimpleImputer(strategy='mean')),\n",
    "    ('scaler_num', StandardScaler())\n",
    "])\n",
    "\n",
    "pipeline_cat = Pipeline(steps = [\n",
    "    ('selecting_cat', preprocessing.FunctionTransformer(lambda data: data.loc[:, right_cat_column])),\n",
    "    ('fill_nan_cat', SimpleImputer(strategy='most_frequent')),\n",
    "    ('encoder_cat', LabelTransformer())\n",
    "    \n",
    "])\n",
    "\n",
    "estimator = Pipeline(steps=[\n",
    "    ('feature_preprocessing', FeatureUnion(transformer_list=[\n",
    "        ('numeric_variables_processing', pipeline_numeric),\n",
    "        ('category_variables_processing', pipeline_cat)\n",
    "    ])),\n",
    "    ('model',model_classifier)\n",
    "])"
   ]
  },
  {
   "cell_type": "code",
   "execution_count": 20,
   "id": "695551da",
   "metadata": {},
   "outputs": [],
   "source": [
    "train_data, test_data, train_target, test_target = train_test_split(data, labels, random_state = 0, test_size=0.3, shuffle=True,\n",
    "                                                                    stratify=labels)"
   ]
  },
  {
   "cell_type": "code",
   "execution_count": 21,
   "id": "619db93a",
   "metadata": {},
   "outputs": [],
   "source": [
    "cv_strategy = StratifiedShuffleSplit(n_splits=5, test_size=0.3, random_state=42)"
   ]
  },
  {
   "cell_type": "code",
   "execution_count": 86,
   "id": "2785e7ea",
   "metadata": {},
   "outputs": [],
   "source": [
    "cv_xgb = cross_val_score(estimator, train_data, train_target, cv=cv_strategy, scoring='roc_auc')"
   ]
  },
  {
   "cell_type": "code",
   "execution_count": 87,
   "id": "e4d8abdd",
   "metadata": {},
   "outputs": [
    {
     "data": {
      "text/plain": [
       "array([0.65465006, 0.65944313, 0.6508929 , 0.64181691, 0.63815127])"
      ]
     },
     "execution_count": 87,
     "metadata": {},
     "output_type": "execute_result"
    }
   ],
   "source": [
    "cv_xgb "
   ]
  },
  {
   "cell_type": "markdown",
   "id": "1485c0a6",
   "metadata": {},
   "source": [
    "check different statistics"
   ]
  },
  {
   "cell_type": "code",
   "execution_count": 58,
   "id": "07eb3bac",
   "metadata": {},
   "outputs": [],
   "source": [
    "grid_params = {\n",
    "    'feature_preprocessing__numeric_variables_processing__fill_nan_num__strategy': ['mean', 'median', 'most_frequent']\n",
    "}"
   ]
  },
  {
   "cell_type": "code",
   "execution_count": 59,
   "id": "8df2221d",
   "metadata": {},
   "outputs": [],
   "source": [
    "grid_search = GridSearchCV(estimator, grid_params, scoring='roc_auc', cv=cv_strategy)"
   ]
  },
  {
   "cell_type": "code",
   "execution_count": 60,
   "id": "439c7a7d",
   "metadata": {},
   "outputs": [
    {
     "data": {
      "text/plain": [
       "GridSearchCV(cv=StratifiedShuffleSplit(n_splits=5, random_state=42, test_size=0.3,\n",
       "            train_size=None),\n",
       "             estimator=Pipeline(steps=[('feature_preprocessing',\n",
       "                                        FeatureUnion(transformer_list=[('numeric_variables_processing',\n",
       "                                                                        Pipeline(steps=[('selecting_num',\n",
       "                                                                                         FunctionTransformer(func=<function <lambda> at 0x0000025926EB8EE0>)),\n",
       "                                                                                        ('fill_nan_num',\n",
       "                                                                                         SimpleImputer()),\n",
       "                                                                                        ('scale...\n",
       "                                                      n_estimators=100,\n",
       "                                                      n_jobs=None,\n",
       "                                                      num_parallel_tree=None,\n",
       "                                                      predictor=None,\n",
       "                                                      random_state=None,\n",
       "                                                      reg_alpha=None,\n",
       "                                                      reg_lambda=None,\n",
       "                                                      scale_pos_weight=None,\n",
       "                                                      subsample=None,\n",
       "                                                      tree_method=None,\n",
       "                                                      validate_parameters=None,\n",
       "                                                      verbosity=None))]),\n",
       "             param_grid={'feature_preprocessing__numeric_variables_processing__fill_nan_num__strategy': ['mean',\n",
       "                                                                                                         'median',\n",
       "                                                                                                         'most_frequent']},\n",
       "             scoring='roc_auc')"
      ]
     },
     "execution_count": 60,
     "metadata": {},
     "output_type": "execute_result"
    }
   ],
   "source": [
    "grid_search.fit(train_data, train_target)"
   ]
  },
  {
   "cell_type": "code",
   "execution_count": 61,
   "id": "03beb244",
   "metadata": {},
   "outputs": [
    {
     "data": {
      "text/plain": [
       "0.6524099752119061"
      ]
     },
     "execution_count": 61,
     "metadata": {},
     "output_type": "execute_result"
    }
   ],
   "source": [
    "grid_search.best_score_"
   ]
  },
  {
   "cell_type": "code",
   "execution_count": 62,
   "id": "cf19fc9c",
   "metadata": {},
   "outputs": [
    {
     "data": {
      "text/plain": [
       "{'feature_preprocessing__numeric_variables_processing__fill_nan_num__strategy': 'most_frequent'}"
      ]
     },
     "execution_count": 62,
     "metadata": {},
     "output_type": "execute_result"
    }
   ],
   "source": [
    "grid_search.best_params_"
   ]
  },
  {
   "cell_type": "markdown",
   "id": "572178bb",
   "metadata": {},
   "source": [
    "It daoesn't matter wht statistic we chooose. We use other methods wich in sklearn from class imputer  "
   ]
  },
  {
   "cell_type": "markdown",
   "id": "5324bc97",
   "metadata": {},
   "source": [
    "SimpleImputer, KNNImputer, IterativeImputer with default params"
   ]
  },
  {
   "cell_type": "code",
   "execution_count": 134,
   "id": "11d07bfd",
   "metadata": {},
   "outputs": [
    {
     "name": "stdout",
     "output_type": "stream",
     "text": [
      "SimpleImputer() with roc_auc=[0.655, 0.659, 0.651, 0.642, 0.638]\n",
      "IterativeImputer(n_nearest_features=10) with roc_auc=[0.646, 0.594, 0.616, 0.65, 0.669]\n",
      "KNNImputer() with roc_auc=[0.647, 0.652, 0.632, 0.637, 0.643]\n"
     ]
    }
   ],
   "source": [
    "mean_metric_cv = []\n",
    "imputers_list = [SimpleImputer(),\n",
    "                 IterativeImputer(n_nearest_features = 10),\n",
    "                 KNNImputer()]\n",
    "\n",
    "for  imputer_num in imputers_list:\n",
    "    pipeline_numeric = Pipeline(steps =[\n",
    "    ('selecting_num', preprocessing.FunctionTransformer(lambda data: data.loc[:, right_numeric_column])),\n",
    "    ('fill_nan_num', imputer_num),\n",
    "    ('scaler_num', StandardScaler())\n",
    "])\n",
    "\n",
    "    pipeline_cat = Pipeline(steps = [\n",
    "    ('selecting_cat', preprocessing.FunctionTransformer(lambda data: data.loc[:, right_cat_column])),\n",
    "    ('fill_nan_cat', SimpleImputer(strategy='most_frequent')),\n",
    "    ('encoder_cat', LabelTransformer())\n",
    "])\n",
    "\n",
    "    estimator = Pipeline(steps=[\n",
    "    ('feature_preprocessing', FeatureUnion(transformer_list=[\n",
    "        ('numeric_variables_processing', pipeline_numeric),\n",
    "        ('category_variables_processing', pipeline_cat)\n",
    "    ])),\n",
    "    ('model',model_classifier)\n",
    "])\n",
    "    cv_xgb = cross_val_score(estimator, train_data, train_target, cv=cv_strategy, scoring='roc_auc')\n",
    "    mean_metric_cv.append(cv_xgb.mean())\n",
    "    print(f'{repr(imputer_num)} with roc_auc={list(map(lambda x: np.round(x, 3) ,cv_xgb))}')"
   ]
  },
  {
   "cell_type": "code",
   "execution_count": 135,
   "id": "37092c87",
   "metadata": {},
   "outputs": [
    {
     "data": {
      "text/plain": [
       "[0.6489908539138123, 0.6350222859179091, 0.6421510535426723]"
      ]
     },
     "execution_count": 135,
     "metadata": {},
     "output_type": "execute_result"
    }
   ],
   "source": [
    "mean_metric_cv"
   ]
  },
  {
   "cell_type": "markdown",
   "id": "b7d6542c",
   "metadata": {},
   "source": [
    "# Use xgboost with preprocessing nan"
   ]
  },
  {
   "cell_type": "code",
   "execution_count": 52,
   "id": "5f8ca74f",
   "metadata": {},
   "outputs": [],
   "source": [
    "train_data_for_xgb = train_data.loc[:, np.union1d(right_numeric_column, right_cat_column)]"
   ]
  },
  {
   "cell_type": "code",
   "execution_count": 53,
   "id": "1e267ffa",
   "metadata": {},
   "outputs": [
    {
     "data": {
      "text/html": [
       "<div>\n",
       "<style scoped>\n",
       "    .dataframe tbody tr th:only-of-type {\n",
       "        vertical-align: middle;\n",
       "    }\n",
       "\n",
       "    .dataframe tbody tr th {\n",
       "        vertical-align: top;\n",
       "    }\n",
       "\n",
       "    .dataframe thead th {\n",
       "        text-align: right;\n",
       "    }\n",
       "</style>\n",
       "<table border=\"1\" class=\"dataframe\">\n",
       "  <thead>\n",
       "    <tr style=\"text-align: right;\">\n",
       "      <th></th>\n",
       "      <th>Var109</th>\n",
       "      <th>Var112</th>\n",
       "      <th>Var113</th>\n",
       "      <th>Var119</th>\n",
       "      <th>Var123</th>\n",
       "      <th>Var125</th>\n",
       "      <th>Var126</th>\n",
       "      <th>Var13</th>\n",
       "      <th>Var132</th>\n",
       "      <th>Var133</th>\n",
       "      <th>...</th>\n",
       "      <th>Var7</th>\n",
       "      <th>Var72</th>\n",
       "      <th>Var73</th>\n",
       "      <th>Var74</th>\n",
       "      <th>Var76</th>\n",
       "      <th>Var78</th>\n",
       "      <th>Var81</th>\n",
       "      <th>Var83</th>\n",
       "      <th>Var85</th>\n",
       "      <th>Var94</th>\n",
       "    </tr>\n",
       "  </thead>\n",
       "  <tbody>\n",
       "    <tr>\n",
       "      <th>10715</th>\n",
       "      <td>8.0</td>\n",
       "      <td>8.0</td>\n",
       "      <td>146743.200</td>\n",
       "      <td>380.0</td>\n",
       "      <td>48.0</td>\n",
       "      <td>3744.0</td>\n",
       "      <td>36.0</td>\n",
       "      <td>432.0</td>\n",
       "      <td>0.0</td>\n",
       "      <td>559890.0</td>\n",
       "      <td>...</td>\n",
       "      <td>7.0</td>\n",
       "      <td>3.0</td>\n",
       "      <td>60</td>\n",
       "      <td>49.0</td>\n",
       "      <td>1482600.0</td>\n",
       "      <td>0.0</td>\n",
       "      <td>203490.00</td>\n",
       "      <td>15.0</td>\n",
       "      <td>0.0</td>\n",
       "      <td>350409.0</td>\n",
       "    </tr>\n",
       "    <tr>\n",
       "      <th>4415</th>\n",
       "      <td>40.0</td>\n",
       "      <td>48.0</td>\n",
       "      <td>359235.200</td>\n",
       "      <td>520.0</td>\n",
       "      <td>36.0</td>\n",
       "      <td>16353.0</td>\n",
       "      <td>NaN</td>\n",
       "      <td>5352.0</td>\n",
       "      <td>0.0</td>\n",
       "      <td>7389550.0</td>\n",
       "      <td>...</td>\n",
       "      <td>14.0</td>\n",
       "      <td>3.0</td>\n",
       "      <td>88</td>\n",
       "      <td>126.0</td>\n",
       "      <td>4147200.0</td>\n",
       "      <td>0.0</td>\n",
       "      <td>219513.60</td>\n",
       "      <td>15.0</td>\n",
       "      <td>0.0</td>\n",
       "      <td>348.0</td>\n",
       "    </tr>\n",
       "    <tr>\n",
       "      <th>17876</th>\n",
       "      <td>232.0</td>\n",
       "      <td>312.0</td>\n",
       "      <td>931.284</td>\n",
       "      <td>1285.0</td>\n",
       "      <td>126.0</td>\n",
       "      <td>810.0</td>\n",
       "      <td>NaN</td>\n",
       "      <td>760.0</td>\n",
       "      <td>0.0</td>\n",
       "      <td>131115.0</td>\n",
       "      <td>...</td>\n",
       "      <td>7.0</td>\n",
       "      <td>3.0</td>\n",
       "      <td>54</td>\n",
       "      <td>378.0</td>\n",
       "      <td>102800.0</td>\n",
       "      <td>0.0</td>\n",
       "      <td>3734.97</td>\n",
       "      <td>70.0</td>\n",
       "      <td>54.0</td>\n",
       "      <td>594.0</td>\n",
       "    </tr>\n",
       "    <tr>\n",
       "      <th>4227</th>\n",
       "      <td>NaN</td>\n",
       "      <td>0.0</td>\n",
       "      <td>108100.800</td>\n",
       "      <td>305.0</td>\n",
       "      <td>0.0</td>\n",
       "      <td>145836.0</td>\n",
       "      <td>40.0</td>\n",
       "      <td>1276.0</td>\n",
       "      <td>0.0</td>\n",
       "      <td>0.0</td>\n",
       "      <td>...</td>\n",
       "      <td>7.0</td>\n",
       "      <td>NaN</td>\n",
       "      <td>142</td>\n",
       "      <td>14.0</td>\n",
       "      <td>0.0</td>\n",
       "      <td>0.0</td>\n",
       "      <td>4476.09</td>\n",
       "      <td>0.0</td>\n",
       "      <td>0.0</td>\n",
       "      <td>NaN</td>\n",
       "    </tr>\n",
       "    <tr>\n",
       "      <th>6471</th>\n",
       "      <td>40.0</td>\n",
       "      <td>48.0</td>\n",
       "      <td>125829.200</td>\n",
       "      <td>535.0</td>\n",
       "      <td>30.0</td>\n",
       "      <td>0.0</td>\n",
       "      <td>4.0</td>\n",
       "      <td>0.0</td>\n",
       "      <td>0.0</td>\n",
       "      <td>5973500.0</td>\n",
       "      <td>...</td>\n",
       "      <td>0.0</td>\n",
       "      <td>3.0</td>\n",
       "      <td>16</td>\n",
       "      <td>0.0</td>\n",
       "      <td>4147200.0</td>\n",
       "      <td>0.0</td>\n",
       "      <td>180290.40</td>\n",
       "      <td>20.0</td>\n",
       "      <td>8.0</td>\n",
       "      <td>245631.0</td>\n",
       "    </tr>\n",
       "  </tbody>\n",
       "</table>\n",
       "<p>5 rows × 69 columns</p>\n",
       "</div>"
      ],
      "text/plain": [
       "       Var109  Var112      Var113  Var119  Var123    Var125  Var126   Var13  \\\n",
       "10715     8.0     8.0  146743.200   380.0    48.0    3744.0    36.0   432.0   \n",
       "4415     40.0    48.0  359235.200   520.0    36.0   16353.0     NaN  5352.0   \n",
       "17876   232.0   312.0     931.284  1285.0   126.0     810.0     NaN   760.0   \n",
       "4227      NaN     0.0  108100.800   305.0     0.0  145836.0    40.0  1276.0   \n",
       "6471     40.0    48.0  125829.200   535.0    30.0       0.0     4.0     0.0   \n",
       "\n",
       "       Var132     Var133  ...  Var7  Var72  Var73  Var74      Var76  Var78  \\\n",
       "10715     0.0   559890.0  ...   7.0    3.0     60   49.0  1482600.0    0.0   \n",
       "4415      0.0  7389550.0  ...  14.0    3.0     88  126.0  4147200.0    0.0   \n",
       "17876     0.0   131115.0  ...   7.0    3.0     54  378.0   102800.0    0.0   \n",
       "4227      0.0        0.0  ...   7.0    NaN    142   14.0        0.0    0.0   \n",
       "6471      0.0  5973500.0  ...   0.0    3.0     16    0.0  4147200.0    0.0   \n",
       "\n",
       "           Var81  Var83  Var85     Var94  \n",
       "10715  203490.00   15.0    0.0  350409.0  \n",
       "4415   219513.60   15.0    0.0     348.0  \n",
       "17876    3734.97   70.0   54.0     594.0  \n",
       "4227     4476.09    0.0    0.0       NaN  \n",
       "6471   180290.40   20.0    8.0  245631.0  \n",
       "\n",
       "[5 rows x 69 columns]"
      ]
     },
     "execution_count": 53,
     "metadata": {},
     "output_type": "execute_result"
    }
   ],
   "source": [
    "train_data_for_xgb.head()"
   ]
  },
  {
   "cell_type": "code",
   "execution_count": 54,
   "id": "a63386ff",
   "metadata": {},
   "outputs": [],
   "source": [
    "#for name_cat in right_cat_column:\n",
    "train_data_for_xgb[right_cat_column] = train_data_for_xgb[right_cat_column].astype(\"category\")"
   ]
  },
  {
   "cell_type": "code",
   "execution_count": 56,
   "id": "239a99dc",
   "metadata": {},
   "outputs": [],
   "source": [
    "model_classifier_new = xgb.XGBClassifier(eval_metric='mlogloss', max_cat_to_onehot=2,\n",
    "                                          enable_categorical=True)"
   ]
  },
  {
   "cell_type": "code",
   "execution_count": 57,
   "id": "36e0c3a3",
   "metadata": {},
   "outputs": [],
   "source": [
    "cv_xgb_new = cross_val_score(model_classifier_new, train_data_for_xgb, train_target, cv=cv_strategy, scoring='roc_auc')"
   ]
  },
  {
   "cell_type": "code",
   "execution_count": 58,
   "id": "2854fde2",
   "metadata": {},
   "outputs": [
    {
     "data": {
      "text/plain": [
       "array([nan, nan, nan, nan, nan])"
      ]
     },
     "execution_count": 58,
     "metadata": {},
     "output_type": "execute_result"
    }
   ],
   "source": [
    "cv_xgb_new"
   ]
  },
  {
   "cell_type": "code",
   "execution_count": 60,
   "id": "a5f78842",
   "metadata": {},
   "outputs": [
    {
     "ename": "ValueError",
     "evalue": "Experimental support for categorical data is not implemented for current tree method yet.",
     "output_type": "error",
     "traceback": [
      "\u001b[1;31m---------------------------------------------------------------------------\u001b[0m",
      "\u001b[1;31mValueError\u001b[0m                                Traceback (most recent call last)",
      "\u001b[1;32m<ipython-input-60-852b00ecb72f>\u001b[0m in \u001b[0;36m<module>\u001b[1;34m\u001b[0m\n\u001b[1;32m----> 1\u001b[1;33m \u001b[0mmodel_classifier_new\u001b[0m\u001b[1;33m.\u001b[0m\u001b[0mfit\u001b[0m\u001b[1;33m(\u001b[0m\u001b[0mtrain_data_for_xgb\u001b[0m\u001b[1;33m,\u001b[0m \u001b[0mtrain_target\u001b[0m\u001b[1;33m)\u001b[0m\u001b[1;33m\u001b[0m\u001b[1;33m\u001b[0m\u001b[0m\n\u001b[0m",
      "\u001b[1;32m~\\anaconda3\\lib\\site-packages\\xgboost\\core.py\u001b[0m in \u001b[0;36minner_f\u001b[1;34m(*args, **kwargs)\u001b[0m\n\u001b[0;32m    618\u001b[0m             \u001b[1;32mfor\u001b[0m \u001b[0mk\u001b[0m\u001b[1;33m,\u001b[0m \u001b[0marg\u001b[0m \u001b[1;32min\u001b[0m \u001b[0mzip\u001b[0m\u001b[1;33m(\u001b[0m\u001b[0msig\u001b[0m\u001b[1;33m.\u001b[0m\u001b[0mparameters\u001b[0m\u001b[1;33m,\u001b[0m \u001b[0margs\u001b[0m\u001b[1;33m)\u001b[0m\u001b[1;33m:\u001b[0m\u001b[1;33m\u001b[0m\u001b[1;33m\u001b[0m\u001b[0m\n\u001b[0;32m    619\u001b[0m                 \u001b[0mkwargs\u001b[0m\u001b[1;33m[\u001b[0m\u001b[0mk\u001b[0m\u001b[1;33m]\u001b[0m \u001b[1;33m=\u001b[0m \u001b[0marg\u001b[0m\u001b[1;33m\u001b[0m\u001b[1;33m\u001b[0m\u001b[0m\n\u001b[1;32m--> 620\u001b[1;33m             \u001b[1;32mreturn\u001b[0m \u001b[0mfunc\u001b[0m\u001b[1;33m(\u001b[0m\u001b[1;33m**\u001b[0m\u001b[0mkwargs\u001b[0m\u001b[1;33m)\u001b[0m\u001b[1;33m\u001b[0m\u001b[1;33m\u001b[0m\u001b[0m\n\u001b[0m\u001b[0;32m    621\u001b[0m \u001b[1;33m\u001b[0m\u001b[0m\n\u001b[0;32m    622\u001b[0m         \u001b[1;32mreturn\u001b[0m \u001b[0minner_f\u001b[0m\u001b[1;33m\u001b[0m\u001b[1;33m\u001b[0m\u001b[0m\n",
      "\u001b[1;32m~\\anaconda3\\lib\\site-packages\\xgboost\\sklearn.py\u001b[0m in \u001b[0;36mfit\u001b[1;34m(self, X, y, sample_weight, base_margin, eval_set, eval_metric, early_stopping_rounds, verbose, xgb_model, sample_weight_eval_set, base_margin_eval_set, feature_weights, callbacks)\u001b[0m\n\u001b[0;32m   1466\u001b[0m                 \u001b[0mearly_stopping_rounds\u001b[0m\u001b[1;33m,\u001b[0m\u001b[1;33m\u001b[0m\u001b[1;33m\u001b[0m\u001b[0m\n\u001b[0;32m   1467\u001b[0m                 \u001b[0mcallbacks\u001b[0m\u001b[1;33m,\u001b[0m\u001b[1;33m\u001b[0m\u001b[1;33m\u001b[0m\u001b[0m\n\u001b[1;32m-> 1468\u001b[1;33m             \u001b[1;33m)\u001b[0m \u001b[1;33m=\u001b[0m \u001b[0mself\u001b[0m\u001b[1;33m.\u001b[0m\u001b[0m_configure_fit\u001b[0m\u001b[1;33m(\u001b[0m\u001b[1;33m\u001b[0m\u001b[1;33m\u001b[0m\u001b[0m\n\u001b[0m\u001b[0;32m   1469\u001b[0m                 \u001b[0mxgb_model\u001b[0m\u001b[1;33m,\u001b[0m \u001b[0meval_metric\u001b[0m\u001b[1;33m,\u001b[0m \u001b[0mparams\u001b[0m\u001b[1;33m,\u001b[0m \u001b[0mearly_stopping_rounds\u001b[0m\u001b[1;33m,\u001b[0m \u001b[0mcallbacks\u001b[0m\u001b[1;33m\u001b[0m\u001b[1;33m\u001b[0m\u001b[0m\n\u001b[0;32m   1470\u001b[0m             )\n",
      "\u001b[1;32m~\\anaconda3\\lib\\site-packages\\xgboost\\sklearn.py\u001b[0m in \u001b[0;36m_configure_fit\u001b[1;34m(self, booster, eval_metric, params, early_stopping_rounds, callbacks)\u001b[0m\n\u001b[0;32m    890\u001b[0m         \u001b[0mcat_support\u001b[0m \u001b[1;33m=\u001b[0m \u001b[1;33m{\u001b[0m\u001b[1;34m\"gpu_hist\"\u001b[0m\u001b[1;33m,\u001b[0m \u001b[1;34m\"approx\"\u001b[0m\u001b[1;33m,\u001b[0m \u001b[1;34m\"hist\"\u001b[0m\u001b[1;33m}\u001b[0m\u001b[1;33m\u001b[0m\u001b[1;33m\u001b[0m\u001b[0m\n\u001b[0;32m    891\u001b[0m         \u001b[1;32mif\u001b[0m \u001b[0mself\u001b[0m\u001b[1;33m.\u001b[0m\u001b[0menable_categorical\u001b[0m \u001b[1;32mand\u001b[0m \u001b[0mtree_method\u001b[0m \u001b[1;32mnot\u001b[0m \u001b[1;32min\u001b[0m \u001b[0mcat_support\u001b[0m\u001b[1;33m:\u001b[0m\u001b[1;33m\u001b[0m\u001b[1;33m\u001b[0m\u001b[0m\n\u001b[1;32m--> 892\u001b[1;33m             raise ValueError(\n\u001b[0m\u001b[0;32m    893\u001b[0m                 \u001b[1;34m\"Experimental support for categorical data is not implemented for\"\u001b[0m\u001b[1;33m\u001b[0m\u001b[1;33m\u001b[0m\u001b[0m\n\u001b[0;32m    894\u001b[0m                 \u001b[1;34m\" current tree method yet.\"\u001b[0m\u001b[1;33m\u001b[0m\u001b[1;33m\u001b[0m\u001b[0m\n",
      "\u001b[1;31mValueError\u001b[0m: Experimental support for categorical data is not implemented for current tree method yet."
     ]
    }
   ],
   "source": [
    "model_classifier_new.fit(train_data_for_xgb, train_target)"
   ]
  },
  {
   "cell_type": "code",
   "execution_count": null,
   "id": "b8b600ba",
   "metadata": {},
   "outputs": [],
   "source": []
  }
 ],
 "metadata": {
  "kernelspec": {
   "display_name": "Python 3",
   "language": "python",
   "name": "python3"
  },
  "language_info": {
   "codemirror_mode": {
    "name": "ipython",
    "version": 3
   },
   "file_extension": ".py",
   "mimetype": "text/x-python",
   "name": "python",
   "nbconvert_exporter": "python",
   "pygments_lexer": "ipython3",
   "version": "3.8.8"
  }
 },
 "nbformat": 4,
 "nbformat_minor": 5
}
