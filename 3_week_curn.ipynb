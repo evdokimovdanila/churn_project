{
  "nbformat": 4,
  "nbformat_minor": 0,
  "metadata": {
    "colab": {
      "name": "3_week_curn.ipynb",
      "provenance": [],
      "collapsed_sections": []
    },
    "kernelspec": {
      "name": "python3",
      "display_name": "Python 3"
    },
    "language_info": {
      "name": "python"
    }
  },
  "cells": [
    {
      "cell_type": "code",
      "execution_count": null,
      "metadata": {
        "id": "FP4yRfK2qoFK"
      },
      "outputs": [],
      "source": [
        "import pandas as pd\n",
        "import numpy as np\n",
        "import scipy as sc\n",
        "import sklearn\n",
        "from sklearn.model_selection import train_test_split, cross_val_score, ShuffleSplit\n",
        "from sklearn.linear_model import LogisticRegression, RidgeClassifier\n",
        "from sklearn.preprocessing import OneHotEncoder, LabelEncoder\n",
        "from sklearn.ensemble import RandomForestClassifier, GradientBoostingClassifier\n",
        "from sklearn.svm import SVC\n",
        "from sklearn.metrics import f1_score, accuracy_score, roc_auc_score\n",
        "import warnings\n",
        "warnings.filterwarnings('ignore')"
      ]
    },
    {
      "cell_type": "markdown",
      "source": [
        "Выгрузка данных"
      ],
      "metadata": {
        "id": "HxBvlucKeMix"
      }
    },
    {
      "cell_type": "code",
      "source": [
        "data = pd.read_csv('orange_small_churn_data.txt')\n",
        "label = pd.read_csv('orange_small_churn_labels.txt', header=None,names=['label'])"
      ],
      "metadata": {
        "id": "IVKtFZ7uqyFS"
      },
      "execution_count": null,
      "outputs": []
    },
    {
      "cell_type": "code",
      "source": [
        "label\n"
      ],
      "metadata": {
        "colab": {
          "base_uri": "https://localhost:8080/",
          "height": 391
        },
        "id": "wShj0SIjvao6",
        "outputId": "0d29863d-eb7b-4681-acbb-0777d27d80ed"
      },
      "execution_count": null,
      "outputs": [
        {
          "output_type": "execute_result",
          "data": {
            "text/plain": [
              "       label\n",
              "0         -1\n",
              "1         -1\n",
              "2         -1\n",
              "3          1\n",
              "4         -1\n",
              "...      ...\n",
              "39995     -1\n",
              "39996     -1\n",
              "39997     -1\n",
              "39998     -1\n",
              "39999     -1\n",
              "\n",
              "[40000 rows x 1 columns]"
            ],
            "text/html": [
              "\n",
              "  <div id=\"df-60513cc2-6812-4652-81d7-0862654f9194\">\n",
              "    <div class=\"colab-df-container\">\n",
              "      <div>\n",
              "<style scoped>\n",
              "    .dataframe tbody tr th:only-of-type {\n",
              "        vertical-align: middle;\n",
              "    }\n",
              "\n",
              "    .dataframe tbody tr th {\n",
              "        vertical-align: top;\n",
              "    }\n",
              "\n",
              "    .dataframe thead th {\n",
              "        text-align: right;\n",
              "    }\n",
              "</style>\n",
              "<table border=\"1\" class=\"dataframe\">\n",
              "  <thead>\n",
              "    <tr style=\"text-align: right;\">\n",
              "      <th></th>\n",
              "      <th>label</th>\n",
              "    </tr>\n",
              "  </thead>\n",
              "  <tbody>\n",
              "    <tr>\n",
              "      <th>0</th>\n",
              "      <td>-1</td>\n",
              "    </tr>\n",
              "    <tr>\n",
              "      <th>1</th>\n",
              "      <td>-1</td>\n",
              "    </tr>\n",
              "    <tr>\n",
              "      <th>2</th>\n",
              "      <td>-1</td>\n",
              "    </tr>\n",
              "    <tr>\n",
              "      <th>3</th>\n",
              "      <td>1</td>\n",
              "    </tr>\n",
              "    <tr>\n",
              "      <th>4</th>\n",
              "      <td>-1</td>\n",
              "    </tr>\n",
              "    <tr>\n",
              "      <th>...</th>\n",
              "      <td>...</td>\n",
              "    </tr>\n",
              "    <tr>\n",
              "      <th>39995</th>\n",
              "      <td>-1</td>\n",
              "    </tr>\n",
              "    <tr>\n",
              "      <th>39996</th>\n",
              "      <td>-1</td>\n",
              "    </tr>\n",
              "    <tr>\n",
              "      <th>39997</th>\n",
              "      <td>-1</td>\n",
              "    </tr>\n",
              "    <tr>\n",
              "      <th>39998</th>\n",
              "      <td>-1</td>\n",
              "    </tr>\n",
              "    <tr>\n",
              "      <th>39999</th>\n",
              "      <td>-1</td>\n",
              "    </tr>\n",
              "  </tbody>\n",
              "</table>\n",
              "<p>40000 rows × 1 columns</p>\n",
              "</div>\n",
              "      <button class=\"colab-df-convert\" onclick=\"convertToInteractive('df-60513cc2-6812-4652-81d7-0862654f9194')\"\n",
              "              title=\"Convert this dataframe to an interactive table.\"\n",
              "              style=\"display:none;\">\n",
              "        \n",
              "  <svg xmlns=\"http://www.w3.org/2000/svg\" height=\"24px\"viewBox=\"0 0 24 24\"\n",
              "       width=\"24px\">\n",
              "    <path d=\"M0 0h24v24H0V0z\" fill=\"none\"/>\n",
              "    <path d=\"M18.56 5.44l.94 2.06.94-2.06 2.06-.94-2.06-.94-.94-2.06-.94 2.06-2.06.94zm-11 1L8.5 8.5l.94-2.06 2.06-.94-2.06-.94L8.5 2.5l-.94 2.06-2.06.94zm10 10l.94 2.06.94-2.06 2.06-.94-2.06-.94-.94-2.06-.94 2.06-2.06.94z\"/><path d=\"M17.41 7.96l-1.37-1.37c-.4-.4-.92-.59-1.43-.59-.52 0-1.04.2-1.43.59L10.3 9.45l-7.72 7.72c-.78.78-.78 2.05 0 2.83L4 21.41c.39.39.9.59 1.41.59.51 0 1.02-.2 1.41-.59l7.78-7.78 2.81-2.81c.8-.78.8-2.07 0-2.86zM5.41 20L4 18.59l7.72-7.72 1.47 1.35L5.41 20z\"/>\n",
              "  </svg>\n",
              "      </button>\n",
              "      \n",
              "  <style>\n",
              "    .colab-df-container {\n",
              "      display:flex;\n",
              "      flex-wrap:wrap;\n",
              "      gap: 12px;\n",
              "    }\n",
              "\n",
              "    .colab-df-convert {\n",
              "      background-color: #E8F0FE;\n",
              "      border: none;\n",
              "      border-radius: 50%;\n",
              "      cursor: pointer;\n",
              "      display: none;\n",
              "      fill: #1967D2;\n",
              "      height: 32px;\n",
              "      padding: 0 0 0 0;\n",
              "      width: 32px;\n",
              "    }\n",
              "\n",
              "    .colab-df-convert:hover {\n",
              "      background-color: #E2EBFA;\n",
              "      box-shadow: 0px 1px 2px rgba(60, 64, 67, 0.3), 0px 1px 3px 1px rgba(60, 64, 67, 0.15);\n",
              "      fill: #174EA6;\n",
              "    }\n",
              "\n",
              "    [theme=dark] .colab-df-convert {\n",
              "      background-color: #3B4455;\n",
              "      fill: #D2E3FC;\n",
              "    }\n",
              "\n",
              "    [theme=dark] .colab-df-convert:hover {\n",
              "      background-color: #434B5C;\n",
              "      box-shadow: 0px 1px 3px 1px rgba(0, 0, 0, 0.15);\n",
              "      filter: drop-shadow(0px 1px 2px rgba(0, 0, 0, 0.3));\n",
              "      fill: #FFFFFF;\n",
              "    }\n",
              "  </style>\n",
              "\n",
              "      <script>\n",
              "        const buttonEl =\n",
              "          document.querySelector('#df-60513cc2-6812-4652-81d7-0862654f9194 button.colab-df-convert');\n",
              "        buttonEl.style.display =\n",
              "          google.colab.kernel.accessAllowed ? 'block' : 'none';\n",
              "\n",
              "        async function convertToInteractive(key) {\n",
              "          const element = document.querySelector('#df-60513cc2-6812-4652-81d7-0862654f9194');\n",
              "          const dataTable =\n",
              "            await google.colab.kernel.invokeFunction('convertToInteractive',\n",
              "                                                     [key], {});\n",
              "          if (!dataTable) return;\n",
              "\n",
              "          const docLinkHtml = 'Like what you see? Visit the ' +\n",
              "            '<a target=\"_blank\" href=https://colab.research.google.com/notebooks/data_table.ipynb>data table notebook</a>'\n",
              "            + ' to learn more about interactive tables.';\n",
              "          element.innerHTML = '';\n",
              "          dataTable['output_type'] = 'display_data';\n",
              "          await google.colab.output.renderOutput(dataTable, element);\n",
              "          const docLink = document.createElement('div');\n",
              "          docLink.innerHTML = docLinkHtml;\n",
              "          element.appendChild(docLink);\n",
              "        }\n",
              "      </script>\n",
              "    </div>\n",
              "  </div>\n",
              "  "
            ]
          },
          "metadata": {},
          "execution_count": 4
        }
      ]
    },
    {
      "cell_type": "markdown",
      "source": [
        "Выделение вешественных и категориальных признаков"
      ],
      "metadata": {
        "id": "bz8VMTTteYuX"
      }
    },
    {
      "cell_type": "code",
      "source": [
        "numeric_label = data.columns[:190]\n",
        "categorical_label = data.columns[190:]"
      ],
      "metadata": {
        "id": "GX0SdqlivcQb"
      },
      "execution_count": null,
      "outputs": []
    },
    {
      "cell_type": "code",
      "source": [
        "data[numeric_label].info()"
      ],
      "metadata": {
        "colab": {
          "base_uri": "https://localhost:8080/"
        },
        "id": "NRLnkJ03ZDxC",
        "outputId": "d36b4ef0-c39d-4add-eb98-0a9ec6ce5b12"
      },
      "execution_count": null,
      "outputs": [
        {
          "output_type": "stream",
          "name": "stdout",
          "text": [
            "<class 'pandas.core.frame.DataFrame'>\n",
            "RangeIndex: 40000 entries, 0 to 39999\n",
            "Columns: 190 entries, Var1 to Var190\n",
            "dtypes: float64(189), int64(1)\n",
            "memory usage: 58.0 MB\n"
          ]
        }
      ]
    },
    {
      "cell_type": "code",
      "source": [
        "numeric_data = data[numeric_label]\n",
        "cat_data = data[categorical_label]"
      ],
      "metadata": {
        "id": "rzmSHQy6ZMbf"
      },
      "execution_count": null,
      "outputs": []
    },
    {
      "cell_type": "markdown",
      "source": [
        "Отбор признаков у которых ненулевых значений больше половины "
      ],
      "metadata": {
        "id": "6GJr1-mafJwW"
      }
    },
    {
      "cell_type": "code",
      "source": [
        "correct_name = []\n",
        "for name in numeric_data.columns:\n",
        "  if np.sum(~numeric_data[name].isnull()) >= 20000:\n",
        "    correct_name.append(name)\n",
        "len(correct_name)"
      ],
      "metadata": {
        "colab": {
          "base_uri": "https://localhost:8080/"
        },
        "id": "xyPkUEYGwqx3",
        "outputId": "bae41a9e-610e-443b-aa80-b71586274f65"
      },
      "execution_count": null,
      "outputs": [
        {
          "output_type": "execute_result",
          "data": {
            "text/plain": [
              "41"
            ]
          },
          "metadata": {},
          "execution_count": 8
        }
      ]
    },
    {
      "cell_type": "code",
      "source": [
        "cat_name = []\n",
        "for name in cat_data.columns:\n",
        "  if np.sum(~cat_data[name].isnull()) >= 20000:\n",
        "    cat_name.append(name)\n",
        "len(cat_name)"
      ],
      "metadata": {
        "colab": {
          "base_uri": "https://localhost:8080/"
        },
        "id": "-THdmnt7kL28",
        "outputId": "24117bae-4d3b-487a-bea8-454050ff3247"
      },
      "execution_count": null,
      "outputs": [
        {
          "output_type": "execute_result",
          "data": {
            "text/plain": [
              "28"
            ]
          },
          "metadata": {},
          "execution_count": 9
        }
      ]
    },
    {
      "cell_type": "markdown",
      "source": [
        "Замена пропусков на среднее значенние у вещественных признаков "
      ],
      "metadata": {
        "id": "alKxzqDPfZgg"
      }
    },
    {
      "cell_type": "code",
      "source": [
        "correct_data = data[correct_name]\n",
        "mean_data = correct_data.mean(axis='index')\n",
        "\n",
        "for i, name in enumerate(correct_name):\n",
        "  correct_data[name].fillna(mean_data[i], inplace=True)"
      ],
      "metadata": {
        "id": "g2ujUMP3XcoA"
      },
      "execution_count": null,
      "outputs": []
    },
    {
      "cell_type": "markdown",
      "source": [
        "LabelEncoding для категориальных признаков\n",
        "\n"
      ],
      "metadata": {
        "id": "0XJny1tyfiO4"
      }
    },
    {
      "cell_type": "code",
      "source": [
        "cat_data = data[cat_name]\n",
        "transform_cat_data = cat_data.copy()\n",
        "for name in cat_data.columns:\n",
        "  transform_cat_data[name] = LabelEncoder().fit_transform(cat_data[name])\n"
      ],
      "metadata": {
        "id": "cGAQecGJahAV"
      },
      "execution_count": null,
      "outputs": []
    },
    {
      "cell_type": "markdown",
      "source": [
        "Балансиврока данных"
      ],
      "metadata": {
        "id": "KKesa6M6fwGG"
      }
    },
    {
      "cell_type": "code",
      "source": [
        "label.value_counts()"
      ],
      "metadata": {
        "colab": {
          "base_uri": "https://localhost:8080/"
        },
        "id": "W7C0ns77fyQl",
        "outputId": "e3f970d3-631e-4588-9ecf-db671fccb98e"
      },
      "execution_count": null,
      "outputs": [
        {
          "output_type": "execute_result",
          "data": {
            "text/plain": [
              "label\n",
              "-1       37024\n",
              " 1        2976\n",
              "dtype: int64"
            ]
          },
          "metadata": {},
          "execution_count": 12
        }
      ]
    },
    {
      "cell_type": "code",
      "source": [
        "index_b = label[label['label'] == 1].index"
      ],
      "metadata": {
        "id": "d6iyC5XNIEXG"
      },
      "execution_count": null,
      "outputs": []
    },
    {
      "cell_type": "code",
      "source": [
        "k = len(label[label['label'] == -1]) - len(label[label['label'] == 1])\n",
        "k"
      ],
      "metadata": {
        "colab": {
          "base_uri": "https://localhost:8080/"
        },
        "id": "pvIS9G90Ju4L",
        "outputId": "c15296da-1ab7-4444-a9a1-75d6f8419269"
      },
      "execution_count": null,
      "outputs": [
        {
          "output_type": "execute_result",
          "data": {
            "text/plain": [
              "34048"
            ]
          },
          "metadata": {},
          "execution_count": 14
        }
      ]
    },
    {
      "cell_type": "code",
      "source": [
        "np.random.seed(42)\n",
        "indices_to_add = np.random.choice(index_b, k)"
      ],
      "metadata": {
        "id": "7QUq8BcIIQnS"
      },
      "execution_count": null,
      "outputs": []
    },
    {
      "cell_type": "code",
      "source": [
        "indices_to_add"
      ],
      "metadata": {
        "colab": {
          "base_uri": "https://localhost:8080/"
        },
        "id": "W1QHhA2xJf8r",
        "outputId": "2a2333de-bf02-4b72-955b-09cb62773434"
      },
      "execution_count": null,
      "outputs": [
        {
          "output_type": "execute_result",
          "data": {
            "text/plain": [
              "array([11241, 17017, 14879, ..., 37101, 20973, 25393])"
            ]
          },
          "metadata": {},
          "execution_count": 16
        }
      ]
    },
    {
      "cell_type": "code",
      "source": [
        "total_data = correct_data.merge(transform_cat_data, left_index=True, right_index=True)"
      ],
      "metadata": {
        "id": "vFo66ysb7KLV"
      },
      "execution_count": null,
      "outputs": []
    },
    {
      "cell_type": "markdown",
      "source": [
        "Создание фрейма, который надо добавить по методике oversampling"
      ],
      "metadata": {
        "id": "hWQAmX0RgCeY"
      }
    },
    {
      "cell_type": "code",
      "source": [
        "data_add = total_data.iloc[indices_to_add, :]\n",
        "label_add = label.iloc[indices_to_add, :]"
      ],
      "metadata": {
        "id": "exDEJSEfKdHa"
      },
      "execution_count": null,
      "outputs": []
    },
    {
      "cell_type": "code",
      "source": [
        "total_data = pd.concat([total_data, data_add])\n",
        "total_label = pd.concat([label, label_add])"
      ],
      "metadata": {
        "id": "GUCiy9T586FW"
      },
      "execution_count": null,
      "outputs": []
    },
    {
      "cell_type": "code",
      "source": [
        "total_label.shape"
      ],
      "metadata": {
        "colab": {
          "base_uri": "https://localhost:8080/"
        },
        "id": "buV7lK1_L3J4",
        "outputId": "4c3c2fda-4dc4-4827-bcbb-f063214d71e4"
      },
      "execution_count": null,
      "outputs": [
        {
          "output_type": "execute_result",
          "data": {
            "text/plain": [
              "(74048, 1)"
            ]
          },
          "metadata": {},
          "execution_count": 20
        }
      ]
    },
    {
      "cell_type": "markdown",
      "source": [
        "Разделение на обучение и тест"
      ],
      "metadata": {
        "id": "ixaIKX2qgMfG"
      }
    },
    {
      "cell_type": "code",
      "source": [
        "train_data, test_data, train_target, test_target = train_test_split(total_data, total_label, random_state=42, test_size=0.3) "
      ],
      "metadata": {
        "id": "gcghut0PYFoW"
      },
      "execution_count": null,
      "outputs": []
    },
    {
      "cell_type": "code",
      "source": [
        "cv_spliter = ShuffleSplit(n_splits=5, test_size=0.3)"
      ],
      "metadata": {
        "id": "coyWOKGrakbp"
      },
      "execution_count": null,
      "outputs": []
    },
    {
      "cell_type": "code",
      "source": [
        "cv_res = cross_val_score(LogisticRegression(), train_data, train_target, cv=cv_spliter, scoring='f1')"
      ],
      "metadata": {
        "id": "obl-sz9Za3R9"
      },
      "execution_count": null,
      "outputs": []
    },
    {
      "cell_type": "code",
      "source": [
        "cv_res"
      ],
      "metadata": {
        "colab": {
          "base_uri": "https://localhost:8080/"
        },
        "id": "7A7UOFS-bovQ",
        "outputId": "a867f0ab-1297-41e4-8186-ad7fb00f2624"
      },
      "execution_count": null,
      "outputs": [
        {
          "output_type": "execute_result",
          "data": {
            "text/plain": [
              "array([0.54564533, 0.55044166, 0.5541015 , 0.55508311, 0.5503347 ])"
            ]
          },
          "metadata": {},
          "execution_count": 27
        }
      ]
    },
    {
      "cell_type": "markdown",
      "source": [
        "Обучение на всех данных и проверка на отложенной выборке"
      ],
      "metadata": {
        "id": "c0B8b3sWgf6k"
      }
    },
    {
      "cell_type": "code",
      "source": [
        "model = LogisticRegression().fit(train_data, train_target)"
      ],
      "metadata": {
        "id": "ify4PJHGbucU"
      },
      "execution_count": null,
      "outputs": []
    },
    {
      "cell_type": "markdown",
      "source": [
        "Оценка качества"
      ],
      "metadata": {
        "id": "WXyHPzF6g-6F"
      }
    },
    {
      "cell_type": "code",
      "source": [
        "predict_train = model.predict(train_data)\n",
        "predict_test = model.predict(test_data)"
      ],
      "metadata": {
        "id": "2HS1BYHmg9EE"
      },
      "execution_count": null,
      "outputs": []
    },
    {
      "cell_type": "code",
      "source": [
        "print(f\"f1_score by train data: {f1_score(predict_train, train_target)}\")\n",
        "print(f\"f1_score by test data: {f1_score(predict_test, test_target)}\")\n",
        "print()\n",
        "\n",
        "print(f\"accuracy_score by train data: {accuracy_score(predict_train, train_target)}\")\n",
        "print(f\"accuracy_score by test data: {accuracy_score(predict_test, test_target)}\")\n",
        "print()\n",
        "\n",
        "print(f\"roc_score by train data: {roc_auc_score(predict_train, train_target)}\")\n",
        "print(f\"roc_score by test data: {roc_auc_score(predict_test, test_target)}\")\n",
        "print()"
      ],
      "metadata": {
        "colab": {
          "base_uri": "https://localhost:8080/"
        },
        "id": "1KvLVjvAhUek",
        "outputId": "30986f8c-381a-4dbe-e5d7-dc27f01e0157"
      },
      "execution_count": null,
      "outputs": [
        {
          "output_type": "stream",
          "name": "stdout",
          "text": [
            "f1_score by train data: 0.5526466126903454\n",
            "f1_score by test data: 0.5482557601554547\n",
            "\n",
            "accuracy_score by train data: 0.561881426890205\n",
            "accuracy_score by test data: 0.5604771550753995\n",
            "\n",
            "roc_score by train data: 0.5620057970695448\n",
            "roc_score by test data: 0.560600143452491\n",
            "\n"
          ]
        }
      ]
    },
    {
      "cell_type": "markdown",
      "source": [
        "Base line  получен качество составило примерно 0.55\n",
        "\n",
        "Baseline:\n",
        "\n",
        "1.Отбор признаков по пропускам\n",
        "\n",
        "2.преобразование кат признаков labelencoder\n",
        "\n",
        "3.балансировка по oversampling\n",
        "\n",
        "4.logostocregression "
      ],
      "metadata": {
        "id": "-pv1Q85LhwZ3"
      }
    },
    {
      "cell_type": "code",
      "source": [
        ""
      ],
      "metadata": {
        "id": "EyC62Zkihsc4"
      },
      "execution_count": null,
      "outputs": []
    }
  ]
}