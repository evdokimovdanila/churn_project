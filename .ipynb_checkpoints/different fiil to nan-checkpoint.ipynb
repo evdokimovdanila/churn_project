{
 "cells": [
  {
   "cell_type": "code",
   "execution_count": 1,
   "id": "4fae4a58",
   "metadata": {},
   "outputs": [],
   "source": [
    "import xgboost as xgb\n",
    "from sklearn import preprocessing \n",
    "from sklearn.preprocessing import LabelEncoder, StandardScaler, OneHotEncoder\n",
    "from sklearn.linear_model import LogisticRegression\n",
    "from sklearn.metrics import classification_report, roc_auc_score\n",
    "from sklearn.model_selection import cross_val_score, train_test_split, StratifiedShuffleSplit\n",
    "import numpy as np\n",
    "import pandas as pd\n",
    "import warnings\n",
    "warnings.filterwarnings('ignore')\n",
    "from sklearn.pipeline import Pipeline, FeatureUnion\n",
    "from sklearn.experimental import enable_iterative_imputer\n",
    "from sklearn.impute import SimpleImputer, IterativeImputer,KNNImputer"
   ]
  },
  {
   "cell_type": "markdown",
   "id": "14ed0359",
   "metadata": {},
   "source": [
    "# Download data"
   ]
  },
  {
   "cell_type": "code",
   "execution_count": 2,
   "id": "f4c42677",
   "metadata": {},
   "outputs": [],
   "source": [
    "data = pd.read_csv('./data/orange_small_churn_train_data.csv')"
   ]
  },
  {
   "cell_type": "code",
   "execution_count": 3,
   "id": "34b43761",
   "metadata": {},
   "outputs": [
    {
     "data": {
      "text/html": [
       "<div>\n",
       "<style scoped>\n",
       "    .dataframe tbody tr th:only-of-type {\n",
       "        vertical-align: middle;\n",
       "    }\n",
       "\n",
       "    .dataframe tbody tr th {\n",
       "        vertical-align: top;\n",
       "    }\n",
       "\n",
       "    .dataframe thead th {\n",
       "        text-align: right;\n",
       "    }\n",
       "</style>\n",
       "<table border=\"1\" class=\"dataframe\">\n",
       "  <thead>\n",
       "    <tr style=\"text-align: right;\">\n",
       "      <th></th>\n",
       "      <th>ID</th>\n",
       "      <th>Var1</th>\n",
       "      <th>Var2</th>\n",
       "      <th>Var3</th>\n",
       "      <th>Var4</th>\n",
       "      <th>Var5</th>\n",
       "      <th>Var6</th>\n",
       "      <th>Var7</th>\n",
       "      <th>Var8</th>\n",
       "      <th>Var9</th>\n",
       "      <th>...</th>\n",
       "      <th>Var222</th>\n",
       "      <th>Var223</th>\n",
       "      <th>Var224</th>\n",
       "      <th>Var225</th>\n",
       "      <th>Var226</th>\n",
       "      <th>Var227</th>\n",
       "      <th>Var228</th>\n",
       "      <th>Var229</th>\n",
       "      <th>Var230</th>\n",
       "      <th>labels</th>\n",
       "    </tr>\n",
       "  </thead>\n",
       "  <tbody>\n",
       "    <tr>\n",
       "      <th>0</th>\n",
       "      <td>0</td>\n",
       "      <td>NaN</td>\n",
       "      <td>NaN</td>\n",
       "      <td>NaN</td>\n",
       "      <td>NaN</td>\n",
       "      <td>NaN</td>\n",
       "      <td>3052.0</td>\n",
       "      <td>NaN</td>\n",
       "      <td>NaN</td>\n",
       "      <td>NaN</td>\n",
       "      <td>...</td>\n",
       "      <td>vr93T2a</td>\n",
       "      <td>LM8l689qOp</td>\n",
       "      <td>NaN</td>\n",
       "      <td>NaN</td>\n",
       "      <td>fKCe</td>\n",
       "      <td>02N6s8f</td>\n",
       "      <td>xwM2aC7IdeMC0</td>\n",
       "      <td>NaN</td>\n",
       "      <td>NaN</td>\n",
       "      <td>-1.0</td>\n",
       "    </tr>\n",
       "    <tr>\n",
       "      <th>1</th>\n",
       "      <td>1</td>\n",
       "      <td>NaN</td>\n",
       "      <td>NaN</td>\n",
       "      <td>NaN</td>\n",
       "      <td>NaN</td>\n",
       "      <td>NaN</td>\n",
       "      <td>1813.0</td>\n",
       "      <td>7.0</td>\n",
       "      <td>NaN</td>\n",
       "      <td>NaN</td>\n",
       "      <td>...</td>\n",
       "      <td>6hQ9lNX</td>\n",
       "      <td>LM8l689qOp</td>\n",
       "      <td>NaN</td>\n",
       "      <td>ELof</td>\n",
       "      <td>xb3V</td>\n",
       "      <td>RAYp</td>\n",
       "      <td>55YFVY9</td>\n",
       "      <td>mj86</td>\n",
       "      <td>NaN</td>\n",
       "      <td>-1.0</td>\n",
       "    </tr>\n",
       "    <tr>\n",
       "      <th>2</th>\n",
       "      <td>2</td>\n",
       "      <td>NaN</td>\n",
       "      <td>NaN</td>\n",
       "      <td>NaN</td>\n",
       "      <td>NaN</td>\n",
       "      <td>NaN</td>\n",
       "      <td>1953.0</td>\n",
       "      <td>7.0</td>\n",
       "      <td>NaN</td>\n",
       "      <td>NaN</td>\n",
       "      <td>...</td>\n",
       "      <td>catzS2D</td>\n",
       "      <td>LM8l689qOp</td>\n",
       "      <td>NaN</td>\n",
       "      <td>NaN</td>\n",
       "      <td>FSa2</td>\n",
       "      <td>ZI9m</td>\n",
       "      <td>ib5G6X1eUxUn6</td>\n",
       "      <td>mj86</td>\n",
       "      <td>NaN</td>\n",
       "      <td>-1.0</td>\n",
       "    </tr>\n",
       "    <tr>\n",
       "      <th>3</th>\n",
       "      <td>3</td>\n",
       "      <td>NaN</td>\n",
       "      <td>NaN</td>\n",
       "      <td>NaN</td>\n",
       "      <td>NaN</td>\n",
       "      <td>NaN</td>\n",
       "      <td>1533.0</td>\n",
       "      <td>7.0</td>\n",
       "      <td>NaN</td>\n",
       "      <td>NaN</td>\n",
       "      <td>...</td>\n",
       "      <td>e4lqvY0</td>\n",
       "      <td>LM8l689qOp</td>\n",
       "      <td>NaN</td>\n",
       "      <td>NaN</td>\n",
       "      <td>xb3V</td>\n",
       "      <td>RAYp</td>\n",
       "      <td>F2FyR07IdsN7I</td>\n",
       "      <td>NaN</td>\n",
       "      <td>NaN</td>\n",
       "      <td>1.0</td>\n",
       "    </tr>\n",
       "    <tr>\n",
       "      <th>4</th>\n",
       "      <td>4</td>\n",
       "      <td>NaN</td>\n",
       "      <td>NaN</td>\n",
       "      <td>NaN</td>\n",
       "      <td>NaN</td>\n",
       "      <td>NaN</td>\n",
       "      <td>686.0</td>\n",
       "      <td>7.0</td>\n",
       "      <td>NaN</td>\n",
       "      <td>NaN</td>\n",
       "      <td>...</td>\n",
       "      <td>MAz3HNj</td>\n",
       "      <td>LM8l689qOp</td>\n",
       "      <td>NaN</td>\n",
       "      <td>NaN</td>\n",
       "      <td>WqMG</td>\n",
       "      <td>RAYp</td>\n",
       "      <td>F2FyR07IdsN7I</td>\n",
       "      <td>NaN</td>\n",
       "      <td>NaN</td>\n",
       "      <td>-1.0</td>\n",
       "    </tr>\n",
       "  </tbody>\n",
       "</table>\n",
       "<p>5 rows × 232 columns</p>\n",
       "</div>"
      ],
      "text/plain": [
       "   ID  Var1  Var2  Var3  Var4  Var5    Var6  Var7  Var8  Var9  ...   Var222  \\\n",
       "0   0   NaN   NaN   NaN   NaN   NaN  3052.0   NaN   NaN   NaN  ...  vr93T2a   \n",
       "1   1   NaN   NaN   NaN   NaN   NaN  1813.0   7.0   NaN   NaN  ...  6hQ9lNX   \n",
       "2   2   NaN   NaN   NaN   NaN   NaN  1953.0   7.0   NaN   NaN  ...  catzS2D   \n",
       "3   3   NaN   NaN   NaN   NaN   NaN  1533.0   7.0   NaN   NaN  ...  e4lqvY0   \n",
       "4   4   NaN   NaN   NaN   NaN   NaN   686.0   7.0   NaN   NaN  ...  MAz3HNj   \n",
       "\n",
       "       Var223  Var224  Var225  Var226   Var227         Var228  Var229  Var230  \\\n",
       "0  LM8l689qOp     NaN     NaN    fKCe  02N6s8f  xwM2aC7IdeMC0     NaN     NaN   \n",
       "1  LM8l689qOp     NaN    ELof    xb3V     RAYp        55YFVY9    mj86     NaN   \n",
       "2  LM8l689qOp     NaN     NaN    FSa2     ZI9m  ib5G6X1eUxUn6    mj86     NaN   \n",
       "3  LM8l689qOp     NaN     NaN    xb3V     RAYp  F2FyR07IdsN7I     NaN     NaN   \n",
       "4  LM8l689qOp     NaN     NaN    WqMG     RAYp  F2FyR07IdsN7I     NaN     NaN   \n",
       "\n",
       "   labels  \n",
       "0    -1.0  \n",
       "1    -1.0  \n",
       "2    -1.0  \n",
       "3     1.0  \n",
       "4    -1.0  \n",
       "\n",
       "[5 rows x 232 columns]"
      ]
     },
     "execution_count": 3,
     "metadata": {},
     "output_type": "execute_result"
    }
   ],
   "source": [
    "data.head()"
   ]
  },
  {
   "cell_type": "code",
   "execution_count": 4,
   "id": "e92561aa",
   "metadata": {},
   "outputs": [
    {
     "name": "stdout",
     "output_type": "stream",
     "text": [
      "<class 'pandas.core.frame.DataFrame'>\n",
      "RangeIndex: 18299 entries, 0 to 18298\n",
      "Columns: 232 entries, ID to labels\n",
      "dtypes: float64(192), int64(2), object(38)\n",
      "memory usage: 32.4+ MB\n"
     ]
    }
   ],
   "source": [
    "data.info()"
   ]
  },
  {
   "cell_type": "code",
   "execution_count": 5,
   "id": "67d3da0a",
   "metadata": {},
   "outputs": [
    {
     "data": {
      "text/plain": [
       "{'ID': 0,\n",
       " 'Var1': 18038,\n",
       " 'Var2': 17831,\n",
       " 'Var3': 17832,\n",
       " 'Var4': 17736,\n",
       " 'Var5': 17799,\n",
       " 'Var6': 1991,\n",
       " 'Var7': 1976,\n",
       " 'Var8': 18299,\n",
       " 'Var9': 18038,\n",
       " 'Var10': 17799,\n",
       " 'Var11': 17832,\n",
       " 'Var12': 18085,\n",
       " 'Var13': 1976,\n",
       " 'Var14': 17832,\n",
       " 'Var15': 18299,\n",
       " 'Var16': 17799,\n",
       " 'Var17': 17736,\n",
       " 'Var18': 17736,\n",
       " 'Var19': 17736,\n",
       " 'Var20': 18299,\n",
       " 'Var21': 1991,\n",
       " 'Var22': 1792,\n",
       " 'Var23': 17799,\n",
       " 'Var24': 2616,\n",
       " 'Var25': 1792,\n",
       " 'Var26': 17799,\n",
       " 'Var27': 17799,\n",
       " 'Var28': 1793,\n",
       " 'Var29': 18038,\n",
       " 'Var30': 18038,\n",
       " 'Var31': 18299,\n",
       " 'Var32': 18299,\n",
       " 'Var33': 18010,\n",
       " 'Var34': 17831,\n",
       " 'Var35': 1792,\n",
       " 'Var36': 17831,\n",
       " 'Var37': 17736,\n",
       " 'Var38': 1792,\n",
       " 'Var39': 18299,\n",
       " 'Var40': 17831,\n",
       " 'Var41': 18038,\n",
       " 'Var42': 18299,\n",
       " 'Var43': 17831,\n",
       " 'Var44': 1792,\n",
       " 'Var45': 18171,\n",
       " 'Var46': 17831,\n",
       " 'Var47': 18038,\n",
       " 'Var48': 18299,\n",
       " 'Var49': 17831,\n",
       " 'Var50': 18038,\n",
       " 'Var51': 16888,\n",
       " 'Var52': 18299,\n",
       " 'Var53': 18038,\n",
       " 'Var54': 17831,\n",
       " 'Var55': 18299,\n",
       " 'Var56': 18055,\n",
       " 'Var57': 0,\n",
       " 'Var58': 18038,\n",
       " 'Var59': 17990,\n",
       " 'Var60': 17799,\n",
       " 'Var61': 18010,\n",
       " 'Var62': 18085,\n",
       " 'Var63': 18041,\n",
       " 'Var64': 18215,\n",
       " 'Var65': 1976,\n",
       " 'Var66': 18041,\n",
       " 'Var67': 17799,\n",
       " 'Var68': 17831,\n",
       " 'Var69': 17799,\n",
       " 'Var70': 17799,\n",
       " 'Var71': 17911,\n",
       " 'Var72': 8163,\n",
       " 'Var73': 0,\n",
       " 'Var74': 1976,\n",
       " 'Var75': 17831,\n",
       " 'Var76': 1792,\n",
       " 'Var77': 18038,\n",
       " 'Var78': 1792,\n",
       " 'Var79': 18299,\n",
       " 'Var80': 17799,\n",
       " 'Var81': 1991,\n",
       " 'Var82': 17736,\n",
       " 'Var83': 1792,\n",
       " 'Var84': 17832,\n",
       " 'Var85': 1792,\n",
       " 'Var86': 18038,\n",
       " 'Var87': 18038,\n",
       " 'Var88': 17922,\n",
       " 'Var89': 18055,\n",
       " 'Var90': 18038,\n",
       " 'Var91': 17911,\n",
       " 'Var92': 18247,\n",
       " 'Var93': 17799,\n",
       " 'Var94': 8163,\n",
       " 'Var95': 17831,\n",
       " 'Var96': 17831,\n",
       " 'Var97': 17799,\n",
       " 'Var98': 18085,\n",
       " 'Var99': 17736,\n",
       " 'Var100': 18038,\n",
       " 'Var101': 18009,\n",
       " 'Var102': 18157,\n",
       " 'Var103': 17799,\n",
       " 'Var104': 17990,\n",
       " 'Var105': 17990,\n",
       " 'Var106': 17736,\n",
       " 'Var107': 17799,\n",
       " 'Var108': 18038,\n",
       " 'Var109': 2616,\n",
       " 'Var110': 18038,\n",
       " 'Var111': 17911,\n",
       " 'Var112': 1792,\n",
       " 'Var113': 0,\n",
       " 'Var114': 17831,\n",
       " 'Var115': 17990,\n",
       " 'Var116': 18038,\n",
       " 'Var117': 17736,\n",
       " 'Var118': 18247,\n",
       " 'Var119': 1991,\n",
       " 'Var120': 17799,\n",
       " 'Var121': 18038,\n",
       " 'Var122': 17831,\n",
       " 'Var123': 1792,\n",
       " 'Var124': 17736,\n",
       " 'Var125': 1976,\n",
       " 'Var126': 5044,\n",
       " 'Var127': 17922,\n",
       " 'Var128': 17922,\n",
       " 'Var129': 18038,\n",
       " 'Var130': 17832,\n",
       " 'Var131': 18038,\n",
       " 'Var132': 1792,\n",
       " 'Var133': 1792,\n",
       " 'Var134': 1792,\n",
       " 'Var135': 17736,\n",
       " 'Var136': 18041,\n",
       " 'Var137': 18038,\n",
       " 'Var138': 17736,\n",
       " 'Var139': 17799,\n",
       " 'Var140': 1976,\n",
       " 'Var141': 18299,\n",
       " 'Var142': 18038,\n",
       " 'Var143': 1792,\n",
       " 'Var144': 1991,\n",
       " 'Var145': 17736,\n",
       " 'Var146': 17799,\n",
       " 'Var147': 17799,\n",
       " 'Var148': 17799,\n",
       " 'Var149': 2616,\n",
       " 'Var150': 17736,\n",
       " 'Var151': 18010,\n",
       " 'Var152': 17736,\n",
       " 'Var153': 1792,\n",
       " 'Var154': 18038,\n",
       " 'Var155': 17736,\n",
       " 'Var156': 18041,\n",
       " 'Var157': 17911,\n",
       " 'Var158': 18009,\n",
       " 'Var159': 17831,\n",
       " 'Var160': 1792,\n",
       " 'Var161': 17736,\n",
       " 'Var162': 17831,\n",
       " 'Var163': 1792,\n",
       " 'Var164': 17736,\n",
       " 'Var165': 18009,\n",
       " 'Var166': 17799,\n",
       " 'Var167': 18299,\n",
       " 'Var168': 18038,\n",
       " 'Var169': 18299,\n",
       " 'Var170': 17831,\n",
       " 'Var171': 17922,\n",
       " 'Var172': 17799,\n",
       " 'Var173': 1792,\n",
       " 'Var174': 17736,\n",
       " 'Var175': 18299,\n",
       " 'Var176': 17832,\n",
       " 'Var177': 17831,\n",
       " 'Var178': 18055,\n",
       " 'Var179': 17736,\n",
       " 'Var180': 18038,\n",
       " 'Var181': 1792,\n",
       " 'Var182': 17736,\n",
       " 'Var183': 17831,\n",
       " 'Var184': 17831,\n",
       " 'Var185': 18299,\n",
       " 'Var186': 18038,\n",
       " 'Var187': 18038,\n",
       " 'Var188': 17831,\n",
       " 'Var189': 10618,\n",
       " 'Var190': 18195,\n",
       " 'Var191': 17922,\n",
       " 'Var192': 124,\n",
       " 'Var193': 0,\n",
       " 'Var194': 13660,\n",
       " 'Var195': 0,\n",
       " 'Var196': 0,\n",
       " 'Var197': 55,\n",
       " 'Var198': 0,\n",
       " 'Var199': 2,\n",
       " 'Var200': 9305,\n",
       " 'Var201': 13660,\n",
       " 'Var202': 1,\n",
       " 'Var203': 55,\n",
       " 'Var204': 0,\n",
       " 'Var205': 714,\n",
       " 'Var206': 1991,\n",
       " 'Var207': 0,\n",
       " 'Var208': 55,\n",
       " 'Var209': 18299,\n",
       " 'Var210': 0,\n",
       " 'Var211': 0,\n",
       " 'Var212': 0,\n",
       " 'Var213': 17911,\n",
       " 'Var214': 9305,\n",
       " 'Var215': 18041,\n",
       " 'Var216': 1,\n",
       " 'Var217': 270,\n",
       " 'Var218': 270,\n",
       " 'Var219': 1883,\n",
       " 'Var220': 1,\n",
       " 'Var221': 1,\n",
       " 'Var222': 1,\n",
       " 'Var223': 1883,\n",
       " 'Var224': 17990,\n",
       " 'Var225': 9572,\n",
       " 'Var226': 1,\n",
       " 'Var227': 1,\n",
       " 'Var228': 1,\n",
       " 'Var229': 10366,\n",
       " 'Var230': 18299,\n",
       " 'labels': 1}"
      ]
     },
     "execution_count": 5,
     "metadata": {},
     "output_type": "execute_result"
    }
   ],
   "source": [
    "# check null in features\n",
    "dict_nan = {name: np.sum(data[name].isnull()) for name in data.columns}\n",
    "dict_nan"
   ]
  },
  {
   "cell_type": "code",
   "execution_count": 6,
   "id": "3bde9e6d",
   "metadata": {},
   "outputs": [
    {
     "name": "stdout",
     "output_type": "stream",
     "text": [
      "-1.0    16921\n",
      " 1.0     1377\n",
      "Name: labels, dtype: int64\n",
      "[-1.  1. nan]\n"
     ]
    }
   ],
   "source": [
    "# check disbalance in classes\n",
    "print(data['labels'].value_counts())\n",
    "print(data['labels'].unique())"
   ]
  },
  {
   "cell_type": "code",
   "execution_count": 7,
   "id": "8c1b740b",
   "metadata": {},
   "outputs": [],
   "source": [
    "data['labels'].replace(-1, 0, inplace=True)\n",
    "data.dropna(subset=['labels'], inplace=True)\n",
    "labels = data['labels']\n",
    "data = data.iloc[:,:-1]"
   ]
  },
  {
   "cell_type": "code",
   "execution_count": 8,
   "id": "482b848f",
   "metadata": {},
   "outputs": [
    {
     "data": {
      "text/plain": [
       "0.0    16921\n",
       "1.0     1377\n",
       "Name: labels, dtype: int64"
      ]
     },
     "execution_count": 8,
     "metadata": {},
     "output_type": "execute_result"
    }
   ],
   "source": [
    "labels.value_counts()"
   ]
  },
  {
   "cell_type": "markdown",
   "id": "5aab0b3e",
   "metadata": {},
   "source": [
    "# Simple preprocessing feature"
   ]
  },
  {
   "cell_type": "code",
   "execution_count": 9,
   "id": "54328f82",
   "metadata": {},
   "outputs": [],
   "source": [
    "# drop feture with null more half of dataset\n",
    "def check_feat_without(data, columns, threshold = 0):\n",
    "    flag_nan_col = [np.sum(data[name].isnull()) < threshold for name in columns]\n",
    "    return columns[flag_nan_col]\n",
    "    "
   ]
  },
  {
   "cell_type": "code",
   "execution_count": 10,
   "id": "89b02b17",
   "metadata": {},
   "outputs": [
    {
     "name": "stdout",
     "output_type": "stream",
     "text": [
      "189\n",
      "41\n"
     ]
    }
   ],
   "source": [
    "numeric_col = data.columns[1:190]\n",
    "cat_col = data.columns[190:]\n",
    "print(len(numeric_col))\n",
    "print(len(cat_col))"
   ]
  },
  {
   "cell_type": "code",
   "execution_count": 11,
   "id": "5f44086e",
   "metadata": {},
   "outputs": [
    {
     "name": "stdout",
     "output_type": "stream",
     "text": [
      "41\n",
      "28\n"
     ]
    }
   ],
   "source": [
    "right_numeric_column = check_feat_without(data, numeric_col, threshold = len(data)//2)\n",
    "right_cat_column = check_feat_without(data, cat_col, threshold = len(data)//2)\n",
    "print(len(right_numeric_column))\n",
    "print(len(right_cat_column))"
   ]
  },
  {
   "cell_type": "code",
   "execution_count": 12,
   "id": "dd15f9ff",
   "metadata": {},
   "outputs": [
    {
     "name": "stdout",
     "output_type": "stream",
     "text": [
      "Var192: 326\n",
      "Var193: 44\n",
      "Var195: 21\n",
      "Var196: 4\n",
      "Var197: 207\n",
      "Var198: 2721\n",
      "Var199: 2639\n",
      "Var202: 4673\n",
      "Var203: 4\n",
      "Var204: 100\n",
      "Var205: 4\n",
      "Var206: 22\n",
      "Var207: 12\n",
      "Var208: 3\n",
      "Var210: 6\n",
      "Var211: 2\n",
      "Var212: 71\n",
      "Var216: 1247\n",
      "Var217: 7944\n",
      "Var218: 3\n",
      "Var219: 20\n",
      "Var220: 2721\n",
      "Var221: 7\n",
      "Var222: 2721\n",
      "Var223: 5\n",
      "Var226: 23\n",
      "Var227: 7\n",
      "Var228: 29\n"
     ]
    }
   ],
   "source": [
    "# check unique in cat feat\n",
    "for cur_cat in right_cat_column:\n",
    "    count_uniq = len(data[cur_cat].unique())\n",
    "    print(f'{cur_cat}: {count_uniq}')"
   ]
  },
  {
   "cell_type": "code",
   "execution_count": 13,
   "id": "4f09f0d9",
   "metadata": {},
   "outputs": [
    {
     "name": "stdout",
     "output_type": "stream",
     "text": [
      "Var6: 1039\n",
      "Var7: 7\n",
      "Var13: 1877\n",
      "Var21: 498\n",
      "Var22: 498\n",
      "Var24: 63\n",
      "Var25: 190\n",
      "Var28: 2513\n",
      "Var35: 10\n",
      "Var38: 11908\n",
      "Var44: 6\n",
      "Var57: 14013\n",
      "Var65: 13\n",
      "Var72: 9\n",
      "Var73: 129\n",
      "Var74: 284\n",
      "Var76: 11377\n",
      "Var78: 13\n",
      "Var81: 15952\n",
      "Var83: 130\n",
      "Var85: 109\n",
      "Var94: 8571\n",
      "Var109: 149\n",
      "Var112: 158\n",
      "Var113: 17900\n",
      "Var119: 1003\n",
      "Var123: 191\n",
      "Var125: 6217\n",
      "Var126: 52\n",
      "Var132: 18\n",
      "Var133: 14165\n",
      "Var134: 12639\n",
      "Var140: 1859\n",
      "Var143: 5\n",
      "Var144: 11\n",
      "Var149: 7524\n",
      "Var153: 14567\n",
      "Var160: 273\n",
      "Var163: 9049\n",
      "Var173: 4\n",
      "Var181: 7\n"
     ]
    }
   ],
   "source": [
    "# check unique in num feat\n",
    "for cur_num in right_numeric_column:\n",
    "    count_uniq = len(data[cur_num].unique())\n",
    "    print(f'{cur_num}: {count_uniq}')"
   ]
  },
  {
   "cell_type": "code",
   "execution_count": 14,
   "id": "098c5e77",
   "metadata": {},
   "outputs": [
    {
     "data": {
      "text/plain": [
       "array([ 0., nan,  2.,  4.])"
      ]
     },
     "execution_count": 14,
     "metadata": {},
     "output_type": "execute_result"
    }
   ],
   "source": [
    "data['Var173'].unique()"
   ]
  },
  {
   "cell_type": "markdown",
   "id": "3fb2ffd1",
   "metadata": {},
   "source": [
    "# FILL NAN"
   ]
  },
  {
   "cell_type": "markdown",
   "id": "7adf67e4",
   "metadata": {},
   "source": [
    "We will use different method to fill on nan. The quality will be checked on validation roc auc xgboost "
   ]
  },
  {
   "cell_type": "code",
   "execution_count": 15,
   "id": "f2302a9f",
   "metadata": {},
   "outputs": [
    {
     "ename": "SyntaxError",
     "evalue": "invalid syntax (<ipython-input-15-28c1b7062389>, line 2)",
     "output_type": "error",
     "traceback": [
      "\u001b[1;36m  File \u001b[1;32m\"<ipython-input-15-28c1b7062389>\"\u001b[1;36m, line \u001b[1;32m2\u001b[0m\n\u001b[1;33m    ближайшие соседи\u001b[0m\n\u001b[1;37m              ^\u001b[0m\n\u001b[1;31mSyntaxError\u001b[0m\u001b[1;31m:\u001b[0m invalid syntax\n"
     ]
    }
   ],
   "source": [
    "# статистика среднее* ...\n",
    "# ближайшие соседи*\n",
    "# матричное разложение\n",
    "# как прогноз по другим фичам*\n",
    "# метод в деревьях"
   ]
  },
  {
   "cell_type": "code",
   "execution_count": 15,
   "id": "acc47264",
   "metadata": {},
   "outputs": [],
   "source": [
    "model_classifier = xgb.XGBClassifier()"
   ]
  },
  {
   "cell_type": "code",
   "execution_count": 58,
   "id": "53dee0b9",
   "metadata": {},
   "outputs": [],
   "source": [
    "# class encoder cat\n",
    "class LabelTransformer():\n",
    "#     def __init__(self):\n",
    "#         return self\n",
    "\n",
    "    def fit(self, X, y=None):\n",
    "        self.df = pd.DataFrame(X)\n",
    "        self.columns_trans = self.df.columns.to_numpy()\n",
    "        self.encoder_columns = dict()\n",
    "        self.unique_fitted_value = dict()\n",
    "        for cur_col in self.columns_trans:\n",
    "            unique_val = np.append(self.df[cur_col].unique(), 'unk_val')\n",
    "            self.unique_fitted_value[cur_col] = unique_val\n",
    "            self.encoder_columns[cur_col] = LabelEncoder().fit(unique_val)\n",
    "        return self\n",
    "\n",
    "    def transform(self, X, y=None):\n",
    "        self.df = pd.DataFrame(X)\n",
    "        self.columns_trans = self.df.columns.to_numpy()\n",
    "        for cur_col in self.columns_trans:\n",
    "            \n",
    "            unique_val_trans = self.df[cur_col].unique()\n",
    "            unique_val_trans = unique_val_trans[~pd.isna(unique_val_trans)]\n",
    "            \n",
    "            unique_val_train = self.unique_fitted_value[cur_col]\n",
    "            unique_val_train = unique_val_train[~pd.isna(unique_val_train)]\n",
    "            \n",
    "            dissapear_val = np.setdiff1d(unique_val_trans, unique_val_train)\n",
    "            self.df.loc[self.df[cur_col].isin(dissapear_val), cur_col] = 'unk_val'\n",
    "            self.df[cur_col] = self.encoder_columns[cur_col].transform(self.df[cur_col])\n",
    "            \n",
    "        return self.df\n"
   ]
  },
  {
   "cell_type": "code",
   "execution_count": 74,
   "id": "0f646495",
   "metadata": {},
   "outputs": [],
   "source": [
    "pipeline_numeric = Pipeline(steps =[\n",
    "    ('selecting_num', preprocessing.FunctionTransformer(lambda data: data.loc[:, right_numeric_column])),\n",
    "    ('fill_nan_num', SimpleImputer(strategy='mean')),\n",
    "    ('scaler_num', StandardScaler())\n",
    "])\n",
    "\n",
    "pipeline_cat = Pipeline(steps = [\n",
    "    ('selecting_cat', preprocessing.FunctionTransformer(lambda data: data.loc[:, right_cat_column])),\n",
    "    ('fill_nan_cat', SimpleImputer(strategy='most_frequent')),\n",
    "    ('encoder_cat', LabelTransformer())\n",
    "])"
   ]
  },
  {
   "cell_type": "code",
   "execution_count": 75,
   "id": "cb279b90",
   "metadata": {},
   "outputs": [],
   "source": [
    "estimator = Pipeline(steps=[\n",
    "    ('feature_preprocessing', FeatureUnion(transformer_list=[\n",
    "        ('numeric_variables_processing', pipeline_numeric),\n",
    "        ('category_variables_processing', pipeline_cat)\n",
    "    ])),\n",
    "    ('model',model_classifier)\n",
    "])"
   ]
  },
  {
   "cell_type": "code",
   "execution_count": 76,
   "id": "695551da",
   "metadata": {},
   "outputs": [],
   "source": [
    "train_data, test_data, train_target, test_target = train_test_split(data, labels, random_state = 0, test_size=0.3, shuffle=True,\n",
    "                                                                    stratify=labels)"
   ]
  },
  {
   "cell_type": "code",
   "execution_count": 77,
   "id": "aee448d8",
   "metadata": {},
   "outputs": [
    {
     "name": "stdout",
     "output_type": "stream",
     "text": [
      "[09:14:01] WARNING: ..\\src\\learner.cc:1115: Starting in XGBoost 1.3.0, the default evaluation metric used with the objective 'binary:logistic' was changed from 'error' to 'logloss'. Explicitly set eval_metric if you'd like to restore the old behavior.\n"
     ]
    },
    {
     "data": {
      "text/plain": [
       "Pipeline(steps=[('feature_preprocessing',\n",
       "                 FeatureUnion(transformer_list=[('numeric_variables_processing',\n",
       "                                                 Pipeline(steps=[('selecting_num',\n",
       "                                                                  FunctionTransformer(func=<function <lambda> at 0x0000021C8E8E8820>)),\n",
       "                                                                 ('fill_nan_num',\n",
       "                                                                  SimpleImputer(strategy='median')),\n",
       "                                                                 ('scaler_num',\n",
       "                                                                  StandardScaler())])),\n",
       "                                                ('category_variables_processing',\n",
       "                                                 Pipeline(steps=[('selecting_c...\n",
       "                               gamma=0, gpu_id=-1, importance_type=None,\n",
       "                               interaction_constraints='',\n",
       "                               learning_rate=0.300000012, max_delta_step=0,\n",
       "                               max_depth=6, min_child_weight=1, missing=nan,\n",
       "                               monotone_constraints='()', n_estimators=100,\n",
       "                               n_jobs=8, num_parallel_tree=1, predictor='auto',\n",
       "                               random_state=0, reg_alpha=0, reg_lambda=1,\n",
       "                               scale_pos_weight=1, subsample=1,\n",
       "                               tree_method='exact', validate_parameters=1,\n",
       "                               verbosity=None))])"
      ]
     },
     "execution_count": 77,
     "metadata": {},
     "output_type": "execute_result"
    }
   ],
   "source": [
    "estimator.fit(train_data, train_target)"
   ]
  },
  {
   "cell_type": "code",
   "execution_count": 78,
   "id": "f94b870f",
   "metadata": {},
   "outputs": [],
   "source": [
    "predicted = estimator.predict(test_data)"
   ]
  },
  {
   "cell_type": "code",
   "execution_count": 79,
   "id": "1dead991",
   "metadata": {},
   "outputs": [
    {
     "data": {
      "text/plain": [
       "0.6219658176497972"
      ]
     },
     "execution_count": 79,
     "metadata": {},
     "output_type": "execute_result"
    }
   ],
   "source": [
    "roc_auc_score(predicted, test_target)"
   ]
  },
  {
   "cell_type": "code",
   "execution_count": 80,
   "id": "619db93a",
   "metadata": {},
   "outputs": [],
   "source": [
    "cv_strategy = StratifiedShuffleSplit(n_splits=5, test_size=0.3, random_state=42)"
   ]
  },
  {
   "cell_type": "code",
   "execution_count": 81,
   "id": "2785e7ea",
   "metadata": {},
   "outputs": [
    {
     "name": "stdout",
     "output_type": "stream",
     "text": [
      "[09:14:10] WARNING: ..\\src\\learner.cc:1115: Starting in XGBoost 1.3.0, the default evaluation metric used with the objective 'binary:logistic' was changed from 'error' to 'logloss'. Explicitly set eval_metric if you'd like to restore the old behavior.\n",
      "[09:14:13] WARNING: ..\\src\\learner.cc:1115: Starting in XGBoost 1.3.0, the default evaluation metric used with the objective 'binary:logistic' was changed from 'error' to 'logloss'. Explicitly set eval_metric if you'd like to restore the old behavior.\n",
      "[09:14:16] WARNING: ..\\src\\learner.cc:1115: Starting in XGBoost 1.3.0, the default evaluation metric used with the objective 'binary:logistic' was changed from 'error' to 'logloss'. Explicitly set eval_metric if you'd like to restore the old behavior.\n",
      "[09:14:19] WARNING: ..\\src\\learner.cc:1115: Starting in XGBoost 1.3.0, the default evaluation metric used with the objective 'binary:logistic' was changed from 'error' to 'logloss'. Explicitly set eval_metric if you'd like to restore the old behavior.\n",
      "[09:14:23] WARNING: ..\\src\\learner.cc:1115: Starting in XGBoost 1.3.0, the default evaluation metric used with the objective 'binary:logistic' was changed from 'error' to 'logloss'. Explicitly set eval_metric if you'd like to restore the old behavior.\n"
     ]
    }
   ],
   "source": [
    "cv_xgb = cross_val_score(estimator, train_data, train_target, cv=cv_strategy, scoring='f1')"
   ]
  },
  {
   "cell_type": "code",
   "execution_count": 82,
   "id": "e4d8abdd",
   "metadata": {},
   "outputs": [
    {
     "data": {
      "text/plain": [
       "array([0.00662252, 0.03947368, 0.02675585, 0.02614379, 0.01973684])"
      ]
     },
     "execution_count": 82,
     "metadata": {},
     "output_type": "execute_result"
    }
   ],
   "source": [
    "cv_xgb "
   ]
  },
  {
   "cell_type": "code",
   "execution_count": null,
   "id": "315a53bc",
   "metadata": {},
   "outputs": [],
   "source": []
  }
 ],
 "metadata": {
  "kernelspec": {
   "display_name": "Python 3",
   "language": "python",
   "name": "python3"
  },
  "language_info": {
   "codemirror_mode": {
    "name": "ipython",
    "version": 3
   },
   "file_extension": ".py",
   "mimetype": "text/x-python",
   "name": "python",
   "nbconvert_exporter": "python",
   "pygments_lexer": "ipython3",
   "version": "3.8.8"
  }
 },
 "nbformat": 4,
 "nbformat_minor": 5
}
