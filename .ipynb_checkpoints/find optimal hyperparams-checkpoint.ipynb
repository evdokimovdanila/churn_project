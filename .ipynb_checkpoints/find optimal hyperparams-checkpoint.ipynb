{
 "cells": [
  {
   "cell_type": "code",
   "execution_count": 26,
   "id": "4fae4a58",
   "metadata": {},
   "outputs": [],
   "source": [
    "import xgboost as xgb\n",
    "from catboost import CatBoostClassifier, cv ,Pool\n",
    "from sklearn import preprocessing \n",
    "from sklearn.preprocessing import LabelEncoder, StandardScaler, OneHotEncoder\n",
    "from sklearn.linear_model import LogisticRegression, RidgeClassifier\n",
    "from sklearn.metrics import classification_report, roc_auc_score\n",
    "from sklearn.model_selection import cross_val_score, train_test_split, StratifiedShuffleSplit, GridSearchCV\n",
    "import numpy as np\n",
    "import pandas as pd\n",
    "import warnings\n",
    "warnings.filterwarnings('ignore')\n",
    "from sklearn.pipeline import Pipeline, FeatureUnion\n",
    "from sklearn.experimental import enable_iterative_imputer\n",
    "from sklearn.impute import SimpleImputer, IterativeImputer, KNNImputer\n",
    "import hyperopt\n",
    "import optuna"
   ]
  },
  {
   "cell_type": "markdown",
   "id": "14ed0359",
   "metadata": {},
   "source": [
    "# Download data"
   ]
  },
  {
   "cell_type": "code",
   "execution_count": 2,
   "id": "f4c42677",
   "metadata": {},
   "outputs": [],
   "source": [
    "data = pd.read_csv('./data/orange_small_churn_train_data.csv')"
   ]
  },
  {
   "cell_type": "code",
   "execution_count": 3,
   "id": "34b43761",
   "metadata": {},
   "outputs": [
    {
     "data": {
      "text/html": [
       "<div>\n",
       "<style scoped>\n",
       "    .dataframe tbody tr th:only-of-type {\n",
       "        vertical-align: middle;\n",
       "    }\n",
       "\n",
       "    .dataframe tbody tr th {\n",
       "        vertical-align: top;\n",
       "    }\n",
       "\n",
       "    .dataframe thead th {\n",
       "        text-align: right;\n",
       "    }\n",
       "</style>\n",
       "<table border=\"1\" class=\"dataframe\">\n",
       "  <thead>\n",
       "    <tr style=\"text-align: right;\">\n",
       "      <th></th>\n",
       "      <th>ID</th>\n",
       "      <th>Var1</th>\n",
       "      <th>Var2</th>\n",
       "      <th>Var3</th>\n",
       "      <th>Var4</th>\n",
       "      <th>Var5</th>\n",
       "      <th>Var6</th>\n",
       "      <th>Var7</th>\n",
       "      <th>Var8</th>\n",
       "      <th>Var9</th>\n",
       "      <th>...</th>\n",
       "      <th>Var222</th>\n",
       "      <th>Var223</th>\n",
       "      <th>Var224</th>\n",
       "      <th>Var225</th>\n",
       "      <th>Var226</th>\n",
       "      <th>Var227</th>\n",
       "      <th>Var228</th>\n",
       "      <th>Var229</th>\n",
       "      <th>Var230</th>\n",
       "      <th>labels</th>\n",
       "    </tr>\n",
       "  </thead>\n",
       "  <tbody>\n",
       "    <tr>\n",
       "      <th>0</th>\n",
       "      <td>0</td>\n",
       "      <td>NaN</td>\n",
       "      <td>NaN</td>\n",
       "      <td>NaN</td>\n",
       "      <td>NaN</td>\n",
       "      <td>NaN</td>\n",
       "      <td>3052.0</td>\n",
       "      <td>NaN</td>\n",
       "      <td>NaN</td>\n",
       "      <td>NaN</td>\n",
       "      <td>...</td>\n",
       "      <td>vr93T2a</td>\n",
       "      <td>LM8l689qOp</td>\n",
       "      <td>NaN</td>\n",
       "      <td>NaN</td>\n",
       "      <td>fKCe</td>\n",
       "      <td>02N6s8f</td>\n",
       "      <td>xwM2aC7IdeMC0</td>\n",
       "      <td>NaN</td>\n",
       "      <td>NaN</td>\n",
       "      <td>-1.0</td>\n",
       "    </tr>\n",
       "    <tr>\n",
       "      <th>1</th>\n",
       "      <td>1</td>\n",
       "      <td>NaN</td>\n",
       "      <td>NaN</td>\n",
       "      <td>NaN</td>\n",
       "      <td>NaN</td>\n",
       "      <td>NaN</td>\n",
       "      <td>1813.0</td>\n",
       "      <td>7.0</td>\n",
       "      <td>NaN</td>\n",
       "      <td>NaN</td>\n",
       "      <td>...</td>\n",
       "      <td>6hQ9lNX</td>\n",
       "      <td>LM8l689qOp</td>\n",
       "      <td>NaN</td>\n",
       "      <td>ELof</td>\n",
       "      <td>xb3V</td>\n",
       "      <td>RAYp</td>\n",
       "      <td>55YFVY9</td>\n",
       "      <td>mj86</td>\n",
       "      <td>NaN</td>\n",
       "      <td>-1.0</td>\n",
       "    </tr>\n",
       "    <tr>\n",
       "      <th>2</th>\n",
       "      <td>2</td>\n",
       "      <td>NaN</td>\n",
       "      <td>NaN</td>\n",
       "      <td>NaN</td>\n",
       "      <td>NaN</td>\n",
       "      <td>NaN</td>\n",
       "      <td>1953.0</td>\n",
       "      <td>7.0</td>\n",
       "      <td>NaN</td>\n",
       "      <td>NaN</td>\n",
       "      <td>...</td>\n",
       "      <td>catzS2D</td>\n",
       "      <td>LM8l689qOp</td>\n",
       "      <td>NaN</td>\n",
       "      <td>NaN</td>\n",
       "      <td>FSa2</td>\n",
       "      <td>ZI9m</td>\n",
       "      <td>ib5G6X1eUxUn6</td>\n",
       "      <td>mj86</td>\n",
       "      <td>NaN</td>\n",
       "      <td>-1.0</td>\n",
       "    </tr>\n",
       "    <tr>\n",
       "      <th>3</th>\n",
       "      <td>3</td>\n",
       "      <td>NaN</td>\n",
       "      <td>NaN</td>\n",
       "      <td>NaN</td>\n",
       "      <td>NaN</td>\n",
       "      <td>NaN</td>\n",
       "      <td>1533.0</td>\n",
       "      <td>7.0</td>\n",
       "      <td>NaN</td>\n",
       "      <td>NaN</td>\n",
       "      <td>...</td>\n",
       "      <td>e4lqvY0</td>\n",
       "      <td>LM8l689qOp</td>\n",
       "      <td>NaN</td>\n",
       "      <td>NaN</td>\n",
       "      <td>xb3V</td>\n",
       "      <td>RAYp</td>\n",
       "      <td>F2FyR07IdsN7I</td>\n",
       "      <td>NaN</td>\n",
       "      <td>NaN</td>\n",
       "      <td>1.0</td>\n",
       "    </tr>\n",
       "    <tr>\n",
       "      <th>4</th>\n",
       "      <td>4</td>\n",
       "      <td>NaN</td>\n",
       "      <td>NaN</td>\n",
       "      <td>NaN</td>\n",
       "      <td>NaN</td>\n",
       "      <td>NaN</td>\n",
       "      <td>686.0</td>\n",
       "      <td>7.0</td>\n",
       "      <td>NaN</td>\n",
       "      <td>NaN</td>\n",
       "      <td>...</td>\n",
       "      <td>MAz3HNj</td>\n",
       "      <td>LM8l689qOp</td>\n",
       "      <td>NaN</td>\n",
       "      <td>NaN</td>\n",
       "      <td>WqMG</td>\n",
       "      <td>RAYp</td>\n",
       "      <td>F2FyR07IdsN7I</td>\n",
       "      <td>NaN</td>\n",
       "      <td>NaN</td>\n",
       "      <td>-1.0</td>\n",
       "    </tr>\n",
       "  </tbody>\n",
       "</table>\n",
       "<p>5 rows × 232 columns</p>\n",
       "</div>"
      ],
      "text/plain": [
       "   ID  Var1  Var2  Var3  Var4  Var5    Var6  Var7  Var8  Var9  ...   Var222  \\\n",
       "0   0   NaN   NaN   NaN   NaN   NaN  3052.0   NaN   NaN   NaN  ...  vr93T2a   \n",
       "1   1   NaN   NaN   NaN   NaN   NaN  1813.0   7.0   NaN   NaN  ...  6hQ9lNX   \n",
       "2   2   NaN   NaN   NaN   NaN   NaN  1953.0   7.0   NaN   NaN  ...  catzS2D   \n",
       "3   3   NaN   NaN   NaN   NaN   NaN  1533.0   7.0   NaN   NaN  ...  e4lqvY0   \n",
       "4   4   NaN   NaN   NaN   NaN   NaN   686.0   7.0   NaN   NaN  ...  MAz3HNj   \n",
       "\n",
       "       Var223  Var224  Var225  Var226   Var227         Var228  Var229  Var230  \\\n",
       "0  LM8l689qOp     NaN     NaN    fKCe  02N6s8f  xwM2aC7IdeMC0     NaN     NaN   \n",
       "1  LM8l689qOp     NaN    ELof    xb3V     RAYp        55YFVY9    mj86     NaN   \n",
       "2  LM8l689qOp     NaN     NaN    FSa2     ZI9m  ib5G6X1eUxUn6    mj86     NaN   \n",
       "3  LM8l689qOp     NaN     NaN    xb3V     RAYp  F2FyR07IdsN7I     NaN     NaN   \n",
       "4  LM8l689qOp     NaN     NaN    WqMG     RAYp  F2FyR07IdsN7I     NaN     NaN   \n",
       "\n",
       "   labels  \n",
       "0    -1.0  \n",
       "1    -1.0  \n",
       "2    -1.0  \n",
       "3     1.0  \n",
       "4    -1.0  \n",
       "\n",
       "[5 rows x 232 columns]"
      ]
     },
     "execution_count": 3,
     "metadata": {},
     "output_type": "execute_result"
    }
   ],
   "source": [
    "data.head()"
   ]
  },
  {
   "cell_type": "code",
   "execution_count": 4,
   "id": "e92561aa",
   "metadata": {},
   "outputs": [
    {
     "name": "stdout",
     "output_type": "stream",
     "text": [
      "<class 'pandas.core.frame.DataFrame'>\n",
      "RangeIndex: 18299 entries, 0 to 18298\n",
      "Columns: 232 entries, ID to labels\n",
      "dtypes: float64(192), int64(2), object(38)\n",
      "memory usage: 32.4+ MB\n"
     ]
    }
   ],
   "source": [
    "data.info()"
   ]
  },
  {
   "cell_type": "code",
   "execution_count": 5,
   "id": "3bde9e6d",
   "metadata": {},
   "outputs": [
    {
     "name": "stdout",
     "output_type": "stream",
     "text": [
      "-1.0    16921\n",
      " 1.0     1377\n",
      "Name: labels, dtype: int64\n",
      "[-1.  1. nan]\n"
     ]
    }
   ],
   "source": [
    "# check disbalance in classes\n",
    "print(data['labels'].value_counts())\n",
    "print(data['labels'].unique())"
   ]
  },
  {
   "cell_type": "code",
   "execution_count": 6,
   "id": "8c1b740b",
   "metadata": {},
   "outputs": [],
   "source": [
    "data['labels'].replace(-1, 0, inplace=True)\n",
    "data.dropna(subset=['labels'], inplace=True)\n",
    "labels = data['labels']\n",
    "data = data.iloc[:,:-1]"
   ]
  },
  {
   "cell_type": "code",
   "execution_count": 7,
   "id": "ad50a292",
   "metadata": {},
   "outputs": [],
   "source": [
    "cat_boost_selecting_feature = ['Var126', 'Var113', 'Var199', 'Var57', 'Var202', 'Var74', 'Var218', 'Var73', 'Var205', 'Var81',\n",
    " 'Var207', 'Var133', 'Var38', 'Var192', 'Var216', 'Var13', 'Var193', 'Var222', 'Var134', 'Var153', 'Var123', 'Var226', 'Var149',\n",
    " 'Var210', 'Var206', 'Var212', 'Var219', 'Var204', 'Var125', 'Var28']"
   ]
  },
  {
   "cell_type": "code",
   "execution_count": 8,
   "id": "482b848f",
   "metadata": {},
   "outputs": [],
   "source": [
    "numeric_col = data.columns[1:190]\n",
    "cat_col = data.columns[190:]\n",
    "new_numeric = np.intersect1d(numeric_col, cat_boost_selecting_feature)\n",
    "new_cat = np.intersect1d(cat_col, cat_boost_selecting_feature)"
   ]
  },
  {
   "cell_type": "code",
   "execution_count": 11,
   "id": "eb6d55f9",
   "metadata": {},
   "outputs": [],
   "source": [
    "data_train = data[cat_boost_selecting_feature]"
   ]
  },
  {
   "cell_type": "markdown",
   "id": "508bf470",
   "metadata": {},
   "source": [
    "hyper opt cat boost"
   ]
  },
  {
   "cell_type": "code",
   "execution_count": 12,
   "id": "988ab5b3",
   "metadata": {},
   "outputs": [],
   "source": [
    "train_data_boost, test_data_boost, train_label_boost, test_label_boost = train_test_split(data_train, labels,\n",
    "                                                                                         test_size=0.3,random_state=42)"
   ]
  },
  {
   "cell_type": "code",
   "execution_count": 13,
   "id": "90a8cbdb",
   "metadata": {},
   "outputs": [],
   "source": [
    "train_data_boost.fillna('NaN',inplace=True)\n",
    "test_data_boost.fillna('NaN',inplace=True)"
   ]
  },
  {
   "cell_type": "code",
   "execution_count": 14,
   "id": "af65b6df",
   "metadata": {},
   "outputs": [],
   "source": [
    "train_pool = Pool(train_data_boost, train_label_boost, cat_features=list(new_cat))\n",
    "test_pool = Pool(test_data_boost, test_label_boost, cat_features=list(new_cat))"
   ]
  },
  {
   "cell_type": "markdown",
   "id": "4699ff33",
   "metadata": {},
   "source": [
    "Find optimal parameters model"
   ]
  },
  {
   "cell_type": "code",
   "execution_count": 17,
   "id": "a2b7d38e",
   "metadata": {},
   "outputs": [],
   "source": [
    "def hyperopt_obj(params):\n",
    "    model = CatBoostClassifier(\n",
    "                                l2_leaf_reg=int(params['l2_leaf_reg']),\n",
    "                                learning_rate=params['learning_rate'],\n",
    "                                depth = int(params['depth']),\n",
    "                                iterations=200,\n",
    "                                eval_metric='F1',\n",
    "                                loss_function='Logloss',\n",
    "                                random_seed=42,\n",
    "                                verbose=False\n",
    "                              )\n",
    "    cv_calc = cv(train_pool,\n",
    "                 model.get_params(),\n",
    "                 verbose=False)\n",
    "    best_metrics = np.max(cv_calc['test-F1-mean'])\n",
    "    return 1 - best_metrics"
   ]
  },
  {
   "cell_type": "code",
   "execution_count": 18,
   "id": "fe67d821",
   "metadata": {
    "scrolled": true
   },
   "outputs": [
    {
     "name": "stdout",
     "output_type": "stream",
     "text": [
      "  0%|                                                                           | 0/50 [00:00<?, ?trial/s, best loss=?]Training on fold [0/3]\n",
      "\n",
      "bestTest = 0.0421686747\n",
      "bestIteration = 70\n",
      "\n",
      "Training on fold [1/3]\n",
      "\n",
      "bestTest = 0.07492795389\n",
      "bestIteration = 195\n",
      "\n",
      "Training on fold [2/3]\n",
      "\n",
      "bestTest = 0.04819277108\n",
      "bestIteration = 193\n",
      "\n",
      "  2%|▉                                                | 1/50 [00:40<33:04, 40.49s/trial, best loss: 0.9488587482407141]Training on fold [0/3]\n",
      "\n",
      "bestTest = 0.01246105919\n",
      "bestIteration = 166\n",
      "\n",
      "Training on fold [1/3]\n",
      "\n",
      "bestTest = 0.006269592476\n",
      "bestIteration = 80\n",
      "\n",
      "Training on fold [2/3]\n",
      "\n",
      "bestTest = 0.03692307692\n",
      "bestIteration = 198\n",
      "\n",
      "  4%|█▉                                               | 2/50 [01:27<35:23, 44.24s/trial, best loss: 0.9488587482407141]Training on fold [0/3]\n",
      "\n",
      "bestTest = 0.05357142857\n",
      "bestIteration = 196\n",
      "\n",
      "Training on fold [1/3]\n",
      "\n",
      "bestTest = 0.07514450867\n",
      "bestIteration = 182\n",
      "\n",
      "Training on fold [2/3]\n",
      "\n",
      "bestTest = 0.05405405405\n",
      "bestIteration = 135\n",
      "\n",
      "  6%|██▉                                              | 3/50 [01:39<23:16, 29.71s/trial, best loss: 0.9394334811001478]Training on fold [0/3]\n",
      "\n",
      "bestTest = 0.03067484663\n",
      "bestIteration = 130\n",
      "\n",
      "Training on fold [1/3]\n",
      "\n",
      "bestTest = 0.02469135802\n",
      "bestIteration = 161\n",
      "\n",
      "Training on fold [2/3]\n",
      "\n",
      "bestTest = 0.02492211838\n",
      "bestIteration = 148\n",
      "\n",
      "  8%|███▉                                             | 4/50 [02:07<22:09, 28.89s/trial, best loss: 0.9394334811001478]Training on fold [0/3]\n",
      "\n",
      "bestTest = 0.03058103976\n",
      "bestIteration = 108\n",
      "\n",
      "Training on fold [1/3]\n",
      "\n",
      "bestTest = 0.006269592476\n",
      "bestIteration = 59\n",
      "\n",
      "Training on fold [2/3]\n",
      "\n",
      "bestTest = 0.03105590062\n",
      "bestIteration = 149\n",
      "\n",
      " 10%|████▉                                            | 5/50 [02:54<26:37, 35.50s/trial, best loss: 0.9394334811001478]Training on fold [0/3]\n",
      "\n",
      "bestTest = 0.05882352941\n",
      "bestIteration = 165\n",
      "\n",
      "Training on fold [1/3]\n",
      "\n",
      "bestTest = 0.06413994169\n",
      "bestIteration = 197\n",
      "\n",
      "Training on fold [2/3]\n",
      "\n",
      "bestTest = 0.04833836858\n",
      "bestIteration = 144\n",
      "\n",
      " 12%|█████▉                                           | 6/50 [03:07<20:22, 27.78s/trial, best loss: 0.9394334811001478]Training on fold [0/3]\n",
      "\n",
      "bestTest = 0.05882352941\n",
      "bestIteration = 163\n",
      "\n",
      "Training on fold [1/3]\n",
      "\n",
      "bestTest = 0.05263157895\n",
      "bestIteration = 153\n",
      "\n",
      "Training on fold [2/3]\n",
      "\n",
      "bestTest = 0.05865102639\n",
      "bestIteration = 170\n",
      "\n",
      " 14%|██████▊                                          | 7/50 [03:58<25:20, 35.35s/trial, best loss: 0.9394334811001478]Training on fold [0/3]\n",
      "\n",
      "bestTest = 0.0244648318\n",
      "bestIteration = 146\n",
      "\n",
      "Training on fold [1/3]\n",
      "\n",
      "bestTest = 0.03067484663\n",
      "bestIteration = 117\n",
      "\n",
      "Training on fold [2/3]\n",
      "\n",
      "bestTest = 0.04281345566\n",
      "bestIteration = 175\n",
      "\n",
      " 16%|███████▊                                         | 8/50 [04:49<28:17, 40.42s/trial, best loss: 0.9394334811001478]Training on fold [0/3]\n",
      "\n",
      "bestTest = 0.08888888889\n",
      "bestIteration = 190\n",
      "\n",
      "Training on fold [1/3]\n",
      "\n",
      "bestTest = 0.05780346821\n",
      "bestIteration = 87\n",
      "\n",
      "Training on fold [2/3]\n",
      "\n",
      "bestTest = 0.08\n",
      "bestIteration = 197\n",
      "\n",
      " 18%|████████▊                                        | 9/50 [05:24<26:23, 38.62s/trial, best loss: 0.9269578273302668]Training on fold [0/3]\n",
      "\n",
      "bestTest = 0.03636363636\n",
      "bestIteration = 180\n",
      "\n",
      "Training on fold [1/3]\n",
      "\n",
      "bestTest = 0.01246105919\n",
      "bestIteration = 134\n",
      "\n",
      "Training on fold [2/3]\n",
      "\n",
      "bestTest = 0.03692307692\n",
      "bestIteration = 150\n",
      "\n",
      " 20%|█████████▌                                      | 10/50 [05:46<22:22, 33.56s/trial, best loss: 0.9269578273302668]Training on fold [0/3]\n",
      "\n",
      "bestTest = 0.05438066465\n",
      "bestIteration = 168\n",
      "\n",
      "Training on fold [1/3]\n",
      "\n",
      "bestTest = 0.0583090379\n",
      "bestIteration = 198\n",
      "\n",
      "Training on fold [2/3]\n",
      "\n",
      "bestTest = 0.04819277108\n",
      "bestIteration = 185\n",
      "\n",
      " 22%|██████████▌                                     | 11/50 [06:17<21:19, 32.80s/trial, best loss: 0.9269578273302668]Training on fold [0/3]\n",
      "\n",
      "bestTest = 0.1129943503\n",
      "bestIteration = 131\n",
      "\n",
      "Training on fold [1/3]\n",
      "\n",
      "bestTest = 0.09392265193\n",
      "bestIteration = 178\n",
      "\n",
      "Training on fold [2/3]\n",
      "\n",
      "bestTest = 0.06896551724\n",
      "bestIteration = 175\n",
      "\n",
      " 24%|███████████▊                                     | 12/50 [06:38<18:29, 29.19s/trial, best loss: 0.917475251387779]Training on fold [0/3]\n",
      "\n",
      "bestTest = 0.04179104478\n",
      "bestIteration = 181\n",
      "\n",
      "Training on fold [1/3]\n",
      "\n",
      "bestTest = 0.04804804805\n",
      "bestIteration = 196\n",
      "\n",
      "Training on fold [2/3]\n",
      "\n",
      "bestTest = 0.05421686747\n",
      "bestIteration = 141\n",
      "\n",
      " 26%|████████████▋                                    | 13/50 [06:50<14:43, 23.89s/trial, best loss: 0.917475251387779]Training on fold [0/3]\n",
      "\n",
      "bestTest = 0.05438066465\n",
      "bestIteration = 90\n",
      "\n",
      "Training on fold [1/3]\n",
      "\n",
      "bestTest = 0.03680981595\n",
      "bestIteration = 84\n",
      "\n",
      "Training on fold [2/3]\n",
      "\n",
      "bestTest = 0.04863221884\n",
      "bestIteration = 160\n",
      "\n",
      " 28%|█████████████▋                                   | 14/50 [07:10<13:41, 22.82s/trial, best loss: 0.917475251387779]Training on fold [0/3]\n",
      "\n",
      "bestTest = 0.05357142857\n",
      "bestIteration = 156\n",
      "\n",
      "Training on fold [1/3]\n",
      "\n",
      "bestTest = 0.04705882353\n",
      "bestIteration = 179\n",
      "\n",
      "Training on fold [2/3]\n",
      "\n",
      "bestTest = 0.04191616766\n",
      "bestIteration = 196\n",
      "\n",
      " 30%|██████████████▋                                  | 15/50 [08:03<18:39, 31.99s/trial, best loss: 0.917475251387779]Training on fold [0/3]\n",
      "\n",
      "bestTest = 0.03603603604\n",
      "bestIteration = 180\n",
      "\n",
      "Training on fold [1/3]\n",
      "\n",
      "bestTest = 0.03614457831\n",
      "bestIteration = 147\n",
      "\n",
      "Training on fold [2/3]\n",
      "\n",
      "bestTest = 0.03076923077\n",
      "bestIteration = 133\n",
      "\n",
      " 32%|███████████████▋                                 | 16/50 [08:14<14:32, 25.67s/trial, best loss: 0.917475251387779]Training on fold [0/3]\n",
      "\n",
      "bestTest = 0.05865102639\n",
      "bestIteration = 194\n",
      "\n",
      "Training on fold [1/3]\n",
      "\n",
      "bestTest = 0.05325443787\n",
      "bestIteration = 170\n",
      "\n",
      "Training on fold [2/3]\n",
      "\n",
      "bestTest = 0.03680981595\n",
      "bestIteration = 91\n",
      "\n",
      " 34%|████████████████▋                                | 17/50 [08:34<13:12, 24.01s/trial, best loss: 0.917475251387779]Training on fold [0/3]\n",
      "\n",
      "bestTest = 0.05341246291\n",
      "bestIteration = 160\n",
      "\n",
      "Training on fold [1/3]\n",
      "\n",
      "bestTest = 0.03658536585\n",
      "bestIteration = 62\n",
      "\n",
      "Training on fold [2/3]\n",
      "\n",
      "bestTest = 0.04819277108\n",
      "bestIteration = 194\n",
      "\n",
      " 36%|█████████████████▋                               | 18/50 [08:48<11:06, 20.83s/trial, best loss: 0.917475251387779]Training on fold [0/3]\n",
      "\n",
      "bestTest = 0.03076923077\n",
      "bestIteration = 141\n",
      "\n",
      "Training on fold [1/3]\n",
      "\n",
      "bestTest = 0.03076923077\n",
      "bestIteration = 181\n",
      "\n",
      "Training on fold [2/3]\n",
      "\n",
      "bestTest = 0.03067484663\n",
      "bestIteration = 177\n",
      "\n",
      " 38%|██████████████████▌                              | 19/50 [08:57<08:58, 17.36s/trial, best loss: 0.917475251387779]Training on fold [0/3]\n",
      "\n",
      "bestTest = 0.07058823529\n",
      "bestIteration = 185\n",
      "\n",
      "Training on fold [1/3]\n",
      "\n",
      "bestTest = 0.04154302671\n",
      "bestIteration = 185\n",
      "\n",
      "Training on fold [2/3]\n",
      "\n",
      "bestTest = 0.04819277108\n",
      "bestIteration = 102\n",
      "\n",
      " 40%|███████████████████▌                             | 20/50 [09:50<14:01, 28.06s/trial, best loss: 0.917475251387779]Training on fold [0/3]\n",
      "\n",
      "bestTest = 0.09214092141\n",
      "bestIteration = 198\n",
      "\n",
      "Training on fold [1/3]\n",
      "\n",
      "bestTest = 0.1049723757\n",
      "bestIteration = 142\n",
      "\n",
      "Training on fold [2/3]\n",
      "\n",
      "bestTest = 0.07514450867\n",
      "bestIteration = 140\n",
      "\n",
      " 42%|████████████████████▌                            | 21/50 [10:19<13:38, 28.23s/trial, best loss: 0.917475251387779]Training on fold [0/3]\n",
      "\n",
      "bestTest = 0.06395348837\n",
      "bestIteration = 67\n",
      "\n",
      "Training on fold [1/3]\n",
      "\n",
      "bestTest = 0.05263157895\n",
      "bestIteration = 52\n",
      "\n",
      "Training on fold [2/3]\n",
      "\n",
      "bestTest = 0.03012048193\n",
      "bestIteration = 79\n",
      "\n",
      " 44%|█████████████████████▌                           | 22/50 [11:46<21:26, 45.94s/trial, best loss: 0.917475251387779]Training on fold [0/3]\n",
      "\n",
      "bestTest = 0.1066666667\n",
      "bestIteration = 150\n",
      "\n",
      "Training on fold [1/3]\n",
      "\n",
      "bestTest = 0.07142857143\n",
      "bestIteration = 172\n",
      "\n",
      "Training on fold [2/3]\n",
      "\n",
      "bestTest = 0.06232294618\n",
      "bestIteration = 180\n",
      "\n",
      " 46%|██████████████████████▌                          | 23/50 [12:06<17:06, 38.03s/trial, best loss: 0.917475251387779]Training on fold [0/3]\n",
      "\n",
      "bestTest = 0.04761904762\n",
      "bestIteration = 181\n",
      "\n",
      "Training on fold [1/3]\n",
      "\n",
      "bestTest = 0.03550295858\n",
      "bestIteration = 187\n",
      "\n",
      "Training on fold [2/3]\n",
      "\n",
      "bestTest = 0.04819277108\n",
      "bestIteration = 184\n",
      "\n",
      " 48%|███████████████████████▌                         | 24/50 [12:35<15:23, 35.54s/trial, best loss: 0.917475251387779]Training on fold [0/3]\n",
      "\n",
      "bestTest = 0.08022922636\n",
      "bestIteration = 120\n",
      "\n",
      "Training on fold [1/3]\n",
      "\n",
      "bestTest = 0.06145251397\n",
      "bestIteration = 152\n",
      "\n",
      "Training on fold [2/3]\n",
      "\n",
      "bestTest = 0.04307692308\n",
      "bestIteration = 65\n",
      "\n"
     ]
    },
    {
     "name": "stdout",
     "output_type": "stream",
     "text": [
      " 50%|████████████████████████▌                        | 25/50 [12:55<12:47, 30.69s/trial, best loss: 0.917475251387779]Training on fold [0/3]\n",
      "\n",
      "bestTest = 0.05865102639\n",
      "bestIteration = 119\n",
      "\n",
      "Training on fold [1/3]\n",
      "\n",
      "bestTest = 0.0523255814\n",
      "bestIteration = 154\n",
      "\n",
      "Training on fold [2/3]\n",
      "\n",
      "bestTest = 0.05373134328\n",
      "bestIteration = 117\n",
      "\n",
      " 52%|█████████████████████████▍                       | 26/50 [14:19<18:42, 46.77s/trial, best loss: 0.917475251387779]Training on fold [0/3]\n",
      "\n",
      "bestTest = 0.07079646018\n",
      "bestIteration = 167\n",
      "\n",
      "Training on fold [1/3]\n",
      "\n",
      "bestTest = 0.09550561798\n",
      "bestIteration = 109\n",
      "\n",
      "Training on fold [2/3]\n",
      "\n",
      "bestTest = 0.06976744186\n",
      "bestIteration = 136\n",
      "\n",
      " 54%|██████████████████████████▍                      | 27/50 [14:51<16:12, 42.30s/trial, best loss: 0.917475251387779]Training on fold [0/3]\n",
      "\n",
      "bestTest = 0.08139534884\n",
      "bestIteration = 159\n",
      "\n",
      "Training on fold [1/3]\n",
      "\n",
      "bestTest = 0.04651162791\n",
      "bestIteration = 185\n",
      "\n",
      "Training on fold [2/3]\n",
      "\n",
      "bestTest = 0.05970149254\n",
      "bestIteration = 120\n",
      "\n",
      " 56%|███████████████████████████▍                     | 28/50 [15:11<13:05, 35.70s/trial, best loss: 0.917475251387779]Training on fold [0/3]\n",
      "\n",
      "bestTest = 0.09470752089\n",
      "bestIteration = 169\n",
      "\n",
      "Training on fold [1/3]\n",
      "\n",
      "bestTest = 0.08333333333\n",
      "bestIteration = 185\n",
      "\n",
      "Training on fold [2/3]\n",
      "\n",
      "bestTest = 0.07428571429\n",
      "bestIteration = 168\n",
      "\n",
      " 58%|████████████████████████████▍                    | 29/50 [15:40<11:46, 33.66s/trial, best loss: 0.917475251387779]Training on fold [0/3]\n",
      "\n",
      "bestTest = 0.03625377644\n",
      "bestIteration = 197\n",
      "\n",
      "Training on fold [1/3]\n",
      "\n",
      "bestTest = 0.05917159763\n",
      "bestIteration = 168\n",
      "\n",
      "Training on fold [2/3]\n",
      "\n",
      "bestTest = 0.03680981595\n",
      "bestIteration = 109\n",
      "\n",
      " 60%|█████████████████████████████▍                   | 30/50 [16:00<09:48, 29.45s/trial, best loss: 0.917475251387779]Training on fold [0/3]\n",
      "\n",
      "bestTest = 0.08771929825\n",
      "bestIteration = 143\n",
      "\n",
      "Training on fold [1/3]\n",
      "\n",
      "bestTest = 0.07580174927\n",
      "bestIteration = 127\n",
      "\n",
      "Training on fold [2/3]\n",
      "\n",
      "bestTest = 0.03076923077\n",
      "bestIteration = 19\n",
      "\n",
      " 62%|██████████████████████████████▍                  | 31/50 [17:25<14:39, 46.27s/trial, best loss: 0.917475251387779]Training on fold [0/3]\n",
      "\n",
      "bestTest = 0.08163265306\n",
      "bestIteration = 157\n",
      "\n",
      "Training on fold [1/3]\n",
      "\n",
      "bestTest = 0.06358381503\n",
      "bestIteration = 185\n",
      "\n",
      "Training on fold [2/3]\n",
      "\n",
      "bestTest = 0.04255319149\n",
      "bestIteration = 94\n",
      "\n",
      " 64%|███████████████████████████████▎                 | 32/50 [17:58<12:37, 42.11s/trial, best loss: 0.917475251387779]Training on fold [0/3]\n",
      "\n",
      "bestTest = 0.1049723757\n",
      "bestIteration = 188\n",
      "\n",
      "Training on fold [1/3]\n",
      "\n",
      "bestTest = 0.08864265928\n",
      "bestIteration = 120\n",
      "\n",
      "Training on fold [2/3]\n",
      "\n",
      "bestTest = 0.07449856734\n",
      "bestIteration = 194\n",
      "\n",
      " 66%|███████████████████████████████▋                | 33/50 [18:18<10:03, 35.51s/trial, best loss: 0.9143111461895992]Training on fold [0/3]\n",
      "\n",
      "bestTest = 0.05325443787\n",
      "bestIteration = 193\n",
      "\n",
      "Training on fold [1/3]\n",
      "\n",
      "bestTest = 0.05865102639\n",
      "bestIteration = 196\n",
      "\n",
      "Training on fold [2/3]\n",
      "\n",
      "bestTest = 0.04268292683\n",
      "bestIteration = 173\n",
      "\n",
      " 68%|████████████████████████████████▋               | 34/50 [18:37<08:12, 30.77s/trial, best loss: 0.9143111461895992]Training on fold [0/3]\n",
      "\n",
      "bestTest = 0.05309734513\n",
      "bestIteration = 198\n",
      "\n",
      "Training on fold [1/3]\n",
      "\n",
      "bestTest = 0.05847953216\n",
      "bestIteration = 165\n",
      "\n",
      "Training on fold [2/3]\n",
      "\n",
      "bestTest = 0.05952380952\n",
      "bestIteration = 198\n",
      "\n",
      " 70%|█████████████████████████████████▌              | 35/50 [18:46<06:00, 24.06s/trial, best loss: 0.9143111461895992]Training on fold [0/3]\n",
      "\n",
      "bestTest = 0.09169054441\n",
      "bestIteration = 193\n",
      "\n",
      "Training on fold [1/3]\n",
      "\n",
      "bestTest = 0.07058823529\n",
      "bestIteration = 52\n",
      "\n",
      "Training on fold [2/3]\n",
      "\n",
      "bestTest = 0.08139534884\n",
      "bestIteration = 194\n",
      "\n",
      " 72%|██████████████████████████████████▌             | 36/50 [19:06<05:20, 22.90s/trial, best loss: 0.9143111461895992]Training on fold [0/3]\n",
      "\n",
      "bestTest = 0.04819277108\n",
      "bestIteration = 190\n",
      "\n",
      "Training on fold [1/3]\n",
      "\n",
      "bestTest = 0.02416918429\n",
      "bestIteration = 161\n",
      "\n",
      "Training on fold [2/3]\n",
      "\n",
      "bestTest = 0.04255319149\n",
      "bestIteration = 158\n",
      "\n",
      " 74%|███████████████████████████████████▌            | 37/50 [19:19<04:19, 19.98s/trial, best loss: 0.9143111461895992]Training on fold [0/3]\n",
      "\n",
      "bestTest = 0.05405405405\n",
      "bestIteration = 150\n",
      "\n",
      "Training on fold [1/3]\n",
      "\n",
      "bestTest = 0.04833836858\n",
      "bestIteration = 69\n",
      "\n",
      "Training on fold [2/3]\n",
      "\n",
      "bestTest = 0.03614457831\n",
      "bestIteration = 148\n",
      "\n",
      " 76%|████████████████████████████████████▍           | 38/50 [19:39<03:58, 19.86s/trial, best loss: 0.9143111461895992]Training on fold [0/3]\n",
      "\n",
      "bestTest = 0.04191616766\n",
      "bestIteration = 175\n",
      "\n",
      "Training on fold [1/3]\n",
      "\n",
      "bestTest = 0.03647416413\n",
      "bestIteration = 121\n",
      "\n",
      "Training on fold [2/3]\n",
      "\n",
      "bestTest = 0.04819277108\n",
      "bestIteration = 174\n",
      "\n",
      " 78%|█████████████████████████████████████▍          | 39/50 [19:48<03:02, 16.62s/trial, best loss: 0.9143111461895992]Training on fold [0/3]\n",
      "\n",
      "bestTest = 0.06489675516\n",
      "bestIteration = 191\n",
      "\n",
      "Training on fold [1/3]\n",
      "\n",
      "bestTest = 0.05263157895\n",
      "bestIteration = 133\n",
      "\n",
      "Training on fold [2/3]\n",
      "\n",
      "bestTest = 0.04191616766\n",
      "bestIteration = 164\n",
      "\n",
      " 80%|██████████████████████████████████████▍         | 40/50 [20:07<02:53, 17.34s/trial, best loss: 0.9143111461895992]Training on fold [0/3]\n",
      "\n",
      "bestTest = 0.1002785515\n",
      "bestIteration = 166\n",
      "\n",
      "Training on fold [1/3]\n",
      "\n",
      "bestTest = 0.08241758242\n",
      "bestIteration = 178\n",
      "\n",
      "Training on fold [2/3]\n",
      "\n",
      "bestTest = 0.09742120344\n",
      "bestIteration = 159\n",
      "\n",
      " 82%|███████████████████████████████████████▎        | 41/50 [20:40<03:19, 22.16s/trial, best loss: 0.9108221335927121]Training on fold [0/3]\n",
      "\n",
      "bestTest = 0.01863354037\n",
      "bestIteration = 136\n",
      "\n",
      "Training on fold [1/3]\n",
      "\n",
      "bestTest = 0.01869158879\n",
      "bestIteration = 122\n",
      "\n",
      "Training on fold [2/3]\n",
      "\n",
      "bestTest = 0.03086419753\n",
      "bestIteration = 147\n",
      "\n",
      " 84%|████████████████████████████████████████▎       | 42/50 [21:26<03:52, 29.12s/trial, best loss: 0.9108221335927121]Training on fold [0/3]\n",
      "\n",
      "bestTest = 0.07303370787\n",
      "bestIteration = 197\n",
      "\n",
      "Training on fold [1/3]\n",
      "\n",
      "bestTest = 0.07323943662\n",
      "bestIteration = 156\n",
      "\n",
      "Training on fold [2/3]\n",
      "\n",
      "bestTest = 0.08356545961\n",
      "bestIteration = 194\n",
      "\n",
      " 86%|█████████████████████████████████████████▎      | 43/50 [21:58<03:31, 30.18s/trial, best loss: 0.9108221335927121]Training on fold [0/3]\n",
      "\n",
      "bestTest = 0.04848484848\n",
      "bestIteration = 179\n",
      "\n",
      "Training on fold [1/3]\n",
      "\n",
      "bestTest = 0.05970149254\n",
      "bestIteration = 166\n",
      "\n",
      "Training on fold [2/3]\n",
      "\n",
      "bestTest = 0.03048780488\n",
      "bestIteration = 88\n",
      "\n",
      " 88%|██████████████████████████████████████████▏     | 44/50 [22:46<03:32, 35.43s/trial, best loss: 0.9108221335927121]Training on fold [0/3]\n",
      "\n",
      "bestTest = 0.09912536443\n",
      "bestIteration = 198\n",
      "\n",
      "Training on fold [1/3]\n",
      "\n",
      "bestTest = 0.07282913165\n",
      "bestIteration = 197\n",
      "\n",
      "Training on fold [2/3]\n",
      "\n",
      "bestTest = 0.05970149254\n",
      "bestIteration = 55\n",
      "\n",
      " 90%|███████████████████████████████████████████▏    | 45/50 [23:38<03:22, 40.53s/trial, best loss: 0.9108221335927121]Training on fold [0/3]\n",
      "\n",
      "bestTest = 0.09289617486\n",
      "bestIteration = 98\n",
      "\n",
      "Training on fold [1/3]\n",
      "\n",
      "bestTest = 0.05929919137\n",
      "bestIteration = 183\n",
      "\n",
      "Training on fold [2/3]\n",
      "\n",
      "bestTest = 0.106741573\n",
      "bestIteration = 143\n",
      "\n",
      " 92%|████████████████████████████████████████████▏   | 46/50 [24:10<02:30, 37.74s/trial, best loss: 0.9108221335927121]Training on fold [0/3]\n",
      "\n",
      "bestTest = 0.108401084\n",
      "bestIteration = 199\n",
      "\n",
      "Training on fold [1/3]\n",
      "\n",
      "bestTest = 0.06976744186\n",
      "bestIteration = 183\n",
      "\n",
      "Training on fold [2/3]\n",
      "\n",
      "bestTest = 0.1055718475\n",
      "bestIteration = 130\n",
      "\n",
      " 94%|█████████████████████████████████████████████   | 47/50 [24:42<01:48, 36.26s/trial, best loss: 0.9108221335927121]Training on fold [0/3]\n",
      "\n",
      "bestTest = 0.04804804805\n",
      "bestIteration = 145\n",
      "\n",
      "Training on fold [1/3]\n",
      "\n",
      "bestTest = 0.04191616766\n",
      "bestIteration = 85\n",
      "\n",
      "Training on fold [2/3]\n",
      "\n",
      "bestTest = 0.03625377644\n",
      "bestIteration = 156\n",
      "\n",
      " 96%|██████████████████████████████████████████████  | 48/50 [25:30<01:19, 39.73s/trial, best loss: 0.9108221335927121]Training on fold [0/3]\n",
      "\n",
      "bestTest = 0.02461538462\n",
      "bestIteration = 117\n",
      "\n",
      "Training on fold [1/3]\n",
      "\n",
      "bestTest = 0.03680981595\n",
      "bestIteration = 190\n",
      "\n",
      "Training on fold [2/3]\n",
      "\n",
      "bestTest = 0.01242236025\n",
      "bestIteration = 181\n",
      "\n",
      " 98%|███████████████████████████████████████████████ | 49/50 [26:03<00:37, 37.56s/trial, best loss: 0.9108221335927121]Training on fold [0/3]\n",
      "\n",
      "bestTest = 0.04268292683\n",
      "bestIteration = 50\n",
      "\n",
      "Training on fold [1/3]\n",
      "\n",
      "bestTest = 0.03603603604\n",
      "bestIteration = 116\n",
      "\n",
      "Training on fold [2/3]\n",
      "\n",
      "bestTest = 0.05454545455\n",
      "bestIteration = 92\n",
      "\n"
     ]
    },
    {
     "name": "stdout",
     "output_type": "stream",
     "text": [
      "100%|████████████████████████████████████████████████| 50/50 [27:30<00:00, 33.00s/trial, best loss: 0.9108221335927121]\n"
     ]
    }
   ],
   "source": [
    "params_opt = {\n",
    "                'l2_leaf_reg': hyperopt.hp.qloguniform('l2_leaf_reg', 2, 5, 1),\n",
    "                'learning_rate': hyperopt.hp.uniform('learning_rate', 1e-1, 5e-1),\n",
    "                'depth': hyperopt.hp.quniform('depth', 1, 10,2)\n",
    "                }\n",
    "\n",
    "trials = hyperopt.Trials()\n",
    "\n",
    "best = hyperopt.fmin(\n",
    "    hyperopt_obj,\n",
    "    space=params_opt,\n",
    "    algo=hyperopt.tpe.suggest,\n",
    "    max_evals=50,\n",
    "    trials=trials,\n",
    "    #rstate=np.random.RandomState(123)\n",
    ")\n"
   ]
  },
  {
   "cell_type": "code",
   "execution_count": null,
   "id": "fc4f9ba5",
   "metadata": {},
   "outputs": [],
   "source": [
    "# old best params\n",
    "#{'depth': 4.0, 'l2_leaf_reg': 2.0, 'learning_rate': 0.28614075781169124}\n",
    "# new best params\n",
    "#{'depth': 6.0, 'l2_leaf_reg': 14.0, 'learning_rate': 0.4702911427230305}"
   ]
  },
  {
   "cell_type": "code",
   "execution_count": 19,
   "id": "ffb9e047",
   "metadata": {},
   "outputs": [
    {
     "data": {
      "text/plain": [
       "{'depth': 6.0, 'l2_leaf_reg': 14.0, 'learning_rate': 0.4702911427230305}"
      ]
     },
     "execution_count": 19,
     "metadata": {},
     "output_type": "execute_result"
    }
   ],
   "source": [
    "best"
   ]
  },
  {
   "cell_type": "code",
   "execution_count": 20,
   "id": "ba8bda5d",
   "metadata": {},
   "outputs": [],
   "source": [
    "best_model_hyper = CatBoostClassifier(\n",
    "                                l2_leaf_reg=int(best['l2_leaf_reg']),\n",
    "                                learning_rate=best['learning_rate'],\n",
    "                                depth = int(best['depth']),\n",
    "                                iterations=100,\n",
    "                                eval_metric='AUC',\n",
    "                                loss_function='Logloss',\n",
    "                                random_seed=42,\n",
    "                                verbose=False,\n",
    "                                use_best_model=True\n",
    "                              )"
   ]
  },
  {
   "cell_type": "code",
   "execution_count": 21,
   "id": "0a3867c6",
   "metadata": {},
   "outputs": [
    {
     "data": {
      "application/vnd.jupyter.widget-view+json": {
       "model_id": "6310ff6acc0741c0aa4328330551ddd3",
       "version_major": 2,
       "version_minor": 0
      },
      "text/plain": [
       "MetricVisualizer(layout=Layout(align_self='stretch', height='500px'))"
      ]
     },
     "metadata": {},
     "output_type": "display_data"
    },
    {
     "data": {
      "text/plain": [
       "<catboost.core.CatBoostClassifier at 0x1cb39207940>"
      ]
     },
     "execution_count": 21,
     "metadata": {},
     "output_type": "execute_result"
    }
   ],
   "source": [
    "best_model_hyper.fit(train_pool,\n",
    "               eval_set =test_pool,\n",
    "               verbose=False,\n",
    "               plot=True)"
   ]
  },
  {
   "cell_type": "code",
   "execution_count": 22,
   "id": "a72cb020",
   "metadata": {
    "scrolled": true
   },
   "outputs": [
    {
     "data": {
      "application/vnd.jupyter.widget-view+json": {
       "model_id": "90f72aca5ac74c6ebf5fdc9ff5802cda",
       "version_major": 2,
       "version_minor": 0
      },
      "text/plain": [
       "MetricVisualizer(layout=Layout(align_self='stretch', height='500px'))"
      ]
     },
     "metadata": {},
     "output_type": "display_data"
    },
    {
     "data": {
      "text/plain": [
       "{'AUC': [0.5573381831522022,\n",
       "  0.5892415865295086,\n",
       "  0.5892415865295086,\n",
       "  0.6692054037646462,\n",
       "  0.679777642664005,\n",
       "  0.6905319127144336,\n",
       "  0.7020294378356635,\n",
       "  0.7108158161327086,\n",
       "  0.7153679915679074,\n",
       "  0.7171878375257916,\n",
       "  0.7167844360106965,\n",
       "  0.7137057352382513,\n",
       "  0.7096032838233433,\n",
       "  0.7115115848162743,\n",
       "  0.7121663848520288,\n",
       "  0.7126314721152485,\n",
       "  0.713454336717592,\n",
       "  0.7152334468040731,\n",
       "  0.7136961914055227,\n",
       "  0.7136961914055227,\n",
       "  0.7149278113803454,\n",
       "  0.7143002461843291,\n",
       "  0.7198356691669956,\n",
       "  0.7172762925608385,\n",
       "  0.7164243309074928,\n",
       "  0.7166180008789638,\n",
       "  0.720425291808505,\n",
       "  0.7207902852162772],\n",
       " 'F1': [0.0,\n",
       "  0.0,\n",
       "  0.0,\n",
       "  0.0,\n",
       "  0.0,\n",
       "  0.0,\n",
       "  0.0,\n",
       "  0.004694835680751173,\n",
       "  0.01405152224824356,\n",
       "  0.018604651162790697,\n",
       "  0.018561484918793503,\n",
       "  0.018561484918793503,\n",
       "  0.018604651162790697,\n",
       "  0.02777777777777778,\n",
       "  0.023201856148491882,\n",
       "  0.02777777777777778,\n",
       "  0.02777777777777778,\n",
       "  0.03225806451612903,\n",
       "  0.03218390804597701,\n",
       "  0.03218390804597701,\n",
       "  0.03211009174311927,\n",
       "  0.03218390804597701,\n",
       "  0.03211009174311927,\n",
       "  0.03211009174311927,\n",
       "  0.03644646924829157,\n",
       "  0.0409090909090909,\n",
       "  0.03619909502262443,\n",
       "  0.04514672686230248]}"
      ]
     },
     "execution_count": 22,
     "metadata": {},
     "output_type": "execute_result"
    }
   ],
   "source": [
    "best_model_hyper.eval_metrics(test_pool, ['AUC','F1'], plot=True)"
   ]
  },
  {
   "cell_type": "markdown",
   "id": "e5590256",
   "metadata": {},
   "source": [
    "optuna"
   ]
  },
  {
   "cell_type": "code",
   "execution_count": 29,
   "id": "d4ef7c12",
   "metadata": {},
   "outputs": [],
   "source": [
    "def objective(trial):\n",
    "    params = {\n",
    "        'l2_leaf_reg': trial.suggest_int('l2_leaf_reg', 2, 5),\n",
    "        'learning_rate': trial.suggest_float('learning_rate', 1e-1, 5e-1),\n",
    "        'depth': trial.suggest_int('depth', 1, 10)\n",
    "    }\n",
    "    \n",
    "    model = CatBoostClassifier(\n",
    "                                l2_leaf_reg=int(params['l2_leaf_reg']),\n",
    "                                learning_rate=params['learning_rate'],\n",
    "                                depth = int(params['depth']),\n",
    "                                iterations=200,\n",
    "                                eval_metric='F1',\n",
    "                                loss_function='Logloss',\n",
    "                                random_seed=42,\n",
    "                                verbose=False\n",
    "                              )\n",
    "    cv_data = cv(train_pool, model.get_params(), verbose=False)\n",
    "    best_metric = np.max(cv_data['test-F1-mean'])\n",
    "    return best_metric"
   ]
  },
  {
   "cell_type": "code",
   "execution_count": 30,
   "id": "d725c4ea",
   "metadata": {
    "scrolled": true
   },
   "outputs": [
    {
     "name": "stderr",
     "output_type": "stream",
     "text": [
      "\u001b[32m[I 2023-04-20 12:45:37,271]\u001b[0m A new study created in memory with name: no-name-2ba0c3cc-462b-4b2c-83b9-8eaf24bd99ec\u001b[0m\n"
     ]
    },
    {
     "name": "stdout",
     "output_type": "stream",
     "text": [
      "Training on fold [0/3]\n",
      "\n",
      "bestTest = 0.03039513678\n",
      "bestIteration = 74\n",
      "\n",
      "Training on fold [1/3]\n",
      "\n",
      "bestTest = 0.03658536585\n",
      "bestIteration = 69\n",
      "\n",
      "Training on fold [2/3]\n",
      "\n",
      "bestTest = 0.03669724771\n",
      "bestIteration = 135\n",
      "\n"
     ]
    },
    {
     "name": "stderr",
     "output_type": "stream",
     "text": [
      "\u001b[32m[I 2023-04-20 12:46:53,160]\u001b[0m Trial 0 finished with value: 0.028530520382950602 and parameters: {'l2_leaf_reg': 5, 'learning_rate': 0.2045598368336966, 'depth': 10}. Best is trial 0 with value: 0.028530520382950602.\u001b[0m\n"
     ]
    },
    {
     "name": "stdout",
     "output_type": "stream",
     "text": [
      "Training on fold [0/3]\n",
      "\n",
      "bestTest = 0.03048780488\n",
      "bestIteration = 171\n",
      "\n",
      "Training on fold [1/3]\n",
      "\n",
      "bestTest = 0.02469135802\n",
      "bestIteration = 130\n",
      "\n",
      "Training on fold [2/3]\n",
      "\n",
      "bestTest = 0.04229607251\n",
      "bestIteration = 188\n",
      "\n"
     ]
    },
    {
     "name": "stderr",
     "output_type": "stream",
     "text": [
      "\u001b[32m[I 2023-04-20 12:47:19,655]\u001b[0m Trial 1 finished with value: 0.03038918355472585 and parameters: {'l2_leaf_reg': 2, 'learning_rate': 0.10188519874235885, 'depth': 5}. Best is trial 1 with value: 0.03038918355472585.\u001b[0m\n"
     ]
    },
    {
     "name": "stdout",
     "output_type": "stream",
     "text": [
      "Training on fold [0/3]\n",
      "\n",
      "bestTest = 0.09577464789\n",
      "bestIteration = 67\n",
      "\n",
      "Training on fold [1/3]\n",
      "\n",
      "bestTest = 0.0790960452\n",
      "bestIteration = 173\n",
      "\n",
      "Training on fold [2/3]\n",
      "\n",
      "bestTest = 0.06303724928\n",
      "bestIteration = 98\n",
      "\n"
     ]
    },
    {
     "name": "stderr",
     "output_type": "stream",
     "text": [
      "\u001b[32m[I 2023-04-20 12:47:50,078]\u001b[0m Trial 2 finished with value: 0.07485517834006206 and parameters: {'l2_leaf_reg': 2, 'learning_rate': 0.42373548587855636, 'depth': 6}. Best is trial 2 with value: 0.07485517834006206.\u001b[0m\n"
     ]
    },
    {
     "name": "stdout",
     "output_type": "stream",
     "text": [
      "Training on fold [0/3]\n",
      "\n",
      "bestTest = 0.05325443787\n",
      "bestIteration = 176\n",
      "\n",
      "Training on fold [1/3]\n",
      "\n",
      "bestTest = 0.06837606838\n",
      "bestIteration = 181\n",
      "\n",
      "Training on fold [2/3]\n",
      "\n",
      "bestTest = 0.08308605341\n",
      "bestIteration = 169\n",
      "\n"
     ]
    },
    {
     "name": "stderr",
     "output_type": "stream",
     "text": [
      "\u001b[32m[I 2023-04-20 12:48:09,710]\u001b[0m Trial 3 finished with value: 0.06620171656693 and parameters: {'l2_leaf_reg': 4, 'learning_rate': 0.31758968381496444, 'depth': 4}. Best is trial 2 with value: 0.07485517834006206.\u001b[0m\n"
     ]
    },
    {
     "name": "stdout",
     "output_type": "stream",
     "text": [
      "Training on fold [0/3]\n",
      "\n",
      "bestTest = 0.08163265306\n",
      "bestIteration = 85\n",
      "\n",
      "Training on fold [1/3]\n",
      "\n",
      "bestTest = 0.06340057637\n",
      "bestIteration = 33\n",
      "\n",
      "Training on fold [2/3]\n"
     ]
    },
    {
     "name": "stderr",
     "output_type": "stream",
     "text": [
      "\u001b[32m[I 2023-04-20 12:49:46,067]\u001b[0m Trial 4 finished with value: 0.05628311188958379 and parameters: {'l2_leaf_reg': 4, 'learning_rate': 0.45103816739063096, 'depth': 10}. Best is trial 2 with value: 0.07485517834006206.\u001b[0m\n"
     ]
    },
    {
     "name": "stdout",
     "output_type": "stream",
     "text": [
      "\n",
      "bestTest = 0.04747774481\n",
      "bestIteration = 31\n",
      "\n",
      "Training on fold [0/3]\n",
      "\n",
      "bestTest = 0.04179104478\n",
      "bestIteration = 161\n",
      "\n",
      "Training on fold [1/3]\n",
      "\n",
      "bestTest = 0.05373134328\n",
      "bestIteration = 180\n",
      "\n",
      "Training on fold [2/3]\n",
      "\n",
      "bestTest = 0.04242424242\n",
      "bestIteration = 162\n",
      "\n"
     ]
    },
    {
     "name": "stderr",
     "output_type": "stream",
     "text": [
      "\u001b[32m[I 2023-04-20 12:49:59,161]\u001b[0m Trial 5 finished with value: 0.04582324169006144 and parameters: {'l2_leaf_reg': 5, 'learning_rate': 0.26381027648313315, 'depth': 2}. Best is trial 2 with value: 0.07485517834006206.\u001b[0m\n"
     ]
    },
    {
     "name": "stdout",
     "output_type": "stream",
     "text": [
      "Training on fold [0/3]\n",
      "\n",
      "bestTest = 0.08022922636\n",
      "bestIteration = 137\n",
      "\n",
      "Training on fold [1/3]\n",
      "\n",
      "bestTest = 0.07799442897\n",
      "bestIteration = 156\n",
      "\n",
      "Training on fold [2/3]\n"
     ]
    },
    {
     "name": "stderr",
     "output_type": "stream",
     "text": [
      "\u001b[32m[I 2023-04-20 12:50:25,976]\u001b[0m Trial 6 finished with value: 0.07398103845472266 and parameters: {'l2_leaf_reg': 3, 'learning_rate': 0.29911069933310597, 'depth': 5}. Best is trial 2 with value: 0.07485517834006206.\u001b[0m\n"
     ]
    },
    {
     "name": "stdout",
     "output_type": "stream",
     "text": [
      "\n",
      "bestTest = 0.07558139535\n",
      "bestIteration = 194\n",
      "\n",
      "Training on fold [0/3]\n",
      "\n",
      "bestTest = 0.04255319149\n",
      "bestIteration = 155\n",
      "\n",
      "Training on fold [1/3]\n",
      "\n",
      "bestTest = 0.04776119403\n",
      "bestIteration = 166\n",
      "\n",
      "Training on fold [2/3]\n",
      "\n",
      "bestTest = 0.03692307692\n",
      "bestIteration = 106\n",
      "\n"
     ]
    },
    {
     "name": "stderr",
     "output_type": "stream",
     "text": [
      "\u001b[32m[I 2023-04-20 12:51:17,040]\u001b[0m Trial 7 finished with value: 0.03641685532372244 and parameters: {'l2_leaf_reg': 4, 'learning_rate': 0.1108536497859487, 'depth': 8}. Best is trial 2 with value: 0.07485517834006206.\u001b[0m\n"
     ]
    },
    {
     "name": "stdout",
     "output_type": "stream",
     "text": [
      "Training on fold [0/3]\n",
      "\n",
      "bestTest = 0.05917159763\n",
      "bestIteration = 147\n",
      "\n",
      "Training on fold [1/3]\n",
      "\n",
      "bestTest = 0.07580174927\n",
      "bestIteration = 186\n",
      "\n",
      "Training on fold [2/3]\n",
      "\n",
      "bestTest = 0.06042296073\n",
      "bestIteration = 54\n",
      "\n"
     ]
    },
    {
     "name": "stderr",
     "output_type": "stream",
     "text": [
      "\u001b[32m[I 2023-04-20 12:51:54,436]\u001b[0m Trial 8 finished with value: 0.058641650377103866 and parameters: {'l2_leaf_reg': 5, 'learning_rate': 0.2633541285251853, 'depth': 7}. Best is trial 2 with value: 0.07485517834006206.\u001b[0m\n"
     ]
    },
    {
     "name": "stdout",
     "output_type": "stream",
     "text": [
      "Training on fold [0/3]\n",
      "\n",
      "bestTest = 0.06896551724\n",
      "bestIteration = 168\n",
      "\n",
      "Training on fold [1/3]\n",
      "\n",
      "bestTest = 0.08670520231\n",
      "bestIteration = 88\n",
      "\n",
      "Training on fold [2/3]\n",
      "\n",
      "bestTest = 0.04747774481\n",
      "bestIteration = 114\n",
      "\n"
     ]
    },
    {
     "name": "stderr",
     "output_type": "stream",
     "text": [
      "\u001b[32m[I 2023-04-20 12:52:10,286]\u001b[0m Trial 9 finished with value: 0.06393618396592515 and parameters: {'l2_leaf_reg': 3, 'learning_rate': 0.37766683961704717, 'depth': 3}. Best is trial 2 with value: 0.07485517834006206.\u001b[0m\n"
     ]
    },
    {
     "name": "stdout",
     "output_type": "stream",
     "text": [
      "Training on fold [0/3]\n",
      "\n",
      "bestTest = 0.05421686747\n",
      "bestIteration = 145\n",
      "\n",
      "Training on fold [1/3]\n",
      "\n",
      "bestTest = 0.02476780186\n",
      "bestIteration = 107\n",
      "\n",
      "Training on fold [2/3]\n",
      "\n",
      "bestTest = 0.02476780186\n",
      "bestIteration = 191\n",
      "\n"
     ]
    },
    {
     "name": "stderr",
     "output_type": "stream",
     "text": [
      "\u001b[32m[I 2023-04-20 12:52:18,303]\u001b[0m Trial 10 finished with value: 0.034504404645443514 and parameters: {'l2_leaf_reg': 2, 'learning_rate': 0.487117425081978, 'depth': 1}. Best is trial 2 with value: 0.07485517834006206.\u001b[0m\n"
     ]
    },
    {
     "name": "stdout",
     "output_type": "stream",
     "text": [
      "Training on fold [0/3]\n",
      "\n",
      "bestTest = 0.128342246\n",
      "bestIteration = 175\n",
      "\n",
      "Training on fold [1/3]\n",
      "\n",
      "bestTest = 0.06896551724\n",
      "bestIteration = 52\n",
      "\n",
      "Training on fold [2/3]\n",
      "\n",
      "bestTest = 0.05988023952\n",
      "bestIteration = 78\n",
      "\n"
     ]
    },
    {
     "name": "stderr",
     "output_type": "stream",
     "text": [
      "\u001b[32m[I 2023-04-20 12:52:49,977]\u001b[0m Trial 11 finished with value: 0.07398610429564646 and parameters: {'l2_leaf_reg': 3, 'learning_rate': 0.391950281552241, 'depth': 6}. Best is trial 2 with value: 0.07485517834006206.\u001b[0m\n"
     ]
    },
    {
     "name": "stdout",
     "output_type": "stream",
     "text": [
      "Training on fold [0/3]\n",
      "\n",
      "bestTest = 0.06358381503\n",
      "bestIteration = 78\n",
      "\n",
      "Training on fold [1/3]\n",
      "\n",
      "bestTest = 0.07242339833\n",
      "bestIteration = 94\n",
      "\n",
      "Training on fold [2/3]\n",
      "\n",
      "bestTest = 0.07386363636\n",
      "bestIteration = 115\n",
      "\n"
     ]
    },
    {
     "name": "stderr",
     "output_type": "stream",
     "text": [
      "\u001b[32m[I 2023-04-20 12:53:31,703]\u001b[0m Trial 12 finished with value: 0.06638040842404495 and parameters: {'l2_leaf_reg': 2, 'learning_rate': 0.39338480182881114, 'depth': 7}. Best is trial 2 with value: 0.07485517834006206.\u001b[0m\n"
     ]
    },
    {
     "name": "stdout",
     "output_type": "stream",
     "text": [
      "Training on fold [0/3]\n",
      "\n",
      "bestTest = 0.1005586592\n",
      "bestIteration = 109\n",
      "\n",
      "Training on fold [1/3]\n",
      "\n",
      "bestTest = 0.08743169399\n",
      "bestIteration = 128\n",
      "\n",
      "Training on fold [2/3]\n",
      "\n",
      "bestTest = 0.06936416185\n",
      "bestIteration = 66\n",
      "\n"
     ]
    },
    {
     "name": "stderr",
     "output_type": "stream",
     "text": [
      "\u001b[32m[I 2023-04-20 12:54:12,566]\u001b[0m Trial 13 finished with value: 0.07723958085231385 and parameters: {'l2_leaf_reg': 3, 'learning_rate': 0.4278584574619844, 'depth': 7}. Best is trial 13 with value: 0.07723958085231385.\u001b[0m\n"
     ]
    },
    {
     "name": "stdout",
     "output_type": "stream",
     "text": [
      "Training on fold [0/3]\n",
      "\n",
      "bestTest = 0.1005586592\n",
      "bestIteration = 119\n",
      "\n",
      "Training on fold [1/3]\n",
      "\n",
      "bestTest = 0.07123287671\n",
      "bestIteration = 89\n",
      "\n",
      "Training on fold [2/3]\n",
      "\n",
      "bestTest = 0.06916426513\n",
      "bestIteration = 32\n",
      "\n"
     ]
    },
    {
     "name": "stderr",
     "output_type": "stream",
     "text": [
      "\u001b[32m[I 2023-04-20 12:55:06,578]\u001b[0m Trial 14 finished with value: 0.06824880629758678 and parameters: {'l2_leaf_reg': 2, 'learning_rate': 0.49600027739821595, 'depth': 8}. Best is trial 13 with value: 0.07723958085231385.\u001b[0m\n"
     ]
    },
    {
     "name": "stdout",
     "output_type": "stream",
     "text": [
      "Training on fold [0/3]\n",
      "\n",
      "bestTest = 0.09917355372\n",
      "bestIteration = 98\n",
      "\n",
      "Training on fold [1/3]\n",
      "\n",
      "bestTest = 0.06666666667\n",
      "bestIteration = 77\n",
      "\n",
      "Training on fold [2/3]\n",
      "\n",
      "bestTest = 0.05797101449\n",
      "bestIteration = 156\n",
      "\n"
     ]
    },
    {
     "name": "stderr",
     "output_type": "stream",
     "text": [
      "\u001b[32m[I 2023-04-20 12:55:56,422]\u001b[0m Trial 15 finished with value: 0.0653827648588798 and parameters: {'l2_leaf_reg': 3, 'learning_rate': 0.44078666404515165, 'depth': 8}. Best is trial 13 with value: 0.07723958085231385.\u001b[0m\n"
     ]
    },
    {
     "name": "stdout",
     "output_type": "stream",
     "text": [
      "Training on fold [0/3]\n",
      "\n",
      "bestTest = 0.108401084\n",
      "bestIteration = 159\n",
      "\n",
      "Training on fold [1/3]\n",
      "\n",
      "bestTest = 0.08376963351\n",
      "bestIteration = 129\n",
      "\n",
      "Training on fold [2/3]\n",
      "\n",
      "bestTest = 0.1169916435\n",
      "bestIteration = 116\n",
      "\n"
     ]
    },
    {
     "name": "stderr",
     "output_type": "stream",
     "text": [
      "\u001b[32m[I 2023-04-20 12:56:30,115]\u001b[0m Trial 16 finished with value: 0.08694479141413804 and parameters: {'l2_leaf_reg': 2, 'learning_rate': 0.4425917761309252, 'depth': 6}. Best is trial 16 with value: 0.08694479141413804.\u001b[0m\n"
     ]
    },
    {
     "name": "stdout",
     "output_type": "stream",
     "text": [
      "Training on fold [0/3]\n",
      "\n",
      "bestTest = 0.08356545961\n",
      "bestIteration = 171\n",
      "\n",
      "Training on fold [1/3]\n",
      "\n",
      "bestTest = 0.09039548023\n",
      "bestIteration = 108\n",
      "\n",
      "Training on fold [2/3]\n"
     ]
    },
    {
     "name": "stderr",
     "output_type": "stream",
     "text": [
      "\u001b[32m[I 2023-04-20 12:56:50,152]\u001b[0m Trial 17 finished with value: 0.07916551296034767 and parameters: {'l2_leaf_reg': 3, 'learning_rate': 0.3679792295719691, 'depth': 4}. Best is trial 16 with value: 0.08694479141413804.\u001b[0m\n"
     ]
    },
    {
     "name": "stdout",
     "output_type": "stream",
     "text": [
      "\n",
      "bestTest = 0.08595988539\n",
      "bestIteration = 186\n",
      "\n",
      "Training on fold [0/3]\n",
      "\n",
      "bestTest = 0.05747126437\n",
      "bestIteration = 172\n",
      "\n",
      "Training on fold [1/3]\n",
      "\n",
      "bestTest = 0.06267806268\n",
      "bestIteration = 137\n",
      "\n",
      "Training on fold [2/3]\n"
     ]
    },
    {
     "name": "stderr",
     "output_type": "stream",
     "text": [
      "\u001b[32m[I 2023-04-20 12:57:10,463]\u001b[0m Trial 18 finished with value: 0.063355159117932 and parameters: {'l2_leaf_reg': 2, 'learning_rate': 0.34527346454985847, 'depth': 4}. Best is trial 16 with value: 0.08694479141413804.\u001b[0m\n"
     ]
    },
    {
     "name": "stdout",
     "output_type": "stream",
     "text": [
      "\n",
      "bestTest = 0.07079646018\n",
      "bestIteration = 172\n",
      "\n",
      "Training on fold [0/3]\n",
      "\n",
      "bestTest = 0.07492795389\n",
      "bestIteration = 162\n",
      "\n",
      "Training on fold [1/3]\n",
      "\n",
      "bestTest = 0.09418282548\n",
      "bestIteration = 188\n",
      "\n",
      "Training on fold [2/3]\n"
     ]
    },
    {
     "name": "stderr",
     "output_type": "stream",
     "text": [
      "\u001b[32m[I 2023-04-20 12:57:25,969]\u001b[0m Trial 19 finished with value: 0.08368488009254217 and parameters: {'l2_leaf_reg': 3, 'learning_rate': 0.3566484803136365, 'depth': 3}. Best is trial 16 with value: 0.08694479141413804.\u001b[0m\n"
     ]
    },
    {
     "name": "stdout",
     "output_type": "stream",
     "text": [
      "\n",
      "bestTest = 0.09248554913\n",
      "bestIteration = 196\n",
      "\n",
      "Training on fold [0/3]\n",
      "\n",
      "bestTest = 0.04863221884\n",
      "bestIteration = 140\n",
      "\n",
      "Training on fold [1/3]\n",
      "\n",
      "bestTest = 0.02476780186\n",
      "bestIteration = 145\n",
      "\n",
      "Training on fold [2/3]\n"
     ]
    },
    {
     "name": "stderr",
     "output_type": "stream",
     "text": [
      "\u001b[32m[I 2023-04-20 12:57:32,492]\u001b[0m Trial 20 finished with value: 0.028571236510821597 and parameters: {'l2_leaf_reg': 4, 'learning_rate': 0.3465568705172243, 'depth': 1}. Best is trial 16 with value: 0.08694479141413804.\u001b[0m\n"
     ]
    },
    {
     "name": "stdout",
     "output_type": "stream",
     "text": [
      "\n",
      "bestTest = 0.01246105919\n",
      "bestIteration = 144\n",
      "\n",
      "Training on fold [0/3]\n",
      "\n",
      "bestTest = 0.1079545455\n",
      "bestIteration = 194\n",
      "\n",
      "Training on fold [1/3]\n",
      "\n",
      "bestTest = 0.08815426997\n",
      "bestIteration = 195\n",
      "\n",
      "Training on fold [2/3]\n",
      "\n",
      "bestTest = 0.08022922636\n",
      "bestIteration = 136\n",
      "\n"
     ]
    },
    {
     "name": "stderr",
     "output_type": "stream",
     "text": [
      "\u001b[32m[I 2023-04-20 12:57:48,748]\u001b[0m Trial 21 finished with value: 0.08825617080876524 and parameters: {'l2_leaf_reg': 3, 'learning_rate': 0.36963736239328615, 'depth': 3}. Best is trial 21 with value: 0.08825617080876524.\u001b[0m\n"
     ]
    },
    {
     "name": "stdout",
     "output_type": "stream",
     "text": [
      "Training on fold [0/3]\n",
      "\n",
      "bestTest = 0.07471264368\n",
      "bestIteration = 162\n",
      "\n",
      "Training on fold [1/3]\n",
      "\n",
      "bestTest = 0.06285714286\n",
      "bestIteration = 168\n",
      "\n",
      "Training on fold [2/3]\n",
      "\n",
      "bestTest = 0.07514450867\n",
      "bestIteration = 191\n",
      "\n"
     ]
    },
    {
     "name": "stderr",
     "output_type": "stream",
     "text": [
      "\u001b[32m[I 2023-04-20 12:58:02,295]\u001b[0m Trial 22 finished with value: 0.06686898057316 and parameters: {'l2_leaf_reg': 3, 'learning_rate': 0.40586757629170855, 'depth': 3}. Best is trial 21 with value: 0.08825617080876524.\u001b[0m\n"
     ]
    },
    {
     "name": "stdout",
     "output_type": "stream",
     "text": [
      "Training on fold [0/3]\n",
      "\n",
      "bestTest = 0.05847953216\n",
      "bestIteration = 163\n",
      "\n",
      "Training on fold [1/3]\n",
      "\n",
      "bestTest = 0.08287292818\n",
      "bestIteration = 181\n",
      "\n",
      "Training on fold [2/3]\n",
      "\n",
      "bestTest = 0.06413994169\n",
      "bestIteration = 179\n",
      "\n"
     ]
    },
    {
     "name": "stderr",
     "output_type": "stream",
     "text": [
      "\u001b[32m[I 2023-04-20 12:58:13,193]\u001b[0m Trial 23 finished with value: 0.06481268260046757 and parameters: {'l2_leaf_reg': 3, 'learning_rate': 0.46275667282155053, 'depth': 2}. Best is trial 21 with value: 0.08825617080876524.\u001b[0m\n"
     ]
    },
    {
     "name": "stdout",
     "output_type": "stream",
     "text": [
      "Training on fold [0/3]\n",
      "\n",
      "bestTest = 0.09169054441\n",
      "bestIteration = 157\n",
      "\n",
      "Training on fold [1/3]\n",
      "\n",
      "bestTest = 0.09470752089\n",
      "bestIteration = 181\n",
      "\n",
      "Training on fold [2/3]\n"
     ]
    },
    {
     "name": "stderr",
     "output_type": "stream",
     "text": [
      "\u001b[32m[I 2023-04-20 12:58:28,366]\u001b[0m Trial 24 finished with value: 0.07960424528537619 and parameters: {'l2_leaf_reg': 2, 'learning_rate': 0.421359699723758, 'depth': 3}. Best is trial 21 with value: 0.08825617080876524.\u001b[0m\n"
     ]
    },
    {
     "name": "stdout",
     "output_type": "stream",
     "text": [
      "\n",
      "bestTest = 0.05847953216\n",
      "bestIteration = 146\n",
      "\n",
      "Training on fold [0/3]\n",
      "\n",
      "bestTest = 0.07954545455\n",
      "bestIteration = 199\n",
      "\n",
      "Training on fold [1/3]\n",
      "\n",
      "bestTest = 0.0632183908\n",
      "bestIteration = 181\n",
      "\n",
      "Training on fold [2/3]\n",
      "\n",
      "bestTest = 0.06528189911\n",
      "bestIteration = 104\n",
      "\n"
     ]
    },
    {
     "name": "stderr",
     "output_type": "stream",
     "text": [
      "\u001b[32m[I 2023-04-20 12:58:41,870]\u001b[0m Trial 25 finished with value: 0.06335348287874794 and parameters: {'l2_leaf_reg': 4, 'learning_rate': 0.46535782225058175, 'depth': 2}. Best is trial 21 with value: 0.08825617080876524.\u001b[0m\n"
     ]
    },
    {
     "name": "stdout",
     "output_type": "stream",
     "text": [
      "Training on fold [0/3]\n",
      "\n",
      "bestTest = 0.04610951009\n",
      "bestIteration = 194\n",
      "\n",
      "Training on fold [1/3]\n",
      "\n",
      "bestTest = 0.07303370787\n",
      "bestIteration = 182\n",
      "\n",
      "Training on fold [2/3]\n",
      "\n",
      "bestTest = 0.05309734513\n",
      "bestIteration = 199\n",
      "\n"
     ]
    },
    {
     "name": "stderr",
     "output_type": "stream",
     "text": [
      "\u001b[32m[I 2023-04-20 12:59:02,392]\u001b[0m Trial 26 finished with value: 0.0570321724306054 and parameters: {'l2_leaf_reg': 3, 'learning_rate': 0.36721962033896455, 'depth': 4}. Best is trial 21 with value: 0.08825617080876524.\u001b[0m\n"
     ]
    },
    {
     "name": "stdout",
     "output_type": "stream",
     "text": [
      "Training on fold [0/3]\n",
      "\n",
      "bestTest = 0.08533333333\n",
      "bestIteration = 199\n",
      "\n",
      "Training on fold [1/3]\n",
      "\n",
      "bestTest = 0.09523809524\n",
      "bestIteration = 178\n",
      "\n",
      "Training on fold [2/3]\n",
      "\n",
      "bestTest = 0.09142857143\n",
      "bestIteration = 106\n",
      "\n"
     ]
    },
    {
     "name": "stderr",
     "output_type": "stream",
     "text": [
      "\u001b[32m[I 2023-04-20 12:59:27,163]\u001b[0m Trial 27 finished with value: 0.08251276287282738 and parameters: {'l2_leaf_reg': 2, 'learning_rate': 0.41275330520553427, 'depth': 5}. Best is trial 21 with value: 0.08825617080876524.\u001b[0m\n"
     ]
    },
    {
     "name": "stdout",
     "output_type": "stream",
     "text": [
      "Training on fold [0/3]\n",
      "\n",
      "bestTest = 0.09577464789\n",
      "bestIteration = 167\n",
      "\n",
      "Training on fold [1/3]\n",
      "\n",
      "bestTest = 0.07558139535\n",
      "bestIteration = 57\n",
      "\n",
      "Training on fold [2/3]\n",
      "\n",
      "bestTest = 0.07386363636\n",
      "bestIteration = 198\n",
      "\n"
     ]
    },
    {
     "name": "stderr",
     "output_type": "stream",
     "text": [
      "\u001b[32m[I 2023-04-20 12:59:44,324]\u001b[0m Trial 28 finished with value: 0.07699796806703614 and parameters: {'l2_leaf_reg': 3, 'learning_rate': 0.4469691393205937, 'depth': 3}. Best is trial 21 with value: 0.08825617080876524.\u001b[0m\n"
     ]
    },
    {
     "name": "stdout",
     "output_type": "stream",
     "text": [
      "Training on fold [0/3]\n",
      "\n",
      "bestTest = 0.05294117647\n",
      "bestIteration = 75\n",
      "\n",
      "Training on fold [1/3]\n",
      "\n",
      "bestTest = 0.04747774481\n",
      "bestIteration = 52\n",
      "\n",
      "Training on fold [2/3]\n"
     ]
    },
    {
     "name": "stderr",
     "output_type": "stream",
     "text": [
      "\u001b[32m[I 2023-04-20 13:01:09,208]\u001b[0m Trial 29 finished with value: 0.04003496767588396 and parameters: {'l2_leaf_reg': 4, 'learning_rate': 0.33968525124429894, 'depth': 10}. Best is trial 21 with value: 0.08825617080876524.\u001b[0m\n"
     ]
    },
    {
     "name": "stdout",
     "output_type": "stream",
     "text": [
      "\n",
      "bestTest = 0.04255319149\n",
      "bestIteration = 49\n",
      "\n",
      "Training on fold [0/3]\n",
      "\n",
      "bestTest = 0.1111111111\n",
      "bestIteration = 120\n",
      "\n",
      "Training on fold [1/3]\n",
      "\n",
      "bestTest = 0.08888888889\n",
      "bestIteration = 112\n",
      "\n",
      "Training on fold [2/3]\n",
      "\n",
      "bestTest = 0.0701754386\n",
      "bestIteration = 178\n",
      "\n"
     ]
    },
    {
     "name": "stderr",
     "output_type": "stream",
     "text": [
      "\u001b[32m[I 2023-04-20 13:01:43,226]\u001b[0m Trial 30 finished with value: 0.08102799681467852 and parameters: {'l2_leaf_reg': 2, 'learning_rate': 0.38924537666904785, 'depth': 6}. Best is trial 21 with value: 0.08825617080876524.\u001b[0m\n"
     ]
    },
    {
     "name": "stdout",
     "output_type": "stream",
     "text": [
      "Training on fold [0/3]\n",
      "\n",
      "bestTest = 0.08403361345\n",
      "bestIteration = 142\n",
      "\n",
      "Training on fold [1/3]\n",
      "\n",
      "bestTest = 0.09315068493\n",
      "bestIteration = 69\n",
      "\n",
      "Training on fold [2/3]\n",
      "\n",
      "bestTest = 0.08069164265\n",
      "bestIteration = 107\n",
      "\n"
     ]
    },
    {
     "name": "stderr",
     "output_type": "stream",
     "text": [
      "\u001b[32m[I 2023-04-20 13:02:07,946]\u001b[0m Trial 31 finished with value: 0.07907655710605808 and parameters: {'l2_leaf_reg': 2, 'learning_rate': 0.4074846605586023, 'depth': 5}. Best is trial 21 with value: 0.08825617080876524.\u001b[0m\n"
     ]
    },
    {
     "name": "stdout",
     "output_type": "stream",
     "text": [
      "Training on fold [0/3]\n",
      "\n",
      "bestTest = 0.1215469613\n",
      "bestIteration = 181\n",
      "\n",
      "Training on fold [1/3]\n",
      "\n",
      "bestTest = 0.07065217391\n",
      "bestIteration = 193\n",
      "\n",
      "Training on fold [2/3]\n"
     ]
    },
    {
     "name": "stderr",
     "output_type": "stream",
     "text": [
      "\u001b[32m[I 2023-04-20 13:02:32,825]\u001b[0m Trial 32 finished with value: 0.09015630566316518 and parameters: {'l2_leaf_reg': 2, 'learning_rate': 0.41443475608125596, 'depth': 5}. Best is trial 32 with value: 0.09015630566316518.\u001b[0m\n"
     ]
    },
    {
     "name": "stdout",
     "output_type": "stream",
     "text": [
      "\n",
      "bestTest = 0.08\n",
      "bestIteration = 164\n",
      "\n",
      "Training on fold [0/3]\n",
      "\n",
      "bestTest = 0.1154855643\n",
      "bestIteration = 198\n",
      "\n",
      "Training on fold [1/3]\n",
      "\n",
      "bestTest = 0.1043956044\n",
      "bestIteration = 192\n",
      "\n",
      "Training on fold [2/3]\n"
     ]
    },
    {
     "name": "stderr",
     "output_type": "stream",
     "text": [
      "\u001b[32m[I 2023-04-20 13:02:59,872]\u001b[0m Trial 33 finished with value: 0.10069098317399472 and parameters: {'l2_leaf_reg': 2, 'learning_rate': 0.43178482890682496, 'depth': 5}. Best is trial 33 with value: 0.10069098317399472.\u001b[0m\n"
     ]
    },
    {
     "name": "stdout",
     "output_type": "stream",
     "text": [
      "\n",
      "bestTest = 0.08310249307\n",
      "bestIteration = 177\n",
      "\n",
      "Training on fold [0/3]\n",
      "\n",
      "bestTest = 0.1075268817\n",
      "bestIteration = 126\n",
      "\n",
      "Training on fold [1/3]\n",
      "\n",
      "bestTest = 0.1221374046\n",
      "bestIteration = 167\n",
      "\n",
      "Training on fold [2/3]\n"
     ]
    },
    {
     "name": "stderr",
     "output_type": "stream",
     "text": [
      "\u001b[32m[I 2023-04-20 13:03:25,241]\u001b[0m Trial 34 finished with value: 0.0963198777125225 and parameters: {'l2_leaf_reg': 2, 'learning_rate': 0.47404144450478236, 'depth': 5}. Best is trial 33 with value: 0.10069098317399472.\u001b[0m\n"
     ]
    },
    {
     "name": "stdout",
     "output_type": "stream",
     "text": [
      "\n",
      "bestTest = 0.09039548023\n",
      "bestIteration = 181\n",
      "\n",
      "Training on fold [0/3]\n",
      "\n",
      "bestTest = 0.1041666667\n",
      "bestIteration = 168\n",
      "\n",
      "Training on fold [1/3]\n",
      "\n",
      "bestTest = 0.1215189873\n",
      "bestIteration = 122\n",
      "\n",
      "Training on fold [2/3]\n",
      "\n",
      "bestTest = 0.0790960452\n",
      "bestIteration = 139\n",
      "\n"
     ]
    },
    {
     "name": "stderr",
     "output_type": "stream",
     "text": [
      "\u001b[32m[I 2023-04-20 13:03:50,261]\u001b[0m Trial 35 finished with value: 0.09540062310434694 and parameters: {'l2_leaf_reg': 2, 'learning_rate': 0.49454699455513884, 'depth': 5}. Best is trial 33 with value: 0.10069098317399472.\u001b[0m\n"
     ]
    },
    {
     "name": "stdout",
     "output_type": "stream",
     "text": [
      "Training on fold [0/3]\n",
      "\n",
      "bestTest = 0.1347150259\n",
      "bestIteration = 100\n",
      "\n",
      "Training on fold [1/3]\n",
      "\n",
      "bestTest = 0.1231527094\n",
      "bestIteration = 151\n",
      "\n",
      "Training on fold [2/3]\n",
      "\n",
      "bestTest = 0.1098901099\n",
      "bestIteration = 176\n",
      "\n"
     ]
    },
    {
     "name": "stderr",
     "output_type": "stream",
     "text": [
      "\u001b[32m[I 2023-04-20 13:04:14,170]\u001b[0m Trial 36 finished with value: 0.11648470824955459 and parameters: {'l2_leaf_reg': 2, 'learning_rate': 0.47666867088363574, 'depth': 5}. Best is trial 36 with value: 0.11648470824955459.\u001b[0m\n"
     ]
    },
    {
     "name": "stdout",
     "output_type": "stream",
     "text": [
      "Training on fold [0/3]\n",
      "\n",
      "bestTest = 0.1413612565\n",
      "bestIteration = 189\n",
      "\n",
      "Training on fold [1/3]\n",
      "\n",
      "bestTest = 0.07368421053\n",
      "bestIteration = 192\n",
      "\n",
      "Training on fold [2/3]\n"
     ]
    },
    {
     "name": "stderr",
     "output_type": "stream",
     "text": [
      "\u001b[32m[I 2023-04-20 13:04:34,055]\u001b[0m Trial 37 finished with value: 0.09401297268580966 and parameters: {'l2_leaf_reg': 2, 'learning_rate': 0.49734340605839017, 'depth': 4}. Best is trial 36 with value: 0.11648470824955459.\u001b[0m\n"
     ]
    },
    {
     "name": "stdout",
     "output_type": "stream",
     "text": [
      "\n",
      "bestTest = 0.07303370787\n",
      "bestIteration = 199\n",
      "\n",
      "Training on fold [0/3]\n",
      "\n",
      "bestTest = 0.1350649351\n",
      "bestIteration = 165\n",
      "\n",
      "Training on fold [1/3]\n",
      "\n",
      "bestTest = 0.09498680739\n",
      "bestIteration = 163\n",
      "\n",
      "Training on fold [2/3]\n",
      "\n",
      "bestTest = 0.104109589\n",
      "bestIteration = 134\n",
      "\n"
     ]
    },
    {
     "name": "stderr",
     "output_type": "stream",
     "text": [
      "\u001b[32m[I 2023-04-20 13:05:00,223]\u001b[0m Trial 38 finished with value: 0.10545300428387237 and parameters: {'l2_leaf_reg': 2, 'learning_rate': 0.4750964933141514, 'depth': 5}. Best is trial 36 with value: 0.11648470824955459.\u001b[0m\n"
     ]
    },
    {
     "name": "stdout",
     "output_type": "stream",
     "text": [
      "Training on fold [0/3]\n",
      "\n",
      "bestTest = 0.1189189189\n",
      "bestIteration = 155\n",
      "\n",
      "Training on fold [1/3]\n",
      "\n",
      "bestTest = 0.07282913165\n",
      "bestIteration = 61\n",
      "\n",
      "Training on fold [2/3]\n",
      "\n",
      "bestTest = 0.09497206704\n",
      "bestIteration = 148\n",
      "\n"
     ]
    },
    {
     "name": "stderr",
     "output_type": "stream",
     "text": [
      "\u001b[32m[I 2023-04-20 13:05:31,376]\u001b[0m Trial 39 finished with value: 0.08717380482086363 and parameters: {'l2_leaf_reg': 2, 'learning_rate': 0.46603939166668645, 'depth': 6}. Best is trial 36 with value: 0.11648470824955459.\u001b[0m\n"
     ]
    },
    {
     "name": "stdout",
     "output_type": "stream",
     "text": [
      "Training on fold [0/3]\n",
      "\n",
      "bestTest = 0.09604519774\n",
      "bestIteration = 192\n",
      "\n",
      "Training on fold [1/3]\n",
      "\n",
      "bestTest = 0.1126005362\n",
      "bestIteration = 182\n",
      "\n",
      "Training on fold [2/3]\n"
     ]
    },
    {
     "name": "stderr",
     "output_type": "stream",
     "text": [
      "\u001b[32m[I 2023-04-20 13:05:51,529]\u001b[0m Trial 40 finished with value: 0.11034884630061904 and parameters: {'l2_leaf_reg': 2, 'learning_rate': 0.4782154944918049, 'depth': 4}. Best is trial 36 with value: 0.11648470824955459.\u001b[0m\n"
     ]
    },
    {
     "name": "stdout",
     "output_type": "stream",
     "text": [
      "\n",
      "bestTest = 0.123943662\n",
      "bestIteration = 194\n",
      "\n",
      "Training on fold [0/3]\n",
      "\n",
      "bestTest = 0.1239892183\n",
      "bestIteration = 106\n",
      "\n",
      "Training on fold [1/3]\n",
      "\n",
      "bestTest = 0.08988764045\n",
      "bestIteration = 89\n",
      "\n",
      "Training on fold [2/3]\n",
      "\n",
      "bestTest = 0.1085714286\n",
      "bestIteration = 138\n",
      "\n"
     ]
    },
    {
     "name": "stderr",
     "output_type": "stream",
     "text": [
      "\u001b[32m[I 2023-04-20 13:06:12,005]\u001b[0m Trial 41 finished with value: 0.10137309415901792 and parameters: {'l2_leaf_reg': 2, 'learning_rate': 0.4708505774276767, 'depth': 4}. Best is trial 36 with value: 0.11648470824955459.\u001b[0m\n"
     ]
    },
    {
     "name": "stdout",
     "output_type": "stream",
     "text": [
      "Training on fold [0/3]\n",
      "\n",
      "bestTest = 0.1302083333\n",
      "bestIteration = 199\n",
      "\n",
      "Training on fold [1/3]\n",
      "\n",
      "bestTest = 0.1010638298\n",
      "bestIteration = 165\n",
      "\n",
      "Training on fold [2/3]\n",
      "\n",
      "bestTest = 0.1104972376\n",
      "bestIteration = 147\n",
      "\n"
     ]
    },
    {
     "name": "stderr",
     "output_type": "stream",
     "text": [
      "\u001b[32m[I 2023-04-20 13:06:32,182]\u001b[0m Trial 42 finished with value: 0.10614984065251444 and parameters: {'l2_leaf_reg': 2, 'learning_rate': 0.47672053267732545, 'depth': 4}. Best is trial 36 with value: 0.11648470824955459.\u001b[0m\n"
     ]
    },
    {
     "name": "stdout",
     "output_type": "stream",
     "text": [
      "Training on fold [0/3]\n",
      "\n",
      "bestTest = 0.1044386423\n",
      "bestIteration = 172\n",
      "\n",
      "Training on fold [1/3]\n",
      "\n",
      "bestTest = 0.08042895442\n",
      "bestIteration = 157\n",
      "\n",
      "Training on fold [2/3]\n",
      "\n",
      "bestTest = 0.1066666667\n",
      "bestIteration = 199\n",
      "\n"
     ]
    },
    {
     "name": "stderr",
     "output_type": "stream",
     "text": [
      "\u001b[32m[I 2023-04-20 13:06:52,874]\u001b[0m Trial 43 finished with value: 0.09248669719878617 and parameters: {'l2_leaf_reg': 2, 'learning_rate': 0.47348088543850236, 'depth': 4}. Best is trial 36 with value: 0.11648470824955459.\u001b[0m\n"
     ]
    },
    {
     "name": "stdout",
     "output_type": "stream",
     "text": [
      "Training on fold [0/3]\n",
      "\n",
      "bestTest = 0.1126760563\n",
      "bestIteration = 158\n",
      "\n",
      "Training on fold [1/3]\n",
      "\n",
      "bestTest = 0.09142857143\n",
      "bestIteration = 58\n",
      "\n",
      "Training on fold [2/3]\n",
      "\n",
      "bestTest = 0.06936416185\n",
      "bestIteration = 156\n",
      "\n"
     ]
    },
    {
     "name": "stderr",
     "output_type": "stream",
     "text": [
      "\u001b[32m[I 2023-04-20 13:07:13,011]\u001b[0m Trial 44 finished with value: 0.08408098488510933 and parameters: {'l2_leaf_reg': 2, 'learning_rate': 0.45740039071112965, 'depth': 4}. Best is trial 36 with value: 0.11648470824955459.\u001b[0m\n"
     ]
    },
    {
     "name": "stdout",
     "output_type": "stream",
     "text": [
      "Training on fold [0/3]\n",
      "\n",
      "bestTest = 0.09169054441\n",
      "bestIteration = 198\n",
      "\n",
      "Training on fold [1/3]\n",
      "\n",
      "bestTest = 0.08219178082\n",
      "bestIteration = 197\n",
      "\n",
      "Training on fold [2/3]\n",
      "\n",
      "bestTest = 0.05952380952\n",
      "bestIteration = 155\n",
      "\n"
     ]
    },
    {
     "name": "stderr",
     "output_type": "stream",
     "text": [
      "\u001b[32m[I 2023-04-20 13:07:26,513]\u001b[0m Trial 45 finished with value: 0.07366501187795681 and parameters: {'l2_leaf_reg': 2, 'learning_rate': 0.47799375147187806, 'depth': 2}. Best is trial 36 with value: 0.11648470824955459.\u001b[0m\n"
     ]
    },
    {
     "name": "stdout",
     "output_type": "stream",
     "text": [
      "Training on fold [0/3]\n",
      "\n",
      "bestTest = 0.1138211382\n",
      "bestIteration = 131\n",
      "\n",
      "Training on fold [1/3]\n",
      "\n",
      "bestTest = 0.08310249307\n",
      "bestIteration = 164\n",
      "\n",
      "Training on fold [2/3]\n"
     ]
    },
    {
     "name": "stderr",
     "output_type": "stream",
     "text": [
      "\u001b[32m[I 2023-04-20 13:07:48,580]\u001b[0m Trial 46 finished with value: 0.09335375854311412 and parameters: {'l2_leaf_reg': 2, 'learning_rate': 0.4504756157545442, 'depth': 4}. Best is trial 36 with value: 0.11648470824955459.\u001b[0m\n"
     ]
    },
    {
     "name": "stdout",
     "output_type": "stream",
     "text": [
      "\n",
      "bestTest = 0.09523809524\n",
      "bestIteration = 189\n",
      "\n",
      "Training on fold [0/3]\n",
      "\n",
      "bestTest = 0.1114058355\n",
      "bestIteration = 184\n",
      "\n",
      "Training on fold [1/3]\n",
      "\n",
      "bestTest = 0.1005291005\n",
      "bestIteration = 108\n",
      "\n",
      "Training on fold [2/3]\n"
     ]
    },
    {
     "name": "stderr",
     "output_type": "stream",
     "text": [
      "\u001b[32m[I 2023-04-20 13:08:20,136]\u001b[0m Trial 47 finished with value: 0.09314094354523374 and parameters: {'l2_leaf_reg': 2, 'learning_rate': 0.4762508043250892, 'depth': 6}. Best is trial 36 with value: 0.11648470824955459.\u001b[0m\n"
     ]
    },
    {
     "name": "stdout",
     "output_type": "stream",
     "text": [
      "\n",
      "bestTest = 0.09782608696\n",
      "bestIteration = 188\n",
      "\n",
      "Training on fold [0/3]\n",
      "\n",
      "bestTest = 0.08877284595\n",
      "bestIteration = 131\n",
      "\n",
      "Training on fold [1/3]\n",
      "\n",
      "bestTest = 0.1139896373\n",
      "bestIteration = 119\n",
      "\n",
      "Training on fold [2/3]\n",
      "\n",
      "bestTest = 0.08426966292\n",
      "bestIteration = 167\n",
      "\n"
     ]
    },
    {
     "name": "stderr",
     "output_type": "stream",
     "text": [
      "\u001b[32m[I 2023-04-20 13:08:48,003]\u001b[0m Trial 48 finished with value: 0.08995832485684546 and parameters: {'l2_leaf_reg': 2, 'learning_rate': 0.49989548358088215, 'depth': 5}. Best is trial 36 with value: 0.11648470824955459.\u001b[0m\n"
     ]
    },
    {
     "name": "stdout",
     "output_type": "stream",
     "text": [
      "Training on fold [0/3]\n",
      "\n",
      "bestTest = 0.08767123288\n",
      "bestIteration = 134\n",
      "\n",
      "Training on fold [1/3]\n",
      "\n",
      "bestTest = 0.09836065574\n",
      "bestIteration = 193\n",
      "\n",
      "Training on fold [2/3]\n",
      "\n",
      "bestTest = 0.07038123167\n",
      "bestIteration = 45\n",
      "\n"
     ]
    },
    {
     "name": "stderr",
     "output_type": "stream",
     "text": [
      "\u001b[32m[I 2023-04-20 13:09:25,817]\u001b[0m Trial 49 finished with value: 0.07171365127518342 and parameters: {'l2_leaf_reg': 5, 'learning_rate': 0.43740249607791404, 'depth': 7}. Best is trial 36 with value: 0.11648470824955459.\u001b[0m\n"
     ]
    }
   ],
   "source": [
    "study = optuna.create_study(direction='maximize', sampler=optuna.samplers.TPESampler())\n",
    "study.optimize(objective, n_trials=50)"
   ]
  },
  {
   "cell_type": "code",
   "execution_count": 35,
   "id": "0489b4b3",
   "metadata": {},
   "outputs": [
    {
     "data": {
      "text/plain": [
       "{'l2_leaf_reg': 2, 'learning_rate': 0.47666867088363574, 'depth': 5}"
      ]
     },
     "execution_count": 35,
     "metadata": {},
     "output_type": "execute_result"
    }
   ],
   "source": [
    "best_optun = study.best_params\n",
    "best_optun"
   ]
  },
  {
   "cell_type": "code",
   "execution_count": 36,
   "id": "d8fec53b",
   "metadata": {},
   "outputs": [],
   "source": [
    "best_model_optun = CatBoostClassifier(\n",
    "                                l2_leaf_reg=int(best_optun['l2_leaf_reg']),\n",
    "                                learning_rate=best_optun['learning_rate'],\n",
    "                                depth = int(best_optun['depth']),\n",
    "                                iterations=100,\n",
    "                                eval_metric='AUC',\n",
    "                                loss_function='Logloss',\n",
    "                                random_seed=42,\n",
    "                                verbose=False,\n",
    "                                use_best_model=True\n",
    "                              )"
   ]
  },
  {
   "cell_type": "code",
   "execution_count": 37,
   "id": "d47cd1a7",
   "metadata": {},
   "outputs": [
    {
     "data": {
      "application/vnd.jupyter.widget-view+json": {
       "model_id": "779a2d83a66a496aaec8385c14aaec94",
       "version_major": 2,
       "version_minor": 0
      },
      "text/plain": [
       "MetricVisualizer(layout=Layout(align_self='stretch', height='500px'))"
      ]
     },
     "metadata": {},
     "output_type": "display_data"
    },
    {
     "data": {
      "text/plain": [
       "<catboost.core.CatBoostClassifier at 0x1cb4a0a78b0>"
      ]
     },
     "execution_count": 37,
     "metadata": {},
     "output_type": "execute_result"
    }
   ],
   "source": [
    "best_model_optun.fit(train_pool,\n",
    "               eval_set =test_pool,\n",
    "               verbose=False,\n",
    "               plot=True)"
   ]
  },
  {
   "cell_type": "markdown",
   "id": "dafa41f7",
   "metadata": {},
   "source": [
    "test competition data"
   ]
  },
  {
   "cell_type": "code",
   "execution_count": 38,
   "id": "579a2fb2",
   "metadata": {},
   "outputs": [],
   "source": [
    "data_comp = pd.read_csv('./data/orange_small_churn_test_data.csv')\n",
    "data_comp = data_comp[cat_boost_selecting_feature]\n",
    "data_comp.fillna('NaN',inplace=True)"
   ]
  },
  {
   "cell_type": "code",
   "execution_count": 39,
   "id": "4a4351a1",
   "metadata": {},
   "outputs": [
    {
     "data": {
      "text/plain": [
       "array([[0.95585889, 0.04414111],\n",
       "       [0.95128467, 0.04871533],\n",
       "       [0.85955112, 0.14044888],\n",
       "       ...,\n",
       "       [0.98376488, 0.01623512],\n",
       "       [0.97686822, 0.02313178],\n",
       "       [0.94712067, 0.05287933]])"
      ]
     },
     "execution_count": 39,
     "metadata": {},
     "output_type": "execute_result"
    }
   ],
   "source": [
    "predictions_probs_hyper = best_model_hyper.predict_proba(data_comp)\n",
    "predictions_probs_hyper[10:]"
   ]
  },
  {
   "cell_type": "code",
   "execution_count": 41,
   "id": "f99b2b11",
   "metadata": {},
   "outputs": [
    {
     "data": {
      "text/plain": [
       "array([[0.95096802, 0.04903198],\n",
       "       [0.94006118, 0.05993882],\n",
       "       [0.86669957, 0.13330043],\n",
       "       ...,\n",
       "       [0.96553755, 0.03446245],\n",
       "       [0.98267033, 0.01732967],\n",
       "       [0.9448628 , 0.0551372 ]])"
      ]
     },
     "execution_count": 41,
     "metadata": {},
     "output_type": "execute_result"
    }
   ],
   "source": [
    "predictions_probs_opt = best_model_optun.predict_proba(data_comp)\n",
    "predictions_probs_opt[10:]"
   ]
  },
  {
   "cell_type": "code",
   "execution_count": 42,
   "id": "d6cdd8af",
   "metadata": {},
   "outputs": [],
   "source": [
    "out_df_h = pd.DataFrame(enumerate(predictions_probs_hyper[:,1]), columns=['Id', 'result'])\n",
    "out_df_h.to_csv('output_df_h.csv', sep=',', index=False)"
   ]
  },
  {
   "cell_type": "code",
   "execution_count": 43,
   "id": "6114ca45",
   "metadata": {},
   "outputs": [],
   "source": [
    "out_df_o = pd.DataFrame(enumerate(predictions_probs_opt[:,1]), columns=['Id', 'result'])\n",
    "out_df_o.to_csv('output_df_o.csv', sep=',', index=False)"
   ]
  },
  {
   "cell_type": "markdown",
   "id": "067739d6",
   "metadata": {},
   "source": [
    "This method give auc about 0.7, but f1 is so little we need to choice right treshold"
   ]
  },
  {
   "cell_type": "code",
   "execution_count": null,
   "id": "8885cea7",
   "metadata": {},
   "outputs": [],
   "source": []
  }
 ],
 "metadata": {
  "kernelspec": {
   "display_name": "Python 3",
   "language": "python",
   "name": "python3"
  },
  "language_info": {
   "codemirror_mode": {
    "name": "ipython",
    "version": 3
   },
   "file_extension": ".py",
   "mimetype": "text/x-python",
   "name": "python",
   "nbconvert_exporter": "python",
   "pygments_lexer": "ipython3",
   "version": "3.8.8"
  }
 },
 "nbformat": 4,
 "nbformat_minor": 5
}
