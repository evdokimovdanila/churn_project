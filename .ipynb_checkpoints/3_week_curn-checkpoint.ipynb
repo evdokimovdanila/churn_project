{
 "cells": [
  {
   "cell_type": "code",
   "execution_count": 1,
   "metadata": {
    "id": "FP4yRfK2qoFK"
   },
   "outputs": [],
   "source": [
    "import pandas as pd\n",
    "import numpy as np\n",
    "import scipy as sc\n",
    "import sklearn\n",
    "from sklearn.model_selection import train_test_split, cross_val_score, ShuffleSplit\n",
    "from sklearn.linear_model import LogisticRegression, RidgeClassifier\n",
    "from sklearn.preprocessing import OneHotEncoder, LabelEncoder\n",
    "from sklearn.ensemble import RandomForestClassifier, GradientBoostingClassifier\n",
    "from sklearn.svm import SVC\n",
    "from sklearn.metrics import f1_score, accuracy_score, roc_auc_score\n",
    "import warnings\n",
    "warnings.filterwarnings('ignore')"
   ]
  },
  {
   "cell_type": "markdown",
   "metadata": {
    "id": "HxBvlucKeMix"
   },
   "source": [
    "Выгрузка данных"
   ]
  },
  {
   "cell_type": "code",
   "execution_count": 3,
   "metadata": {
    "id": "IVKtFZ7uqyFS"
   },
   "outputs": [],
   "source": [
    "data = pd.read_csv('data/orange_small_churn_data.txt')\n",
    "label = pd.read_csv('data/orange_small_churn_labels.txt', header=None,names=['label'])"
   ]
  },
  {
   "cell_type": "code",
   "execution_count": 4,
   "metadata": {
    "colab": {
     "base_uri": "https://localhost:8080/",
     "height": 391
    },
    "id": "wShj0SIjvao6",
    "outputId": "0d29863d-eb7b-4681-acbb-0777d27d80ed"
   },
   "outputs": [
    {
     "data": {
      "text/html": [
       "<div>\n",
       "<style scoped>\n",
       "    .dataframe tbody tr th:only-of-type {\n",
       "        vertical-align: middle;\n",
       "    }\n",
       "\n",
       "    .dataframe tbody tr th {\n",
       "        vertical-align: top;\n",
       "    }\n",
       "\n",
       "    .dataframe thead th {\n",
       "        text-align: right;\n",
       "    }\n",
       "</style>\n",
       "<table border=\"1\" class=\"dataframe\">\n",
       "  <thead>\n",
       "    <tr style=\"text-align: right;\">\n",
       "      <th></th>\n",
       "      <th>label</th>\n",
       "    </tr>\n",
       "  </thead>\n",
       "  <tbody>\n",
       "    <tr>\n",
       "      <th>0</th>\n",
       "      <td>-1</td>\n",
       "    </tr>\n",
       "    <tr>\n",
       "      <th>1</th>\n",
       "      <td>-1</td>\n",
       "    </tr>\n",
       "    <tr>\n",
       "      <th>2</th>\n",
       "      <td>-1</td>\n",
       "    </tr>\n",
       "    <tr>\n",
       "      <th>3</th>\n",
       "      <td>1</td>\n",
       "    </tr>\n",
       "    <tr>\n",
       "      <th>4</th>\n",
       "      <td>-1</td>\n",
       "    </tr>\n",
       "    <tr>\n",
       "      <th>...</th>\n",
       "      <td>...</td>\n",
       "    </tr>\n",
       "    <tr>\n",
       "      <th>39995</th>\n",
       "      <td>-1</td>\n",
       "    </tr>\n",
       "    <tr>\n",
       "      <th>39996</th>\n",
       "      <td>-1</td>\n",
       "    </tr>\n",
       "    <tr>\n",
       "      <th>39997</th>\n",
       "      <td>-1</td>\n",
       "    </tr>\n",
       "    <tr>\n",
       "      <th>39998</th>\n",
       "      <td>-1</td>\n",
       "    </tr>\n",
       "    <tr>\n",
       "      <th>39999</th>\n",
       "      <td>-1</td>\n",
       "    </tr>\n",
       "  </tbody>\n",
       "</table>\n",
       "<p>40000 rows × 1 columns</p>\n",
       "</div>"
      ],
      "text/plain": [
       "       label\n",
       "0         -1\n",
       "1         -1\n",
       "2         -1\n",
       "3          1\n",
       "4         -1\n",
       "...      ...\n",
       "39995     -1\n",
       "39996     -1\n",
       "39997     -1\n",
       "39998     -1\n",
       "39999     -1\n",
       "\n",
       "[40000 rows x 1 columns]"
      ]
     },
     "execution_count": 4,
     "metadata": {},
     "output_type": "execute_result"
    }
   ],
   "source": [
    "label\n"
   ]
  },
  {
   "cell_type": "markdown",
   "metadata": {
    "id": "bz8VMTTteYuX"
   },
   "source": [
    "Выделение вешественных и категориальных признаков"
   ]
  },
  {
   "cell_type": "code",
   "execution_count": 5,
   "metadata": {
    "id": "GX0SdqlivcQb"
   },
   "outputs": [],
   "source": [
    "numeric_label = data.columns[:190]\n",
    "categorical_label = data.columns[190:]"
   ]
  },
  {
   "cell_type": "code",
   "execution_count": 6,
   "metadata": {
    "colab": {
     "base_uri": "https://localhost:8080/"
    },
    "id": "NRLnkJ03ZDxC",
    "outputId": "d36b4ef0-c39d-4add-eb98-0a9ec6ce5b12"
   },
   "outputs": [
    {
     "name": "stdout",
     "output_type": "stream",
     "text": [
      "<class 'pandas.core.frame.DataFrame'>\n",
      "RangeIndex: 40000 entries, 0 to 39999\n",
      "Columns: 190 entries, Var1 to Var190\n",
      "dtypes: float64(189), int64(1)\n",
      "memory usage: 58.0 MB\n"
     ]
    }
   ],
   "source": [
    "data[numeric_label].info()"
   ]
  },
  {
   "cell_type": "code",
   "execution_count": 7,
   "metadata": {
    "id": "rzmSHQy6ZMbf"
   },
   "outputs": [],
   "source": [
    "numeric_data = data[numeric_label]\n",
    "cat_data = data[categorical_label]"
   ]
  },
  {
   "cell_type": "markdown",
   "metadata": {
    "id": "6GJr1-mafJwW"
   },
   "source": [
    "Отбор признаков у которых ненулевых значений больше половины "
   ]
  },
  {
   "cell_type": "code",
   "execution_count": 9,
   "metadata": {
    "colab": {
     "base_uri": "https://localhost:8080/"
    },
    "id": "xyPkUEYGwqx3",
    "outputId": "bae41a9e-610e-443b-aa80-b71586274f65"
   },
   "outputs": [
    {
     "data": {
      "text/plain": [
       "41"
      ]
     },
     "execution_count": 9,
     "metadata": {},
     "output_type": "execute_result"
    }
   ],
   "source": [
    "correct_name = []\n",
    "for name in numeric_data.columns:\n",
    "    if np.sum(~numeric_data[name].isnull()) >= 20000:\n",
    "        correct_name.append(name)\n",
    "len(correct_name)"
   ]
  },
  {
   "cell_type": "code",
   "execution_count": 10,
   "metadata": {
    "colab": {
     "base_uri": "https://localhost:8080/"
    },
    "id": "-THdmnt7kL28",
    "outputId": "24117bae-4d3b-487a-bea8-454050ff3247"
   },
   "outputs": [
    {
     "data": {
      "text/plain": [
       "28"
      ]
     },
     "execution_count": 10,
     "metadata": {},
     "output_type": "execute_result"
    }
   ],
   "source": [
    "cat_name = []\n",
    "for name in cat_data.columns:\n",
    "    if np.sum(~cat_data[name].isnull()) >= 20000:\n",
    "        cat_name.append(name)\n",
    "len(cat_name)"
   ]
  },
  {
   "cell_type": "markdown",
   "metadata": {
    "id": "alKxzqDPfZgg"
   },
   "source": [
    "Замена пропусков на среднее значенние у вещественных признаков "
   ]
  },
  {
   "cell_type": "code",
   "execution_count": 11,
   "metadata": {
    "id": "g2ujUMP3XcoA"
   },
   "outputs": [],
   "source": [
    "correct_data = data[correct_name]\n",
    "mean_data = correct_data.mean(axis='index')\n",
    "\n",
    "for i, name in enumerate(correct_name):\n",
    "    correct_data[name].fillna(mean_data[i], inplace=True)"
   ]
  },
  {
   "cell_type": "markdown",
   "metadata": {
    "id": "0XJny1tyfiO4"
   },
   "source": [
    "LabelEncoding для категориальных признаков\n",
    "\n"
   ]
  },
  {
   "cell_type": "code",
   "execution_count": null,
   "metadata": {
    "id": "cGAQecGJahAV"
   },
   "outputs": [],
   "source": [
    "cat_data = data[cat_name]\n",
    "transform_cat_data = cat_data.copy()\n",
    "for name in cat_data.columns:\n",
    "      transform_cat_data[name] = LabelEncoder().fit_transform(cat_data[name])\n"
   ]
  },
  {
   "cell_type": "markdown",
   "metadata": {
    "id": "KKesa6M6fwGG"
   },
   "source": [
    "Балансиврока данных"
   ]
  },
  {
   "cell_type": "code",
   "execution_count": null,
   "metadata": {
    "colab": {
     "base_uri": "https://localhost:8080/"
    },
    "id": "W7C0ns77fyQl",
    "outputId": "e3f970d3-631e-4588-9ecf-db671fccb98e"
   },
   "outputs": [
    {
     "data": {
      "text/plain": [
       "label\n",
       "-1       37024\n",
       " 1        2976\n",
       "dtype: int64"
      ]
     },
     "execution_count": 12,
     "metadata": {},
     "output_type": "execute_result"
    }
   ],
   "source": [
    "label.value_counts()"
   ]
  },
  {
   "cell_type": "code",
   "execution_count": null,
   "metadata": {
    "id": "d6iyC5XNIEXG"
   },
   "outputs": [],
   "source": [
    "index_b = label[label['label'] == 1].index"
   ]
  },
  {
   "cell_type": "code",
   "execution_count": null,
   "metadata": {
    "colab": {
     "base_uri": "https://localhost:8080/"
    },
    "id": "pvIS9G90Ju4L",
    "outputId": "c15296da-1ab7-4444-a9a1-75d6f8419269"
   },
   "outputs": [
    {
     "data": {
      "text/plain": [
       "34048"
      ]
     },
     "execution_count": 14,
     "metadata": {},
     "output_type": "execute_result"
    }
   ],
   "source": [
    "k = len(label[label['label'] == -1]) - len(label[label['label'] == 1])\n",
    "k"
   ]
  },
  {
   "cell_type": "code",
   "execution_count": null,
   "metadata": {
    "id": "7QUq8BcIIQnS"
   },
   "outputs": [],
   "source": [
    "np.random.seed(42)\n",
    "indices_to_add = np.random.choice(index_b, k)"
   ]
  },
  {
   "cell_type": "code",
   "execution_count": null,
   "metadata": {
    "colab": {
     "base_uri": "https://localhost:8080/"
    },
    "id": "W1QHhA2xJf8r",
    "outputId": "2a2333de-bf02-4b72-955b-09cb62773434"
   },
   "outputs": [
    {
     "data": {
      "text/plain": [
       "array([11241, 17017, 14879, ..., 37101, 20973, 25393])"
      ]
     },
     "execution_count": 16,
     "metadata": {},
     "output_type": "execute_result"
    }
   ],
   "source": [
    "indices_to_add"
   ]
  },
  {
   "cell_type": "code",
   "execution_count": null,
   "metadata": {
    "id": "vFo66ysb7KLV"
   },
   "outputs": [],
   "source": [
    "total_data = correct_data.merge(transform_cat_data, left_index=True, right_index=True)"
   ]
  },
  {
   "cell_type": "markdown",
   "metadata": {
    "id": "hWQAmX0RgCeY"
   },
   "source": [
    "Создание фрейма, который надо добавить по методике oversampling"
   ]
  },
  {
   "cell_type": "code",
   "execution_count": null,
   "metadata": {
    "id": "exDEJSEfKdHa"
   },
   "outputs": [],
   "source": [
    "data_add = total_data.iloc[indices_to_add, :]\n",
    "label_add = label.iloc[indices_to_add, :]"
   ]
  },
  {
   "cell_type": "code",
   "execution_count": null,
   "metadata": {
    "id": "GUCiy9T586FW"
   },
   "outputs": [],
   "source": [
    "total_data = pd.concat([total_data, data_add])\n",
    "total_label = pd.concat([label, label_add])"
   ]
  },
  {
   "cell_type": "code",
   "execution_count": null,
   "metadata": {
    "colab": {
     "base_uri": "https://localhost:8080/"
    },
    "id": "buV7lK1_L3J4",
    "outputId": "4c3c2fda-4dc4-4827-bcbb-f063214d71e4"
   },
   "outputs": [
    {
     "data": {
      "text/plain": [
       "(74048, 1)"
      ]
     },
     "execution_count": 20,
     "metadata": {},
     "output_type": "execute_result"
    }
   ],
   "source": [
    "total_label.shape"
   ]
  },
  {
   "cell_type": "markdown",
   "metadata": {
    "id": "ixaIKX2qgMfG"
   },
   "source": [
    "Разделение на обучение и тест"
   ]
  },
  {
   "cell_type": "code",
   "execution_count": null,
   "metadata": {
    "id": "gcghut0PYFoW"
   },
   "outputs": [],
   "source": [
    "train_data, test_data, train_target, test_target = train_test_split(total_data, total_label, random_state=42, test_size=0.3) "
   ]
  },
  {
   "cell_type": "code",
   "execution_count": null,
   "metadata": {
    "id": "coyWOKGrakbp"
   },
   "outputs": [],
   "source": [
    "cv_spliter = ShuffleSplit(n_splits=5, test_size=0.3)"
   ]
  },
  {
   "cell_type": "code",
   "execution_count": null,
   "metadata": {
    "id": "obl-sz9Za3R9"
   },
   "outputs": [],
   "source": [
    "cv_res = cross_val_score(LogisticRegression(), train_data, train_target, cv=cv_spliter, scoring='f1')"
   ]
  },
  {
   "cell_type": "code",
   "execution_count": null,
   "metadata": {
    "colab": {
     "base_uri": "https://localhost:8080/"
    },
    "id": "7A7UOFS-bovQ",
    "outputId": "a867f0ab-1297-41e4-8186-ad7fb00f2624"
   },
   "outputs": [
    {
     "data": {
      "text/plain": [
       "array([0.54564533, 0.55044166, 0.5541015 , 0.55508311, 0.5503347 ])"
      ]
     },
     "execution_count": 27,
     "metadata": {},
     "output_type": "execute_result"
    }
   ],
   "source": [
    "cv_res"
   ]
  },
  {
   "cell_type": "markdown",
   "metadata": {
    "id": "c0B8b3sWgf6k"
   },
   "source": [
    "Обучение на всех данных и проверка на отложенной выборке"
   ]
  },
  {
   "cell_type": "code",
   "execution_count": null,
   "metadata": {
    "id": "ify4PJHGbucU"
   },
   "outputs": [],
   "source": [
    "model = LogisticRegression().fit(train_data, train_target)"
   ]
  },
  {
   "cell_type": "markdown",
   "metadata": {
    "id": "WXyHPzF6g-6F"
   },
   "source": [
    "Оценка качества"
   ]
  },
  {
   "cell_type": "code",
   "execution_count": null,
   "metadata": {
    "id": "2HS1BYHmg9EE"
   },
   "outputs": [],
   "source": [
    "predict_train = model.predict(train_data)\n",
    "predict_test = model.predict(test_data)"
   ]
  },
  {
   "cell_type": "code",
   "execution_count": null,
   "metadata": {
    "colab": {
     "base_uri": "https://localhost:8080/"
    },
    "id": "1KvLVjvAhUek",
    "outputId": "30986f8c-381a-4dbe-e5d7-dc27f01e0157"
   },
   "outputs": [
    {
     "name": "stdout",
     "output_type": "stream",
     "text": [
      "f1_score by train data: 0.5526466126903454\n",
      "f1_score by test data: 0.5482557601554547\n",
      "\n",
      "accuracy_score by train data: 0.561881426890205\n",
      "accuracy_score by test data: 0.5604771550753995\n",
      "\n",
      "roc_score by train data: 0.5620057970695448\n",
      "roc_score by test data: 0.560600143452491\n",
      "\n"
     ]
    }
   ],
   "source": [
    "print(f\"f1_score by train data: {f1_score(predict_train, train_target)}\")\n",
    "print(f\"f1_score by test data: {f1_score(predict_test, test_target)}\")\n",
    "print()\n",
    "\n",
    "print(f\"accuracy_score by train data: {accuracy_score(predict_train, train_target)}\")\n",
    "print(f\"accuracy_score by test data: {accuracy_score(predict_test, test_target)}\")\n",
    "print()\n",
    "\n",
    "print(f\"roc_score by train data: {roc_auc_score(predict_train, train_target)}\")\n",
    "print(f\"roc_score by test data: {roc_auc_score(predict_test, test_target)}\")\n",
    "print()"
   ]
  },
  {
   "cell_type": "markdown",
   "metadata": {
    "id": "-pv1Q85LhwZ3"
   },
   "source": [
    "Base line  получен качество составило примерно 0.55\n",
    "\n",
    "Baseline:\n",
    "\n",
    "1.Отбор признаков по пропускам\n",
    "\n",
    "2.преобразование кат признаков labelencoder\n",
    "\n",
    "3.балансировка по oversampling\n",
    "\n",
    "4.logostocregression "
   ]
  },
  {
   "cell_type": "code",
   "execution_count": null,
   "metadata": {
    "id": "EyC62Zkihsc4"
   },
   "outputs": [],
   "source": []
  }
 ],
 "metadata": {
  "colab": {
   "collapsed_sections": [],
   "name": "3_week_curn.ipynb",
   "provenance": []
  },
  "kernelspec": {
   "display_name": "Python 3",
   "language": "python",
   "name": "python3"
  },
  "language_info": {
   "codemirror_mode": {
    "name": "ipython",
    "version": 3
   },
   "file_extension": ".py",
   "mimetype": "text/x-python",
   "name": "python",
   "nbconvert_exporter": "python",
   "pygments_lexer": "ipython3",
   "version": "3.8.8"
  }
 },
 "nbformat": 4,
 "nbformat_minor": 1
}
