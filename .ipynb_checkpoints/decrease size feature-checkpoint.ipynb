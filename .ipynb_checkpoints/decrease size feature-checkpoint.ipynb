{
 "cells": [
  {
   "cell_type": "code",
   "execution_count": 1,
   "id": "26ced8ba",
   "metadata": {},
   "outputs": [],
   "source": [
    "import xgboost as xgb\n",
    "from catboost import CatBoostClassifier, cv ,Pool\n",
    "from sklearn import preprocessing \n",
    "from sklearn.preprocessing import LabelEncoder, StandardScaler, OneHotEncoder\n",
    "from sklearn.linear_model import LogisticRegression, RidgeClassifier\n",
    "from sklearn.metrics import classification_report, roc_auc_score\n",
    "from sklearn.model_selection import cross_val_score, train_test_split, StratifiedShuffleSplit, GridSearchCV\n",
    "import numpy as np\n",
    "import pandas as pd\n",
    "import warnings\n",
    "warnings.filterwarnings('ignore')\n",
    "from sklearn.pipeline import Pipeline, FeatureUnion\n",
    "from sklearn.experimental import enable_iterative_imputer\n",
    "from sklearn.impute import SimpleImputer, IterativeImputer,KNNImputer\n",
    "from sklearn.feature_selection import chi2, SelectKBest, mutual_info_classif, SequentialFeatureSelector\n",
    "from sklearn.tree import DecisionTreeClassifier\n",
    "import seaborn as sns\n",
    "import matplotlib.pyplot as plt\n",
    "import itertools as it"
   ]
  },
  {
   "cell_type": "code",
   "execution_count": 2,
   "id": "e6820782",
   "metadata": {},
   "outputs": [],
   "source": [
    "data = pd.read_csv('./data/orange_small_churn_train_data.csv')"
   ]
  },
  {
   "cell_type": "code",
   "execution_count": 3,
   "id": "3d793eea",
   "metadata": {},
   "outputs": [
    {
     "name": "stdout",
     "output_type": "stream",
     "text": [
      "-1.0    16921\n",
      " 1.0     1377\n",
      "Name: labels, dtype: int64\n",
      "[-1.  1. nan]\n"
     ]
    }
   ],
   "source": [
    "# check disbalance in classes\n",
    "print(data['labels'].value_counts())\n",
    "print(data['labels'].unique())"
   ]
  },
  {
   "cell_type": "code",
   "execution_count": 4,
   "id": "6978dc24",
   "metadata": {},
   "outputs": [],
   "source": [
    "data['labels'].replace(-1, 0, inplace=True)\n",
    "data.dropna(subset=['labels'], inplace=True)\n",
    "labels = data['labels']\n",
    "data = data.iloc[:,:-1]"
   ]
  },
  {
   "cell_type": "code",
   "execution_count": 5,
   "id": "81b3839c",
   "metadata": {},
   "outputs": [],
   "source": [
    "cat_boost_selecting_feature = ['Var126', 'Var113', 'Var199', 'Var57', 'Var202', 'Var74', 'Var218', 'Var73', 'Var205', 'Var81',\n",
    " 'Var207', 'Var133', 'Var38', 'Var192', 'Var216', 'Var13', 'Var193', 'Var222', 'Var134', 'Var153', 'Var123', 'Var226', 'Var149',\n",
    " 'Var210', 'Var206', 'Var212', 'Var219', 'Var204', 'Var125', 'Var28']"
   ]
  },
  {
   "cell_type": "code",
   "execution_count": 6,
   "id": "632dc2bb",
   "metadata": {},
   "outputs": [],
   "source": [
    "numeric_col = data.columns[1:190]\n",
    "new_numeric = np.intersect1d(numeric_col, cat_boost_selecting_feature)"
   ]
  },
  {
   "cell_type": "code",
   "execution_count": 7,
   "id": "184fa0bc",
   "metadata": {},
   "outputs": [],
   "source": [
    "data_dec = data[new_numeric]"
   ]
  },
  {
   "cell_type": "code",
   "execution_count": 8,
   "id": "72b204d6",
   "metadata": {},
   "outputs": [
    {
     "data": {
      "text/html": [
       "<div>\n",
       "<style scoped>\n",
       "    .dataframe tbody tr th:only-of-type {\n",
       "        vertical-align: middle;\n",
       "    }\n",
       "\n",
       "    .dataframe tbody tr th {\n",
       "        vertical-align: top;\n",
       "    }\n",
       "\n",
       "    .dataframe thead th {\n",
       "        text-align: right;\n",
       "    }\n",
       "</style>\n",
       "<table border=\"1\" class=\"dataframe\">\n",
       "  <thead>\n",
       "    <tr style=\"text-align: right;\">\n",
       "      <th></th>\n",
       "      <th>Var113</th>\n",
       "      <th>Var123</th>\n",
       "      <th>Var125</th>\n",
       "      <th>Var126</th>\n",
       "      <th>Var13</th>\n",
       "      <th>Var133</th>\n",
       "      <th>Var134</th>\n",
       "      <th>Var149</th>\n",
       "      <th>Var153</th>\n",
       "      <th>Var28</th>\n",
       "      <th>Var38</th>\n",
       "      <th>Var57</th>\n",
       "      <th>Var73</th>\n",
       "      <th>Var74</th>\n",
       "      <th>Var81</th>\n",
       "    </tr>\n",
       "  </thead>\n",
       "  <tbody>\n",
       "    <tr>\n",
       "      <th>0</th>\n",
       "      <td>-1209960.0</td>\n",
       "      <td>66.0</td>\n",
       "      <td>NaN</td>\n",
       "      <td>4.0</td>\n",
       "      <td>NaN</td>\n",
       "      <td>326915.0</td>\n",
       "      <td>604276.0</td>\n",
       "      <td>389396.0</td>\n",
       "      <td>2313888.0</td>\n",
       "      <td>200.00</td>\n",
       "      <td>82752.0</td>\n",
       "      <td>2.907926</td>\n",
       "      <td>34</td>\n",
       "      <td>NaN</td>\n",
       "      <td>14599.92</td>\n",
       "    </tr>\n",
       "    <tr>\n",
       "      <th>1</th>\n",
       "      <td>417932.0</td>\n",
       "      <td>66.0</td>\n",
       "      <td>24912.0</td>\n",
       "      <td>40.0</td>\n",
       "      <td>636.0</td>\n",
       "      <td>1934460.0</td>\n",
       "      <td>349568.0</td>\n",
       "      <td>735.0</td>\n",
       "      <td>6502680.0</td>\n",
       "      <td>166.56</td>\n",
       "      <td>2706120.0</td>\n",
       "      <td>5.870327</td>\n",
       "      <td>128</td>\n",
       "      <td>0.0</td>\n",
       "      <td>67529.09</td>\n",
       "    </tr>\n",
       "    <tr>\n",
       "      <th>2</th>\n",
       "      <td>-124655.2</td>\n",
       "      <td>78.0</td>\n",
       "      <td>7218.0</td>\n",
       "      <td>36.0</td>\n",
       "      <td>448.0</td>\n",
       "      <td>3148410.0</td>\n",
       "      <td>1086210.0</td>\n",
       "      <td>0.0</td>\n",
       "      <td>10569040.0</td>\n",
       "      <td>311.76</td>\n",
       "      <td>4698780.0</td>\n",
       "      <td>5.981628</td>\n",
       "      <td>166</td>\n",
       "      <td>245.0</td>\n",
       "      <td>85266.00</td>\n",
       "    </tr>\n",
       "    <tr>\n",
       "      <th>3</th>\n",
       "      <td>378473.6</td>\n",
       "      <td>24.0</td>\n",
       "      <td>693.0</td>\n",
       "      <td>NaN</td>\n",
       "      <td>4.0</td>\n",
       "      <td>7066700.0</td>\n",
       "      <td>650390.0</td>\n",
       "      <td>0.0</td>\n",
       "      <td>9676200.0</td>\n",
       "      <td>220.08</td>\n",
       "      <td>864384.0</td>\n",
       "      <td>5.108097</td>\n",
       "      <td>30</td>\n",
       "      <td>0.0</td>\n",
       "      <td>74107.20</td>\n",
       "    </tr>\n",
       "    <tr>\n",
       "      <th>4</th>\n",
       "      <td>142602.4</td>\n",
       "      <td>60.0</td>\n",
       "      <td>468.0</td>\n",
       "      <td>-28.0</td>\n",
       "      <td>0.0</td>\n",
       "      <td>3794460.0</td>\n",
       "      <td>642816.0</td>\n",
       "      <td>554414.0</td>\n",
       "      <td>10535200.0</td>\n",
       "      <td>278.00</td>\n",
       "      <td>4364880.0</td>\n",
       "      <td>0.650716</td>\n",
       "      <td>32</td>\n",
       "      <td>0.0</td>\n",
       "      <td>171072.90</td>\n",
       "    </tr>\n",
       "  </tbody>\n",
       "</table>\n",
       "</div>"
      ],
      "text/plain": [
       "      Var113  Var123   Var125  Var126  Var13     Var133     Var134    Var149  \\\n",
       "0 -1209960.0    66.0      NaN     4.0    NaN   326915.0   604276.0  389396.0   \n",
       "1   417932.0    66.0  24912.0    40.0  636.0  1934460.0   349568.0     735.0   \n",
       "2  -124655.2    78.0   7218.0    36.0  448.0  3148410.0  1086210.0       0.0   \n",
       "3   378473.6    24.0    693.0     NaN    4.0  7066700.0   650390.0       0.0   \n",
       "4   142602.4    60.0    468.0   -28.0    0.0  3794460.0   642816.0  554414.0   \n",
       "\n",
       "       Var153   Var28      Var38     Var57  Var73  Var74      Var81  \n",
       "0   2313888.0  200.00    82752.0  2.907926     34    NaN   14599.92  \n",
       "1   6502680.0  166.56  2706120.0  5.870327    128    0.0   67529.09  \n",
       "2  10569040.0  311.76  4698780.0  5.981628    166  245.0   85266.00  \n",
       "3   9676200.0  220.08   864384.0  5.108097     30    0.0   74107.20  \n",
       "4  10535200.0  278.00  4364880.0  0.650716     32    0.0  171072.90  "
      ]
     },
     "execution_count": 8,
     "metadata": {},
     "output_type": "execute_result"
    }
   ],
   "source": [
    "data_dec.head()"
   ]
  },
  {
   "cell_type": "code",
   "execution_count": 11,
   "id": "b0f52322",
   "metadata": {},
   "outputs": [
    {
     "data": {
      "text/plain": [
       "{'Var113': -152899.64255307434,\n",
       " 'Var123': 60.19556524900036,\n",
       " 'Var125': 28628.845607155985,\n",
       " 'Var126': -0.5502829121086382,\n",
       " 'Var13': 1245.570150716824,\n",
       " 'Var133': 2297146.320428935,\n",
       " 'Var134': 434669.37089543196,\n",
       " 'Var149': 298374.96339752583,\n",
       " 'Var153': 6187974.183933116,\n",
       " 'Var28': 223.95807085369754,\n",
       " 'Var38': 2569298.9236641224,\n",
       " 'Var57': 3.5051355847824346,\n",
       " 'Var73': 66.71188107989944,\n",
       " 'Var74': 102.63736061757137,\n",
       " 'Var81': 103115.87978967272}"
      ]
     },
     "execution_count": 11,
     "metadata": {},
     "output_type": "execute_result"
    }
   ],
   "source": [
    "data_dec.fillna(dict(data_dec.mean(axis=0)), inplace=True)"
   ]
  },
  {
   "cell_type": "code",
   "execution_count": null,
   "id": "aa31c2ae",
   "metadata": {},
   "outputs": [],
   "source": []
  }
 ],
 "metadata": {
  "kernelspec": {
   "display_name": "Python 3",
   "language": "python",
   "name": "python3"
  },
  "language_info": {
   "codemirror_mode": {
    "name": "ipython",
    "version": 3
   },
   "file_extension": ".py",
   "mimetype": "text/x-python",
   "name": "python",
   "nbconvert_exporter": "python",
   "pygments_lexer": "ipython3",
   "version": "3.8.8"
  }
 },
 "nbformat": 4,
 "nbformat_minor": 5
}
