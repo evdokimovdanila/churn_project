{
 "cells": [
  {
   "cell_type": "code",
   "execution_count": 2,
   "metadata": {
    "id": "FP4yRfK2qoFK"
   },
   "outputs": [],
   "source": [
    "import pandas as pd\n",
    "import numpy as np\n",
    "import scipy as sc\n",
    "import sklearn\n",
    "from sklearn.model_selection import train_test_split, cross_val_score, ShuffleSplit\n",
    "from sklearn.linear_model import LogisticRegression, RidgeClassifier\n",
    "from sklearn.preprocessing import OneHotEncoder, LabelEncoder\n",
    "from sklearn.ensemble import RandomForestClassifier, GradientBoostingClassifier\n",
    "from sklearn.svm import SVC\n",
    "from sklearn.metrics import f1_score, accuracy_score, roc_auc_score\n",
    "import warnings\n",
    "warnings.filterwarnings('ignore')"
   ]
  },
  {
   "cell_type": "markdown",
   "metadata": {
    "id": "HxBvlucKeMix"
   },
   "source": [
    "Выгрузка данных"
   ]
  },
  {
   "cell_type": "code",
   "execution_count": 3,
   "metadata": {
    "id": "IVKtFZ7uqyFS"
   },
   "outputs": [],
   "source": [
    "data = pd.read_csv('data/orange_small_churn_data.txt')\n",
    "label = pd.read_csv('data/orange_small_churn_labels.txt', header=None,names=['label'])"
   ]
  },
  {
   "cell_type": "markdown",
   "metadata": {
    "id": "bz8VMTTteYuX"
   },
   "source": [
    "Выделение вешественных и категориальных признаков"
   ]
  },
  {
   "cell_type": "code",
   "execution_count": 10,
   "metadata": {
    "id": "GX0SdqlivcQb"
   },
   "outputs": [],
   "source": [
    "numeric_label = data.columns[:190]\n",
    "categorical_label = data.columns[190:]"
   ]
  },
  {
   "cell_type": "code",
   "execution_count": 11,
   "metadata": {
    "colab": {
     "base_uri": "https://localhost:8080/"
    },
    "id": "NRLnkJ03ZDxC",
    "outputId": "1c5081ae-6cbb-4ecf-ed44-47b082e77c98"
   },
   "outputs": [
    {
     "name": "stdout",
     "output_type": "stream",
     "text": [
      "<class 'pandas.core.frame.DataFrame'>\n",
      "RangeIndex: 40000 entries, 0 to 39999\n",
      "Columns: 190 entries, Var1 to Var190\n",
      "dtypes: float64(189), int64(1)\n",
      "memory usage: 58.0 MB\n"
     ]
    }
   ],
   "source": [
    "data[numeric_label].info()"
   ]
  },
  {
   "cell_type": "code",
   "execution_count": 12,
   "metadata": {
    "id": "rzmSHQy6ZMbf"
   },
   "outputs": [],
   "source": [
    "numeric_data = data[numeric_label]\n",
    "cat_data = data[categorical_label]"
   ]
  },
  {
   "cell_type": "markdown",
   "metadata": {
    "id": "6GJr1-mafJwW"
   },
   "source": [
    "Отбор признаков у которых ненулевых значений больше половины "
   ]
  },
  {
   "cell_type": "code",
   "execution_count": 138,
   "metadata": {
    "colab": {
     "base_uri": "https://localhost:8080/"
    },
    "id": "xyPkUEYGwqx3",
    "outputId": "0cfccc67-8550-4dbd-9b7c-bb612847406c"
   },
   "outputs": [],
   "source": [
    "def without_null(data, n =25000):\n",
    "    correct_name = []\n",
    "    for name in data.columns:\n",
    "        if np.sum(~data[name].isnull()) >= n:\n",
    "            correct_name.append(name)\n",
    "    return correct_name"
   ]
  },
  {
   "cell_type": "code",
   "execution_count": 93,
   "metadata": {},
   "outputs": [
    {
     "data": {
      "text/plain": [
       "39"
      ]
     },
     "execution_count": 93,
     "metadata": {},
     "output_type": "execute_result"
    }
   ],
   "source": [
    "correct_name = without_null(numeric_data, n =25000)\n",
    "len(correct_name)"
   ]
  },
  {
   "cell_type": "code",
   "execution_count": 96,
   "metadata": {
    "colab": {
     "base_uri": "https://localhost:8080/"
    },
    "id": "-THdmnt7kL28",
    "outputId": "f6c7db84-4817-4b38-f55b-9a136dd4869d"
   },
   "outputs": [
    {
     "data": {
      "text/plain": [
       "28"
      ]
     },
     "execution_count": 96,
     "metadata": {},
     "output_type": "execute_result"
    }
   ],
   "source": [
    "cat_name = without_null(cat_data, n =25000)\n",
    "len(cat_name)"
   ]
  },
  {
   "cell_type": "markdown",
   "metadata": {
    "id": "alKxzqDPfZgg"
   },
   "source": [
    "Замена пропусков на среднее значенние у вещественных признаков "
   ]
  },
  {
   "cell_type": "code",
   "execution_count": 19,
   "metadata": {
    "id": "g2ujUMP3XcoA"
   },
   "outputs": [],
   "source": [
    "correct_data = data[correct_name]\n",
    "mean_data = correct_data.mean(axis='index')\n",
    "\n",
    "for i, name in enumerate(correct_name):\n",
    "    correct_data[name].fillna(mean_data[i], inplace=True)"
   ]
  },
  {
   "cell_type": "markdown",
   "metadata": {
    "id": "0XJny1tyfiO4"
   },
   "source": [
    "LabelEncoding для категориальных признаков\n",
    "\n"
   ]
  },
  {
   "cell_type": "code",
   "execution_count": 20,
   "metadata": {
    "id": "cGAQecGJahAV"
   },
   "outputs": [],
   "source": [
    "cat_data = data[cat_name]\n",
    "transform_cat_data = cat_data.copy()\n",
    "for name in cat_data.columns:\n",
    "    transform_cat_data[name] = LabelEncoder().fit_transform(cat_data[name])\n"
   ]
  },
  {
   "cell_type": "markdown",
   "metadata": {
    "id": "KKesa6M6fwGG"
   },
   "source": [
    "Балансиврока данных"
   ]
  },
  {
   "cell_type": "code",
   "execution_count": 21,
   "metadata": {
    "colab": {
     "base_uri": "https://localhost:8080/"
    },
    "id": "W7C0ns77fyQl",
    "outputId": "905b8a21-597a-4583-8554-059ca36f2977"
   },
   "outputs": [
    {
     "data": {
      "text/plain": [
       "label\n",
       "-1       37024\n",
       " 1        2976\n",
       "dtype: int64"
      ]
     },
     "execution_count": 21,
     "metadata": {},
     "output_type": "execute_result"
    }
   ],
   "source": [
    "label.value_counts()"
   ]
  },
  {
   "cell_type": "code",
   "execution_count": 22,
   "metadata": {
    "id": "d6iyC5XNIEXG"
   },
   "outputs": [],
   "source": [
    "index_b = label[label['label'] == 1].index"
   ]
  },
  {
   "cell_type": "code",
   "execution_count": 23,
   "metadata": {
    "colab": {
     "base_uri": "https://localhost:8080/"
    },
    "id": "pvIS9G90Ju4L",
    "outputId": "e0c6b4db-98d1-4f89-c128-2614d5ce49df"
   },
   "outputs": [
    {
     "data": {
      "text/plain": [
       "34048"
      ]
     },
     "execution_count": 23,
     "metadata": {},
     "output_type": "execute_result"
    }
   ],
   "source": [
    "k = len(label[label['label'] == -1]) - len(label[label['label'] == 1])\n",
    "k"
   ]
  },
  {
   "cell_type": "code",
   "execution_count": 24,
   "metadata": {
    "id": "7QUq8BcIIQnS"
   },
   "outputs": [],
   "source": [
    "np.random.seed(42)\n",
    "indices_to_add = np.random.choice(index_b, k)"
   ]
  },
  {
   "cell_type": "code",
   "execution_count": 25,
   "metadata": {
    "colab": {
     "base_uri": "https://localhost:8080/"
    },
    "id": "W1QHhA2xJf8r",
    "outputId": "9e16f1af-9560-4e89-d917-01941d0594ba"
   },
   "outputs": [
    {
     "data": {
      "text/plain": [
       "array([11241, 17017, 14879, ..., 37101, 20973, 25393], dtype=int64)"
      ]
     },
     "execution_count": 25,
     "metadata": {},
     "output_type": "execute_result"
    }
   ],
   "source": [
    "indices_to_add"
   ]
  },
  {
   "cell_type": "code",
   "execution_count": 26,
   "metadata": {
    "id": "vFo66ysb7KLV"
   },
   "outputs": [],
   "source": [
    "total_data = correct_data.merge(transform_cat_data, left_index=True, right_index=True)"
   ]
  },
  {
   "cell_type": "markdown",
   "metadata": {
    "id": "hWQAmX0RgCeY"
   },
   "source": [
    "Создание фрейма, который надо добавить по методике oversampling"
   ]
  },
  {
   "cell_type": "code",
   "execution_count": 27,
   "metadata": {
    "id": "exDEJSEfKdHa"
   },
   "outputs": [],
   "source": [
    "data_add = total_data.iloc[indices_to_add, :]\n",
    "label_add = label.iloc[indices_to_add, :]"
   ]
  },
  {
   "cell_type": "code",
   "execution_count": 28,
   "metadata": {
    "id": "GUCiy9T586FW"
   },
   "outputs": [],
   "source": [
    "total_data = pd.concat([total_data, data_add])\n",
    "total_label = pd.concat([label, label_add])"
   ]
  },
  {
   "cell_type": "code",
   "execution_count": 29,
   "metadata": {
    "colab": {
     "base_uri": "https://localhost:8080/"
    },
    "id": "buV7lK1_L3J4",
    "outputId": "3389aee0-57d9-41b2-8bc4-565e80fa7b0f"
   },
   "outputs": [
    {
     "data": {
      "text/plain": [
       "(74048, 67)"
      ]
     },
     "execution_count": 29,
     "metadata": {},
     "output_type": "execute_result"
    }
   ],
   "source": [
    "total_data.shape"
   ]
  },
  {
   "cell_type": "markdown",
   "metadata": {
    "id": "ixaIKX2qgMfG"
   },
   "source": [
    "Разделение на обучение и тест"
   ]
  },
  {
   "cell_type": "code",
   "execution_count": 30,
   "metadata": {
    "id": "gcghut0PYFoW"
   },
   "outputs": [],
   "source": [
    "train_data, test_data, train_target, test_target = train_test_split(total_data, total_label, random_state=42, test_size=0.3) "
   ]
  },
  {
   "cell_type": "code",
   "execution_count": 31,
   "metadata": {
    "id": "coyWOKGrakbp"
   },
   "outputs": [],
   "source": [
    "cv_spliter = ShuffleSplit(n_splits=5, test_size=0.3)"
   ]
  },
  {
   "cell_type": "code",
   "execution_count": 32,
   "metadata": {
    "id": "obl-sz9Za3R9"
   },
   "outputs": [],
   "source": [
    "cv_res = cross_val_score(LogisticRegression(), train_data, train_target, cv=cv_spliter, scoring='f1')"
   ]
  },
  {
   "cell_type": "code",
   "execution_count": 33,
   "metadata": {
    "colab": {
     "base_uri": "https://localhost:8080/"
    },
    "id": "7A7UOFS-bovQ",
    "outputId": "dc703359-b17b-4b64-a6a6-318e7a7c5d47"
   },
   "outputs": [
    {
     "data": {
      "text/plain": [
       "array([0.5334575 , 0.60050598, 0.57474601, 0.56309078, 0.56746182])"
      ]
     },
     "execution_count": 33,
     "metadata": {},
     "output_type": "execute_result"
    }
   ],
   "source": [
    "cv_res"
   ]
  },
  {
   "cell_type": "markdown",
   "metadata": {
    "id": "c0B8b3sWgf6k"
   },
   "source": [
    "Обучение на всех данных и проверка на отложенной выборке"
   ]
  },
  {
   "cell_type": "code",
   "execution_count": 34,
   "metadata": {
    "id": "ify4PJHGbucU"
   },
   "outputs": [],
   "source": [
    "model = LogisticRegression().fit(train_data, train_target)"
   ]
  },
  {
   "cell_type": "markdown",
   "metadata": {
    "id": "WXyHPzF6g-6F"
   },
   "source": [
    "Оценка качества"
   ]
  },
  {
   "cell_type": "code",
   "execution_count": 35,
   "metadata": {
    "id": "2HS1BYHmg9EE"
   },
   "outputs": [],
   "source": [
    "predict_train = model.predict(train_data)\n",
    "predict_test = model.predict(test_data)"
   ]
  },
  {
   "cell_type": "code",
   "execution_count": 36,
   "metadata": {
    "colab": {
     "base_uri": "https://localhost:8080/"
    },
    "id": "1KvLVjvAhUek",
    "outputId": "9be0c963-ce96-4bf1-9075-cc6d1b80b751"
   },
   "outputs": [
    {
     "name": "stdout",
     "output_type": "stream",
     "text": [
      "f1_score by train data: 0.5637819290888296\n",
      "f1_score by test data: 0.562474889513861\n",
      "\n",
      "accuracy_score by train data: 0.5585051993903498\n",
      "accuracy_score by test data: 0.5588116137744767\n",
      "\n",
      "roc_score by train data: 0.5585290849160585\n",
      "roc_score by test data: 0.5588468928980397\n",
      "\n"
     ]
    }
   ],
   "source": [
    "print(f\"f1_score by train data: {f1_score(predict_train, train_target)}\")\n",
    "print(f\"f1_score by test data: {f1_score(predict_test, test_target)}\")\n",
    "print()\n",
    "\n",
    "print(f\"accuracy_score by train data: {accuracy_score(predict_train, train_target)}\")\n",
    "print(f\"accuracy_score by test data: {accuracy_score(predict_test, test_target)}\")\n",
    "print()\n",
    "\n",
    "print(f\"roc_score by train data: {roc_auc_score(predict_train, train_target)}\")\n",
    "print(f\"roc_score by test data: {roc_auc_score(predict_test, test_target)}\")\n",
    "print()"
   ]
  },
  {
   "cell_type": "markdown",
   "metadata": {
    "id": "-pv1Q85LhwZ3"
   },
   "source": [
    "Base line  получен качество составило примерно 0.55\n",
    "\n",
    "Baseline:\n",
    "\n",
    "1.Отбор признаков по пропускам\n",
    "\n",
    "2.преобразование кат признаков labelencoder\n",
    "\n",
    "3.балансировка по oversampling\n",
    "\n",
    "4.logostocregression "
   ]
  },
  {
   "cell_type": "markdown",
   "metadata": {
    "id": "EyC62Zkihsc4"
   },
   "source": [
    "Upgrade model\n",
    "\n",
    "Преобразуем данные вещественные оставим также, а категориальные изменим.\n",
    "\n",
    "Выведим статистику по кол уникальных значений кат признаков"
   ]
  },
  {
   "cell_type": "code",
   "execution_count": 37,
   "metadata": {
    "colab": {
     "base_uri": "https://localhost:8080/"
    },
    "id": "mPPm3sypHDvh",
    "outputId": "12ffbc4f-7fe5-4161-8ceb-194f151ace59"
   },
   "outputs": [
    {
     "name": "stdout",
     "output_type": "stream",
     "text": [
      "Var192 355\n",
      "Var193 50\n",
      "Var195 23\n",
      "Var196 4\n",
      "Var197 221\n",
      "Var198 3891\n",
      "Var199 4401\n",
      "Var202 5543\n",
      "Var203 6\n",
      "Var204 100\n",
      "Var205 4\n",
      "Var206 22\n",
      "Var207 14\n",
      "Var208 3\n",
      "Var210 6\n",
      "Var211 2\n",
      "Var212 78\n",
      "Var216 1819\n",
      "Var217 12471\n",
      "Var218 3\n",
      "Var219 23\n",
      "Var220 3891\n",
      "Var221 7\n",
      "Var222 3891\n",
      "Var223 5\n",
      "Var226 23\n",
      "Var227 7\n",
      "Var228 30\n"
     ]
    }
   ],
   "source": [
    "cat_data = data[cat_name]\n",
    "for name in cat_data.columns:\n",
    "    print(name, len(cat_data[name].unique()))\n",
    "     "
   ]
  },
  {
   "cell_type": "markdown",
   "metadata": {
    "id": "qZL1taetHDvi"
   },
   "source": [
    "ПРизнаки с 2 значаниями закодируем как бинарные\n",
    "\n",
    "Признаки со значениями меньше 5 закодируем one_hot\n",
    "\n",
    "Признаки со значениями больше 5 закодируем hash-trick векторами размера 5"
   ]
  },
  {
   "cell_type": "code",
   "execution_count": 38,
   "metadata": {
    "colab": {
     "base_uri": "https://localhost:8080/"
    },
    "id": "4GdIdhgUPhQd",
    "outputId": "b4d0aee0-48eb-4309-e781-c9784ee9f129"
   },
   "outputs": [
    {
     "data": {
      "text/plain": [
       "array([  355,    50,    23,     4,   221,  3891,  4401,  5543,     6,\n",
       "         100,     4,    22,    14,     3,     6,     2,    78,  1819,\n",
       "       12471,     3,    23,  3891,     7,  3891,     5,    23,     7,\n",
       "          30])"
      ]
     },
     "execution_count": 38,
     "metadata": {},
     "output_type": "execute_result"
    }
   ],
   "source": [
    "counts_unique_value = np.array([len(cat_data[name].unique()) for name in cat_data.columns])\n",
    "counts_unique_value"
   ]
  },
  {
   "cell_type": "code",
   "execution_count": 39,
   "metadata": {
    "id": "oLdKxEiSPzFV"
   },
   "outputs": [],
   "source": [
    "binar_column = cat_data.columns[counts_unique_value <=2]\n",
    "ohe_column = cat_data.columns[(counts_unique_value > 2)&(counts_unique_value <= 5)]\n",
    "hash_column = cat_data.columns[counts_unique_value > 5]"
   ]
  },
  {
   "cell_type": "markdown",
   "metadata": {
    "id": "4qOFTZlz0E4w"
   },
   "source": [
    "Бинарные данные"
   ]
  },
  {
   "cell_type": "code",
   "execution_count": 40,
   "metadata": {
    "id": "AeyYdD52P7cy"
   },
   "outputs": [],
   "source": [
    "binar_data = cat_data[binar_column]\n",
    "\n",
    "for name in binar_data.columns:\n",
    "  binar_data[name] = LabelEncoder().fit_transform(binar_data[name])"
   ]
  },
  {
   "cell_type": "code",
   "execution_count": 41,
   "metadata": {
    "colab": {
     "base_uri": "https://localhost:8080/",
     "height": 391
    },
    "id": "BFq-yFybSFIw",
    "outputId": "052dbf19-70c6-454d-946d-111cea86d2bf"
   },
   "outputs": [
    {
     "data": {
      "text/html": [
       "<div>\n",
       "<style scoped>\n",
       "    .dataframe tbody tr th:only-of-type {\n",
       "        vertical-align: middle;\n",
       "    }\n",
       "\n",
       "    .dataframe tbody tr th {\n",
       "        vertical-align: top;\n",
       "    }\n",
       "\n",
       "    .dataframe thead th {\n",
       "        text-align: right;\n",
       "    }\n",
       "</style>\n",
       "<table border=\"1\" class=\"dataframe\">\n",
       "  <thead>\n",
       "    <tr style=\"text-align: right;\">\n",
       "      <th></th>\n",
       "      <th>Var211</th>\n",
       "    </tr>\n",
       "  </thead>\n",
       "  <tbody>\n",
       "    <tr>\n",
       "      <th>0</th>\n",
       "      <td>0</td>\n",
       "    </tr>\n",
       "    <tr>\n",
       "      <th>1</th>\n",
       "      <td>0</td>\n",
       "    </tr>\n",
       "    <tr>\n",
       "      <th>2</th>\n",
       "      <td>0</td>\n",
       "    </tr>\n",
       "    <tr>\n",
       "      <th>3</th>\n",
       "      <td>0</td>\n",
       "    </tr>\n",
       "    <tr>\n",
       "      <th>4</th>\n",
       "      <td>0</td>\n",
       "    </tr>\n",
       "    <tr>\n",
       "      <th>...</th>\n",
       "      <td>...</td>\n",
       "    </tr>\n",
       "    <tr>\n",
       "      <th>39995</th>\n",
       "      <td>0</td>\n",
       "    </tr>\n",
       "    <tr>\n",
       "      <th>39996</th>\n",
       "      <td>0</td>\n",
       "    </tr>\n",
       "    <tr>\n",
       "      <th>39997</th>\n",
       "      <td>0</td>\n",
       "    </tr>\n",
       "    <tr>\n",
       "      <th>39998</th>\n",
       "      <td>0</td>\n",
       "    </tr>\n",
       "    <tr>\n",
       "      <th>39999</th>\n",
       "      <td>1</td>\n",
       "    </tr>\n",
       "  </tbody>\n",
       "</table>\n",
       "<p>40000 rows × 1 columns</p>\n",
       "</div>"
      ],
      "text/plain": [
       "       Var211\n",
       "0           0\n",
       "1           0\n",
       "2           0\n",
       "3           0\n",
       "4           0\n",
       "...       ...\n",
       "39995       0\n",
       "39996       0\n",
       "39997       0\n",
       "39998       0\n",
       "39999       1\n",
       "\n",
       "[40000 rows x 1 columns]"
      ]
     },
     "execution_count": 41,
     "metadata": {},
     "output_type": "execute_result"
    }
   ],
   "source": [
    "binar_data"
   ]
  },
  {
   "cell_type": "markdown",
   "metadata": {
    "id": "S_syP_uf0Ikt"
   },
   "source": [
    "Горячее кодирование"
   ]
  },
  {
   "cell_type": "code",
   "execution_count": 42,
   "metadata": {
    "id": "_eZWShKbWB8t"
   },
   "outputs": [],
   "source": [
    "ohe_data = OneHotEncoder(sparse=False).fit_transform(cat_data[ohe_column])"
   ]
  },
  {
   "cell_type": "code",
   "execution_count": 43,
   "metadata": {
    "colab": {
     "base_uri": "https://localhost:8080/"
    },
    "id": "efwyNxGEW1sw",
    "outputId": "9e1ee586-9ab4-4cb4-8e92-63189010ac89"
   },
   "outputs": [
    {
     "data": {
      "text/plain": [
       "array([[1., 0., 0., ..., 0., 0., 0.],\n",
       "       [1., 0., 0., ..., 0., 0., 0.],\n",
       "       [1., 0., 0., ..., 0., 0., 0.],\n",
       "       ...,\n",
       "       [1., 0., 0., ..., 0., 0., 0.],\n",
       "       [1., 0., 0., ..., 0., 0., 0.],\n",
       "       [1., 0., 0., ..., 0., 0., 0.]])"
      ]
     },
     "execution_count": 43,
     "metadata": {},
     "output_type": "execute_result"
    }
   ],
   "source": [
    "ohe_data"
   ]
  },
  {
   "cell_type": "markdown",
   "metadata": {
    "id": "hMi8cfcL0MDS"
   },
   "source": [
    "Hash trick"
   ]
  },
  {
   "cell_type": "code",
   "execution_count": 44,
   "metadata": {
    "id": "ai_qL-n3XFT7"
   },
   "outputs": [],
   "source": [
    "hashes = np.array([hash(value) % 5 for value in cat_data[hash_column[0]].unique()])"
   ]
  },
  {
   "cell_type": "code",
   "execution_count": 45,
   "metadata": {
    "colab": {
     "base_uri": "https://localhost:8080/"
    },
    "id": "sNPcCXnzo1Fv",
    "outputId": "727e6be4-740a-48e1-e1b5-15f0598adc6d"
   },
   "outputs": [
    {
     "data": {
      "text/plain": [
       "array([4, 4, 3, 2, 1, 3, 0, 0, 0, 3, 2, 4, 0, 3, 2, 4, 2, 3, 2, 0, 2, 3,\n",
       "       4, 3, 1, 1, 2, 4, 4, 2, 1, 3, 0, 1, 2, 1, 0, 4, 0, 3, 2, 1, 3, 0,\n",
       "       3, 0, 0, 2, 1, 1, 4, 0, 3, 2, 2, 0, 3, 4, 2, 2, 2, 2, 1, 0, 4, 2,\n",
       "       0, 4, 0, 3, 2, 2, 3, 3, 1, 4, 2, 3, 3, 3, 2, 0, 1, 0, 1, 1, 0, 3,\n",
       "       4, 4, 2, 4, 1, 2, 4, 0, 3, 1, 3, 1, 0, 2, 3, 2, 1, 4, 2, 1, 3, 0,\n",
       "       1, 0, 4, 4, 3, 0, 0, 2, 2, 4, 1, 2, 4, 0, 4, 2, 1, 0, 3, 3, 3, 1,\n",
       "       0, 0, 4, 0, 1, 3, 3, 3, 0, 4, 2, 2, 4, 1, 1, 0, 0, 3, 3, 1, 3, 4,\n",
       "       3, 4, 4, 2, 3, 3, 0, 0, 0, 0, 3, 4, 4, 2, 3, 2, 0, 3, 0, 4, 0, 2,\n",
       "       3, 3, 0, 2, 4, 1, 0, 3, 1, 1, 2, 0, 1, 1, 0, 1, 3, 0, 4, 0, 3, 0,\n",
       "       3, 0, 0, 2, 2, 2, 1, 0, 0, 2, 3, 3, 2, 3, 0, 1, 4, 2, 2, 1, 1, 0,\n",
       "       3, 2, 4, 0, 1, 4, 0, 0, 4, 2, 0, 0, 2, 0, 1, 4, 2, 3, 4, 2, 1, 2,\n",
       "       0, 4, 3, 1, 4, 4, 2, 3, 2, 0, 2, 3, 4, 4, 0, 0, 0, 0, 0, 1, 4, 1,\n",
       "       1, 4, 3, 2, 4, 4, 4, 3, 0, 4, 2, 1, 1, 3, 3, 0, 4, 1, 2, 3, 3, 2,\n",
       "       4, 1, 2, 4, 4, 2, 4, 2, 2, 4, 0, 3, 1, 4, 2, 1, 4, 0, 2, 1, 2, 0,\n",
       "       3, 2, 4, 3, 1, 4, 1, 3, 3, 1, 1, 1, 1, 2, 2, 2, 2, 2, 3, 3, 4, 0,\n",
       "       0, 0, 0, 4, 0, 2, 2, 0, 3, 3, 0, 1, 2, 2, 4, 3, 2, 4, 2, 4, 1, 3,\n",
       "       0, 4, 0])"
      ]
     },
     "execution_count": 45,
     "metadata": {},
     "output_type": "execute_result"
    }
   ],
   "source": [
    "hashes"
   ]
  },
  {
   "cell_type": "code",
   "execution_count": 46,
   "metadata": {
    "id": "Cqc_xF9Cp18r"
   },
   "outputs": [],
   "source": [
    "def vector_hash(data, n_vector, name):\n",
    "  data_hash = []\n",
    "  for value in data:\n",
    "    vector = [0] * n_vector\n",
    "    change_value = name + value if type(value) != float else name\n",
    "    value_hash = hash(change_value) % n_vector\n",
    "    vector[value_hash] = 1\n",
    "    data_hash.append(vector)\n",
    "  return np.array(data_hash)"
   ]
  },
  {
   "cell_type": "code",
   "execution_count": 47,
   "metadata": {
    "colab": {
     "base_uri": "https://localhost:8080/"
    },
    "id": "qtHl6IYvvbzC",
    "outputId": "291e1b66-9830-4c21-b3cc-d22f5972f12a"
   },
   "outputs": [
    {
     "data": {
      "text/plain": [
       "array([[0, 0, 0, 0, 1],\n",
       "       [0, 0, 0, 0, 1],\n",
       "       [0, 0, 0, 0, 1],\n",
       "       ...,\n",
       "       [0, 0, 1, 0, 0],\n",
       "       [0, 0, 0, 0, 1],\n",
       "       [0, 0, 0, 1, 0]])"
      ]
     },
     "execution_count": 47,
     "metadata": {},
     "output_type": "execute_result"
    }
   ],
   "source": [
    "test = vector_hash(cat_data[hash_column[0]], 5, hash_column[0])\n",
    "test"
   ]
  },
  {
   "cell_type": "code",
   "execution_count": 48,
   "metadata": {
    "id": "ngOWi7jzsd_N"
   },
   "outputs": [],
   "source": [
    "hash_data = []\n",
    "for name in hash_column:\n",
    "  vector_feat = vector_hash(cat_data[name], 5, name)\n",
    "  hash_data.append(vector_feat)\n",
    "hash_data = np.hstack(hash_data)"
   ]
  },
  {
   "cell_type": "code",
   "execution_count": 49,
   "metadata": {
    "colab": {
     "base_uri": "https://localhost:8080/"
    },
    "id": "Y17oMb-YqiKN",
    "outputId": "13b4c9a9-92b1-467b-e2f8-5b3b2f782932"
   },
   "outputs": [
    {
     "data": {
      "text/plain": [
       "(40000, 110)"
      ]
     },
     "execution_count": 49,
     "metadata": {},
     "output_type": "execute_result"
    }
   ],
   "source": [
    "hash_data.shape"
   ]
  },
  {
   "cell_type": "markdown",
   "metadata": {
    "id": "1N4cAwB20QIv"
   },
   "source": [
    "Объеденение  ктаегориальных признаков"
   ]
  },
  {
   "cell_type": "code",
   "execution_count": 50,
   "metadata": {
    "id": "hSNzPsltzHRU"
   },
   "outputs": [],
   "source": [
    "cat_data_up = np.hstack((binar_data, ohe_data, hash_data))\n",
    "cat_data_up = pd.DataFrame(cat_data_up)\n"
   ]
  },
  {
   "cell_type": "markdown",
   "metadata": {
    "id": "1swiu1E_1KGm"
   },
   "source": [
    "Объеденение с вещественными признаками"
   ]
  },
  {
   "cell_type": "code",
   "execution_count": 51,
   "metadata": {
    "id": "1LWo81Ov0q3k"
   },
   "outputs": [],
   "source": [
    "total_data_up = correct_data.merge(cat_data_up, left_index=True, right_index=True)"
   ]
  },
  {
   "cell_type": "markdown",
   "metadata": {
    "id": "-9uD6rM-1rNs"
   },
   "source": [
    "Балансировка"
   ]
  },
  {
   "cell_type": "code",
   "execution_count": 52,
   "metadata": {
    "id": "EWNx92nW1p-y"
   },
   "outputs": [],
   "source": [
    "data_add_up = total_data_up.iloc[indices_to_add, :]\n",
    "label_add_up = label.iloc[indices_to_add, :]"
   ]
  },
  {
   "cell_type": "code",
   "execution_count": 53,
   "metadata": {
    "id": "E6NuLoH_12lx"
   },
   "outputs": [],
   "source": [
    "total_data_up = pd.concat([total_data_up, data_add_up])\n",
    "total_label_up = pd.concat([label, label_add_up])"
   ]
  },
  {
   "cell_type": "code",
   "execution_count": 54,
   "metadata": {
    "colab": {
     "base_uri": "https://localhost:8080/"
    },
    "id": "ayvZoxJB2Dd0",
    "outputId": "9b55a37c-0a13-4a20-a3f0-df6da8c145cf"
   },
   "outputs": [
    {
     "data": {
      "text/plain": [
       "(74048, 169)"
      ]
     },
     "execution_count": 54,
     "metadata": {},
     "output_type": "execute_result"
    }
   ],
   "source": [
    "total_data_up.shape"
   ]
  },
  {
   "cell_type": "markdown",
   "metadata": {
    "id": "eFD2oGZt2YLX"
   },
   "source": [
    "Обучение модели"
   ]
  },
  {
   "cell_type": "code",
   "execution_count": 55,
   "metadata": {
    "id": "oVt6bqiX2GIB"
   },
   "outputs": [],
   "source": [
    "train_data_up, test_data_up, train_target_up, test_target_up = train_test_split(total_data_up, total_label_up, random_state=42, test_size=0.3) "
   ]
  },
  {
   "cell_type": "code",
   "execution_count": 56,
   "metadata": {
    "id": "sK4P47R92Tlw"
   },
   "outputs": [],
   "source": [
    "cv_spliter = ShuffleSplit(n_splits=5, test_size=0.3)"
   ]
  },
  {
   "cell_type": "code",
   "execution_count": 57,
   "metadata": {
    "id": "VnHHhqrW2XsR"
   },
   "outputs": [],
   "source": [
    "cv_res = cross_val_score(LogisticRegression(), train_data_up, train_target_up, cv=cv_spliter, scoring='f1')"
   ]
  },
  {
   "cell_type": "code",
   "execution_count": 58,
   "metadata": {
    "colab": {
     "base_uri": "https://localhost:8080/"
    },
    "id": "C1srkePE2f5R",
    "outputId": "97df0f7c-f294-4e5d-c238-c6fec46128c2"
   },
   "outputs": [
    {
     "data": {
      "text/plain": [
       "array([0.56184942, 0.54716733, 0.52826551, 0.55334037, 0.55381441])"
      ]
     },
     "execution_count": 58,
     "metadata": {},
     "output_type": "execute_result"
    }
   ],
   "source": [
    "cv_res"
   ]
  },
  {
   "cell_type": "markdown",
   "metadata": {
    "id": "INL4VxgM4W_u"
   },
   "source": [
    "Логистическая регрессия отработала не лучше на новых признаках, попробуем xgboost c новыми признаками"
   ]
  },
  {
   "cell_type": "code",
   "execution_count": 59,
   "metadata": {
    "id": "iFdF5uKp2lqC"
   },
   "outputs": [],
   "source": [
    "import xgboost as xgb"
   ]
  },
  {
   "cell_type": "code",
   "execution_count": 60,
   "metadata": {
    "id": "yL73MqRm3bK1"
   },
   "outputs": [
    {
     "name": "stdout",
     "output_type": "stream",
     "text": [
      "[15:24:20] WARNING: ..\\src\\learner.cc:1115: Starting in XGBoost 1.3.0, the default evaluation metric used with the objective 'binary:logistic' was changed from 'error' to 'logloss'. Explicitly set eval_metric if you'd like to restore the old behavior.\n",
      "[15:24:26] WARNING: ..\\src\\learner.cc:1115: Starting in XGBoost 1.3.0, the default evaluation metric used with the objective 'binary:logistic' was changed from 'error' to 'logloss'. Explicitly set eval_metric if you'd like to restore the old behavior.\n",
      "[15:24:32] WARNING: ..\\src\\learner.cc:1115: Starting in XGBoost 1.3.0, the default evaluation metric used with the objective 'binary:logistic' was changed from 'error' to 'logloss'. Explicitly set eval_metric if you'd like to restore the old behavior.\n",
      "[15:24:38] WARNING: ..\\src\\learner.cc:1115: Starting in XGBoost 1.3.0, the default evaluation metric used with the objective 'binary:logistic' was changed from 'error' to 'logloss'. Explicitly set eval_metric if you'd like to restore the old behavior.\n",
      "[15:24:44] WARNING: ..\\src\\learner.cc:1115: Starting in XGBoost 1.3.0, the default evaluation metric used with the objective 'binary:logistic' was changed from 'error' to 'logloss'. Explicitly set eval_metric if you'd like to restore the old behavior.\n"
     ]
    }
   ],
   "source": [
    "cv_res = cross_val_score(xgb.XGBClassifier(n_estimators=100, max_depth=5), train_data_up, train_target_up, cv=cv_spliter, scoring='f1')"
   ]
  },
  {
   "cell_type": "code",
   "execution_count": 61,
   "metadata": {
    "colab": {
     "base_uri": "https://localhost:8080/"
    },
    "id": "0I8xMo1B3zzC",
    "outputId": "cb42f83a-c8d8-488b-edab-6f28744163b4"
   },
   "outputs": [
    {
     "name": "stdout",
     "output_type": "stream",
     "text": [
      "[0.8570554  0.86100457 0.85853778 0.85729954 0.85315883]\n",
      "0.8574112220001586\n"
     ]
    }
   ],
   "source": [
    "print(cv_res)\n",
    "print(cv_res.mean())"
   ]
  },
  {
   "cell_type": "markdown",
   "metadata": {},
   "source": [
    "Обучение на всех данных и предсказание на тесте"
   ]
  },
  {
   "cell_type": "code",
   "execution_count": 62,
   "metadata": {},
   "outputs": [
    {
     "name": "stdout",
     "output_type": "stream",
     "text": [
      "[15:24:49] WARNING: ..\\src\\learner.cc:1115: Starting in XGBoost 1.3.0, the default evaluation metric used with the objective 'binary:logistic' was changed from 'error' to 'logloss'. Explicitly set eval_metric if you'd like to restore the old behavior.\n"
     ]
    }
   ],
   "source": [
    "model_up = xgb.XGBClassifier(n_estimators=100, max_depth=5).fit(train_data_up, train_target_up)"
   ]
  },
  {
   "cell_type": "code",
   "execution_count": 63,
   "metadata": {},
   "outputs": [],
   "source": [
    "predict_train_up = model_up.predict(train_data_up)\n",
    "predict_test_up = model_up.predict(test_data_up)"
   ]
  },
  {
   "cell_type": "code",
   "execution_count": 64,
   "metadata": {},
   "outputs": [
    {
     "name": "stdout",
     "output_type": "stream",
     "text": [
      "f1_score by train data: 0.8936004596252571\n",
      "f1_score by test data: 0.8643565631843358\n",
      "\n",
      "accuracy_score by train data: 0.8892404452761754\n",
      "accuracy_score by test data: 0.8577987846049966\n",
      "\n",
      "roc_score by train data: 0.8917973941657298\n",
      "roc_score by test data: 0.8613766849725412\n",
      "\n"
     ]
    }
   ],
   "source": [
    "print(f\"f1_score by train data: {f1_score(predict_train_up, train_target_up)}\")\n",
    "print(f\"f1_score by test data: {f1_score(predict_test_up, test_target_up)}\")\n",
    "print()\n",
    "\n",
    "print(f\"accuracy_score by train data: {accuracy_score(predict_train_up, train_target_up)}\")\n",
    "print(f\"accuracy_score by test data: {accuracy_score(predict_test_up, test_target_up)}\")\n",
    "print()\n",
    "\n",
    "print(f\"roc_score by train data: {roc_auc_score(predict_train_up, train_target_up)}\")\n",
    "print(f\"roc_score by test data: {roc_auc_score(predict_test_up, test_target_up)}\")\n",
    "print()"
   ]
  },
  {
   "cell_type": "markdown",
   "metadata": {
    "id": "MxACN7nM4mdE"
   },
   "source": [
    "Попробуем xgboost на простом преобразование категориальных данных"
   ]
  },
  {
   "cell_type": "code",
   "execution_count": 65,
   "metadata": {
    "id": "tJL1Isla32BQ"
   },
   "outputs": [
    {
     "name": "stdout",
     "output_type": "stream",
     "text": [
      "[15:24:58] WARNING: ..\\src\\learner.cc:1115: Starting in XGBoost 1.3.0, the default evaluation metric used with the objective 'binary:logistic' was changed from 'error' to 'logloss'. Explicitly set eval_metric if you'd like to restore the old behavior.\n",
      "[15:25:03] WARNING: ..\\src\\learner.cc:1115: Starting in XGBoost 1.3.0, the default evaluation metric used with the objective 'binary:logistic' was changed from 'error' to 'logloss'. Explicitly set eval_metric if you'd like to restore the old behavior.\n",
      "[15:25:10] WARNING: ..\\src\\learner.cc:1115: Starting in XGBoost 1.3.0, the default evaluation metric used with the objective 'binary:logistic' was changed from 'error' to 'logloss'. Explicitly set eval_metric if you'd like to restore the old behavior.\n",
      "[15:25:14] WARNING: ..\\src\\learner.cc:1115: Starting in XGBoost 1.3.0, the default evaluation metric used with the objective 'binary:logistic' was changed from 'error' to 'logloss'. Explicitly set eval_metric if you'd like to restore the old behavior.\n",
      "[15:25:18] WARNING: ..\\src\\learner.cc:1115: Starting in XGBoost 1.3.0, the default evaluation metric used with the objective 'binary:logistic' was changed from 'error' to 'logloss'. Explicitly set eval_metric if you'd like to restore the old behavior.\n"
     ]
    }
   ],
   "source": [
    "cv_res_old = cross_val_score(xgb.XGBClassifier(n_estimators=100, max_depth=5), train_data, train_target, cv=cv_spliter, \n",
    "                             scoring='f1')"
   ]
  },
  {
   "cell_type": "code",
   "execution_count": 66,
   "metadata": {},
   "outputs": [
    {
     "name": "stdout",
     "output_type": "stream",
     "text": [
      "[0.86453577 0.87171033 0.8691623  0.86764082 0.86576279]\n",
      "0.8677624006747061\n"
     ]
    }
   ],
   "source": [
    "print(cv_res_old)\n",
    "print(cv_res_old.mean())"
   ]
  },
  {
   "cell_type": "markdown",
   "metadata": {},
   "source": [
    "Использование более сложной обработки категориальных признаков не дает дополнительного прироста качества, оставим простой labelencoding"
   ]
  },
  {
   "cell_type": "code",
   "execution_count": 67,
   "metadata": {},
   "outputs": [
    {
     "name": "stdout",
     "output_type": "stream",
     "text": [
      "[15:25:23] WARNING: ..\\src\\learner.cc:1115: Starting in XGBoost 1.3.0, the default evaluation metric used with the objective 'binary:logistic' was changed from 'error' to 'logloss'. Explicitly set eval_metric if you'd like to restore the old behavior.\n"
     ]
    }
   ],
   "source": [
    "model_old_up =  xgb.XGBClassifier(n_estimators=100, max_depth=5).fit(train_data, train_target)"
   ]
  },
  {
   "cell_type": "code",
   "execution_count": 68,
   "metadata": {},
   "outputs": [],
   "source": [
    "predict_train = model_old_up.predict(train_data)\n",
    "predict_test = model_old_up.predict(test_data)"
   ]
  },
  {
   "cell_type": "code",
   "execution_count": 69,
   "metadata": {},
   "outputs": [
    {
     "name": "stdout",
     "output_type": "stream",
     "text": [
      "f1_score by train data: 0.8958642158316039\n",
      "f1_score by test data: 0.8696697728346288\n",
      "\n",
      "accuracy_score by train data: 0.8915748654332182\n",
      "accuracy_score by test data: 0.8633805986945757\n",
      "\n",
      "roc_score by train data: 0.8941746079875249\n",
      "roc_score by test data: 0.8669997600242892\n",
      "\n"
     ]
    }
   ],
   "source": [
    "print(f\"f1_score by train data: {f1_score(predict_train, train_target)}\")\n",
    "print(f\"f1_score by test data: {f1_score(predict_test, test_target)}\")\n",
    "print()\n",
    "\n",
    "print(f\"accuracy_score by train data: {accuracy_score(predict_train, train_target)}\")\n",
    "print(f\"accuracy_score by test data: {accuracy_score(predict_test, test_target)}\")\n",
    "print()\n",
    "\n",
    "print(f\"roc_score by train data: {roc_auc_score(predict_train, train_target)}\")\n",
    "print(f\"roc_score by test data: {roc_auc_score(predict_test, test_target)}\")\n",
    "print()"
   ]
  },
  {
   "cell_type": "markdown",
   "metadata": {},
   "source": [
    "Прогноз вероятности"
   ]
  },
  {
   "cell_type": "code",
   "execution_count": 70,
   "metadata": {},
   "outputs": [
    {
     "data": {
      "text/plain": [
       "array([[0.66767305, 0.33232695],\n",
       "       [0.28389835, 0.71610165],\n",
       "       [0.8012305 , 0.19876952],\n",
       "       ...,\n",
       "       [0.14735246, 0.85264754],\n",
       "       [0.9307357 , 0.06926431],\n",
       "       [0.9680642 , 0.03193581]], dtype=float32)"
      ]
     },
     "execution_count": 70,
     "metadata": {},
     "output_type": "execute_result"
    }
   ],
   "source": [
    "predict_train_proba = model_old_up.predict_proba(train_data)\n",
    "predict_test_proba = model_old_up.predict_proba(test_data)\n",
    "predict_train_proba # 2 столбец"
   ]
  },
  {
   "cell_type": "markdown",
   "metadata": {},
   "source": [
    "Обучение и прогноз на даных из соревнования"
   ]
  },
  {
   "cell_type": "markdown",
   "metadata": {},
   "source": [
    "Выгрузка данных соревнований"
   ]
  },
  {
   "cell_type": "code",
   "execution_count": 156,
   "metadata": {},
   "outputs": [],
   "source": [
    "train_data = pd.read_csv('data/orange_small_churn_train_data.csv')\n",
    "test_data = pd.read_csv('data/orange_small_churn_test_data.csv')"
   ]
  },
  {
   "cell_type": "code",
   "execution_count": 157,
   "metadata": {},
   "outputs": [],
   "source": [
    "train_data.drop(labels='ID', inplace=True, axis='columns')\n",
    "train_data.dropna(subset=['labels'], inplace=True)"
   ]
  },
  {
   "cell_type": "code",
   "execution_count": 158,
   "metadata": {},
   "outputs": [],
   "source": [
    "train_labels = train_data['labels']\n",
    "train_data = train_data.iloc[:,:-1]"
   ]
  },
  {
   "cell_type": "code",
   "execution_count": 159,
   "metadata": {},
   "outputs": [],
   "source": [
    "numeric_label = train_data.columns[:190]\n",
    "categorical_label = train_data.columns[190:]"
   ]
  },
  {
   "cell_type": "code",
   "execution_count": 160,
   "metadata": {},
   "outputs": [],
   "source": [
    "numeric_data = train_data[numeric_label]\n",
    "cat_data = train_data[categorical_label]"
   ]
  },
  {
   "cell_type": "markdown",
   "metadata": {},
   "source": [
    "Отбор не нулевых признаков"
   ]
  },
  {
   "cell_type": "code",
   "execution_count": 161,
   "metadata": {},
   "outputs": [
    {
     "data": {
      "text/plain": [
       "38"
      ]
     },
     "execution_count": 161,
     "metadata": {},
     "output_type": "execute_result"
    }
   ],
   "source": [
    "correct_name_num = without_null(numeric_data, n=15000)\n",
    "len(correct_name_num)"
   ]
  },
  {
   "cell_type": "code",
   "execution_count": 162,
   "metadata": {},
   "outputs": [
    {
     "data": {
      "text/plain": [
       "28"
      ]
     },
     "execution_count": 162,
     "metadata": {},
     "output_type": "execute_result"
    }
   ],
   "source": [
    "correct_name_cat = without_null(cat_data, n=15000)\n",
    "len(correct_name_cat)"
   ]
  },
  {
   "cell_type": "markdown",
   "metadata": {},
   "source": [
    "Замена пропусков в тестовой выборке"
   ]
  },
  {
   "cell_type": "markdown",
   "metadata": {},
   "source": [
    "Вещественные признаки"
   ]
  },
  {
   "cell_type": "code",
   "execution_count": 163,
   "metadata": {},
   "outputs": [],
   "source": [
    "correct_data_num = train_data[correct_name_num]\n",
    "mean_data = correct_data_num.mean(axis='index')\n",
    "\n",
    "for i, name in enumerate(correct_name_num):\n",
    "    correct_data_num[name].fillna(mean_data[i], inplace=True)"
   ]
  },
  {
   "cell_type": "markdown",
   "metadata": {},
   "source": [
    "Категорилальные признаки"
   ]
  },
  {
   "cell_type": "code",
   "execution_count": 164,
   "metadata": {},
   "outputs": [],
   "source": [
    "cat_data_train = train_data[correct_name_cat]\n",
    "transform_cat_data_train = cat_data_train.copy()\n",
    "for name in cat_data_train.columns:\n",
    "    transform_cat_data_train[name] = LabelEncoder().fit_transform(cat_data_train[name])"
   ]
  },
  {
   "cell_type": "code",
   "execution_count": 165,
   "metadata": {},
   "outputs": [],
   "source": [
    "total_data_train = correct_data_num.merge(transform_cat_data_train, left_index=True, right_index=True)"
   ]
  },
  {
   "cell_type": "code",
   "execution_count": 166,
   "metadata": {},
   "outputs": [
    {
     "data": {
      "text/html": [
       "<div>\n",
       "<style scoped>\n",
       "    .dataframe tbody tr th:only-of-type {\n",
       "        vertical-align: middle;\n",
       "    }\n",
       "\n",
       "    .dataframe tbody tr th {\n",
       "        vertical-align: top;\n",
       "    }\n",
       "\n",
       "    .dataframe thead th {\n",
       "        text-align: right;\n",
       "    }\n",
       "</style>\n",
       "<table border=\"1\" class=\"dataframe\">\n",
       "  <thead>\n",
       "    <tr style=\"text-align: right;\">\n",
       "      <th></th>\n",
       "      <th>Var6</th>\n",
       "      <th>Var7</th>\n",
       "      <th>Var13</th>\n",
       "      <th>Var21</th>\n",
       "      <th>Var22</th>\n",
       "      <th>Var24</th>\n",
       "      <th>Var25</th>\n",
       "      <th>Var28</th>\n",
       "      <th>Var35</th>\n",
       "      <th>Var38</th>\n",
       "      <th>...</th>\n",
       "      <th>Var217</th>\n",
       "      <th>Var218</th>\n",
       "      <th>Var219</th>\n",
       "      <th>Var220</th>\n",
       "      <th>Var221</th>\n",
       "      <th>Var222</th>\n",
       "      <th>Var223</th>\n",
       "      <th>Var226</th>\n",
       "      <th>Var227</th>\n",
       "      <th>Var228</th>\n",
       "    </tr>\n",
       "  </thead>\n",
       "  <tbody>\n",
       "    <tr>\n",
       "      <th>0</th>\n",
       "      <td>3052.0</td>\n",
       "      <td>6.791141</td>\n",
       "      <td>1245.570151</td>\n",
       "      <td>480.0</td>\n",
       "      <td>600.0</td>\n",
       "      <td>20.0</td>\n",
       "      <td>480.0</td>\n",
       "      <td>200.00</td>\n",
       "      <td>0.0</td>\n",
       "      <td>82752.0</td>\n",
       "      <td>...</td>\n",
       "      <td>2636</td>\n",
       "      <td>1</td>\n",
       "      <td>10</td>\n",
       "      <td>1977</td>\n",
       "      <td>0</td>\n",
       "      <td>2579</td>\n",
       "      <td>0</td>\n",
       "      <td>14</td>\n",
       "      <td>0</td>\n",
       "      <td>28</td>\n",
       "    </tr>\n",
       "    <tr>\n",
       "      <th>1</th>\n",
       "      <td>1813.0</td>\n",
       "      <td>7.000000</td>\n",
       "      <td>636.000000</td>\n",
       "      <td>212.0</td>\n",
       "      <td>265.0</td>\n",
       "      <td>2.0</td>\n",
       "      <td>128.0</td>\n",
       "      <td>166.56</td>\n",
       "      <td>0.0</td>\n",
       "      <td>2706120.0</td>\n",
       "      <td>...</td>\n",
       "      <td>6740</td>\n",
       "      <td>1</td>\n",
       "      <td>10</td>\n",
       "      <td>1984</td>\n",
       "      <td>4</td>\n",
       "      <td>256</td>\n",
       "      <td>0</td>\n",
       "      <td>22</td>\n",
       "      <td>2</td>\n",
       "      <td>2</td>\n",
       "    </tr>\n",
       "    <tr>\n",
       "      <th>2</th>\n",
       "      <td>1953.0</td>\n",
       "      <td>7.000000</td>\n",
       "      <td>448.000000</td>\n",
       "      <td>176.0</td>\n",
       "      <td>220.0</td>\n",
       "      <td>0.0</td>\n",
       "      <td>72.0</td>\n",
       "      <td>311.76</td>\n",
       "      <td>0.0</td>\n",
       "      <td>4698780.0</td>\n",
       "      <td>...</td>\n",
       "      <td>6737</td>\n",
       "      <td>0</td>\n",
       "      <td>10</td>\n",
       "      <td>228</td>\n",
       "      <td>6</td>\n",
       "      <td>1758</td>\n",
       "      <td>0</td>\n",
       "      <td>7</td>\n",
       "      <td>3</td>\n",
       "      <td>24</td>\n",
       "    </tr>\n",
       "    <tr>\n",
       "      <th>3</th>\n",
       "      <td>1533.0</td>\n",
       "      <td>7.000000</td>\n",
       "      <td>4.000000</td>\n",
       "      <td>332.0</td>\n",
       "      <td>415.0</td>\n",
       "      <td>0.0</td>\n",
       "      <td>144.0</td>\n",
       "      <td>220.08</td>\n",
       "      <td>5.0</td>\n",
       "      <td>864384.0</td>\n",
       "      <td>...</td>\n",
       "      <td>2456</td>\n",
       "      <td>1</td>\n",
       "      <td>10</td>\n",
       "      <td>2679</td>\n",
       "      <td>4</td>\n",
       "      <td>1832</td>\n",
       "      <td>0</td>\n",
       "      <td>22</td>\n",
       "      <td>2</td>\n",
       "      <td>7</td>\n",
       "    </tr>\n",
       "    <tr>\n",
       "      <th>4</th>\n",
       "      <td>686.0</td>\n",
       "      <td>7.000000</td>\n",
       "      <td>0.000000</td>\n",
       "      <td>160.0</td>\n",
       "      <td>200.0</td>\n",
       "      <td>2.0</td>\n",
       "      <td>48.0</td>\n",
       "      <td>278.00</td>\n",
       "      <td>0.0</td>\n",
       "      <td>4364880.0</td>\n",
       "      <td>...</td>\n",
       "      <td>11</td>\n",
       "      <td>1</td>\n",
       "      <td>10</td>\n",
       "      <td>1154</td>\n",
       "      <td>4</td>\n",
       "      <td>965</td>\n",
       "      <td>0</td>\n",
       "      <td>12</td>\n",
       "      <td>2</td>\n",
       "      <td>7</td>\n",
       "    </tr>\n",
       "  </tbody>\n",
       "</table>\n",
       "<p>5 rows × 66 columns</p>\n",
       "</div>"
      ],
      "text/plain": [
       "     Var6      Var7        Var13  Var21  Var22  Var24  Var25   Var28  Var35  \\\n",
       "0  3052.0  6.791141  1245.570151  480.0  600.0   20.0  480.0  200.00    0.0   \n",
       "1  1813.0  7.000000   636.000000  212.0  265.0    2.0  128.0  166.56    0.0   \n",
       "2  1953.0  7.000000   448.000000  176.0  220.0    0.0   72.0  311.76    0.0   \n",
       "3  1533.0  7.000000     4.000000  332.0  415.0    0.0  144.0  220.08    5.0   \n",
       "4   686.0  7.000000     0.000000  160.0  200.0    2.0   48.0  278.00    0.0   \n",
       "\n",
       "       Var38  ...  Var217  Var218  Var219  Var220  Var221  Var222  Var223  \\\n",
       "0    82752.0  ...    2636       1      10    1977       0    2579       0   \n",
       "1  2706120.0  ...    6740       1      10    1984       4     256       0   \n",
       "2  4698780.0  ...    6737       0      10     228       6    1758       0   \n",
       "3   864384.0  ...    2456       1      10    2679       4    1832       0   \n",
       "4  4364880.0  ...      11       1      10    1154       4     965       0   \n",
       "\n",
       "   Var226  Var227  Var228  \n",
       "0      14       0      28  \n",
       "1      22       2       2  \n",
       "2       7       3      24  \n",
       "3      22       2       7  \n",
       "4      12       2       7  \n",
       "\n",
       "[5 rows x 66 columns]"
      ]
     },
     "execution_count": 166,
     "metadata": {},
     "output_type": "execute_result"
    }
   ],
   "source": [
    "total_data_train.head()"
   ]
  },
  {
   "cell_type": "markdown",
   "metadata": {},
   "source": [
    "Проверка на баланс классов"
   ]
  },
  {
   "cell_type": "code",
   "execution_count": 167,
   "metadata": {},
   "outputs": [
    {
     "data": {
      "text/plain": [
       "-1.0    16921\n",
       " 1.0     1377\n",
       "Name: labels, dtype: int64"
      ]
     },
     "execution_count": 167,
     "metadata": {},
     "output_type": "execute_result"
    }
   ],
   "source": [
    "train_labels.value_counts()"
   ]
  },
  {
   "cell_type": "markdown",
   "metadata": {},
   "source": [
    "Балансировка"
   ]
  },
  {
   "cell_type": "code",
   "execution_count": 174,
   "metadata": {},
   "outputs": [],
   "source": [
    "np.random.seed(42)\n",
    "\n",
    "n_over = len(train_labels[train_labels == -1]) - len(train_labels[train_labels == 1])\n",
    "add_data_index = np.random.choice(train_labels[train_labels==1].index, n_over)\n",
    "add_data = total_data_train.iloc[add_data_index]\n",
    "add_labels = train_labels.iloc[add_data_index]"
   ]
  },
  {
   "cell_type": "markdown",
   "metadata": {},
   "source": [
    "Формирование конченого набора данных"
   ]
  },
  {
   "cell_type": "code",
   "execution_count": 176,
   "metadata": {},
   "outputs": [],
   "source": [
    "bal_data_train = pd.concat([total_data_train, add_data]) \n",
    "bal_labels = pd.concat([train_labels, add_labels]) "
   ]
  },
  {
   "cell_type": "markdown",
   "metadata": {},
   "source": [
    "Обучение модели"
   ]
  },
  {
   "cell_type": "code",
   "execution_count": 185,
   "metadata": {},
   "outputs": [],
   "source": [
    "cv_spliter = ShuffleSplit(n_splits=5, test_size=0.4)"
   ]
  },
  {
   "cell_type": "code",
   "execution_count": 186,
   "metadata": {},
   "outputs": [],
   "source": [
    "model = xgb.XGBClassifier(n_estimators=100, max_depth=5)"
   ]
  },
  {
   "cell_type": "code",
   "execution_count": 187,
   "metadata": {},
   "outputs": [
    {
     "name": "stdout",
     "output_type": "stream",
     "text": [
      "[16:50:16] WARNING: ..\\src\\learner.cc:1115: Starting in XGBoost 1.3.0, the default evaluation metric used with the objective 'binary:logistic' was changed from 'error' to 'logloss'. Explicitly set eval_metric if you'd like to restore the old behavior.\n",
      "[16:50:18] WARNING: ..\\src\\learner.cc:1115: Starting in XGBoost 1.3.0, the default evaluation metric used with the objective 'binary:logistic' was changed from 'error' to 'logloss'. Explicitly set eval_metric if you'd like to restore the old behavior.\n",
      "[16:50:20] WARNING: ..\\src\\learner.cc:1115: Starting in XGBoost 1.3.0, the default evaluation metric used with the objective 'binary:logistic' was changed from 'error' to 'logloss'. Explicitly set eval_metric if you'd like to restore the old behavior.\n",
      "[16:50:22] WARNING: ..\\src\\learner.cc:1115: Starting in XGBoost 1.3.0, the default evaluation metric used with the objective 'binary:logistic' was changed from 'error' to 'logloss'. Explicitly set eval_metric if you'd like to restore the old behavior.\n",
      "[16:50:25] WARNING: ..\\src\\learner.cc:1115: Starting in XGBoost 1.3.0, the default evaluation metric used with the objective 'binary:logistic' was changed from 'error' to 'logloss'. Explicitly set eval_metric if you'd like to restore the old behavior.\n"
     ]
    }
   ],
   "source": [
    "cv_res = cross_val_score(model, bal_data_train, bal_labels, cv=cv_spliter, scoring='roc_auc')"
   ]
  },
  {
   "cell_type": "code",
   "execution_count": 188,
   "metadata": {},
   "outputs": [
    {
     "data": {
      "text/plain": [
       "array([0.97633091, 0.97507868, 0.97158119, 0.97330225, 0.97533773])"
      ]
     },
     "execution_count": 188,
     "metadata": {},
     "output_type": "execute_result"
    }
   ],
   "source": [
    "cv_res"
   ]
  },
  {
   "cell_type": "code",
   "execution_count": 193,
   "metadata": {},
   "outputs": [
    {
     "name": "stdout",
     "output_type": "stream",
     "text": [
      "[16:57:52] WARNING: ..\\src\\learner.cc:1115: Starting in XGBoost 1.3.0, the default evaluation metric used with the objective 'binary:logistic' was changed from 'error' to 'logloss'. Explicitly set eval_metric if you'd like to restore the old behavior.\n"
     ]
    }
   ],
   "source": [
    "model_total = model.fit(bal_data_train, bal_labels)"
   ]
  },
  {
   "cell_type": "markdown",
   "metadata": {},
   "source": [
    "Предсказание на тесте"
   ]
  },
  {
   "cell_type": "markdown",
   "metadata": {},
   "source": [
    "Предобработка данных на тесте"
   ]
  },
  {
   "cell_type": "code",
   "execution_count": 190,
   "metadata": {},
   "outputs": [],
   "source": [
    "correct_data_num_test = test_data[correct_name_num]\n",
    "mean_data = correct_data_num_test.mean(axis='index')\n",
    "\n",
    "for i, name in enumerate(correct_name_num):\n",
    "    correct_data_num_test[name].fillna(mean_data[i], inplace=True)"
   ]
  },
  {
   "cell_type": "markdown",
   "metadata": {},
   "source": [
    "ВОт тут нужно преобразовывать уже готовым инколингом а не обучать его на тестовом наборе"
   ]
  },
  {
   "cell_type": "code",
   "execution_count": 191,
   "metadata": {},
   "outputs": [],
   "source": [
    "cat_data_test = test_data[correct_name_cat]\n",
    "transform_cat_data_test = cat_data_test.copy()\n",
    "for name in cat_data_test.columns:\n",
    "    transform_cat_data_test[name] = LabelEncoder().fit_transform(cat_data_test[name])"
   ]
  },
  {
   "cell_type": "code",
   "execution_count": 192,
   "metadata": {},
   "outputs": [],
   "source": [
    "total_data_test = correct_data_num_test.merge(transform_cat_data_test, left_index=True, right_index=True)"
   ]
  },
  {
   "cell_type": "code",
   "execution_count": 194,
   "metadata": {},
   "outputs": [],
   "source": [
    "predict_test_proba = model_total.predict_proba(total_data_test)\n"
   ]
  },
  {
   "cell_type": "code",
   "execution_count": 195,
   "metadata": {},
   "outputs": [],
   "source": [
    "out_df = pd.DataFrame(enumerate(predict_test_proba[:,1]), columns=['Id', 'result'])\n",
    "out_df.to_csv('output_df.csv', sep=',', index=False)"
   ]
  },
  {
   "cell_type": "code",
   "execution_count": null,
   "metadata": {},
   "outputs": [],
   "source": []
  }
 ],
 "metadata": {
  "colab": {
   "collapsed_sections": [],
   "name": "week_4.ipynb",
   "provenance": []
  },
  "kernelspec": {
   "display_name": "Python 3",
   "language": "python",
   "name": "python3"
  },
  "language_info": {
   "codemirror_mode": {
    "name": "ipython",
    "version": 3
   },
   "file_extension": ".py",
   "mimetype": "text/x-python",
   "name": "python",
   "nbconvert_exporter": "python",
   "pygments_lexer": "ipython3",
   "version": "3.8.8"
  }
 },
 "nbformat": 4,
 "nbformat_minor": 1
}
